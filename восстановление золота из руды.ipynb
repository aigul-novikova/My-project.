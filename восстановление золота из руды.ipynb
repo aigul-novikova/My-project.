{
 "cells": [
  {
   "cell_type": "markdown",
   "metadata": {
    "toc": true
   },
   "source": [
    "<h1>Содержание<span class=\"tocSkip\"></span></h1>\n",
    "<div class=\"toc\"><ul class=\"toc-item\"><li><span><a href=\"#Подготовка-данных\" data-toc-modified-id=\"Подготовка-данных-1\"><span class=\"toc-item-num\">1&nbsp;&nbsp;</span>Подготовка данных</a></span><ul class=\"toc-item\"><li><span><a href=\"#Проверка-на-эффективность-обогащения\" data-toc-modified-id=\"Проверка-на-эффективность-обогащения-1.1\"><span class=\"toc-item-num\">1.1&nbsp;&nbsp;</span>Проверка на эффективность обогащения</a></span></li><li><span><a href=\"#Анализ-признаков,-недоступных-в-тестовой-выборке\" data-toc-modified-id=\"Анализ-признаков,-недоступных-в-тестовой-выборке-1.2\"><span class=\"toc-item-num\">1.2&nbsp;&nbsp;</span>Анализ признаков, недоступных в тестовой выборке</a></span></li><li><span><a href=\"#Предобработка-данных\" data-toc-modified-id=\"Предобработка-данных-1.3\"><span class=\"toc-item-num\">1.3&nbsp;&nbsp;</span>Предобработка данных</a></span></li></ul></li><li><span><a href=\"#Анализ-данных\" data-toc-modified-id=\"Анализ-данных-2\"><span class=\"toc-item-num\">2&nbsp;&nbsp;</span>Анализ данных</a></span><ul class=\"toc-item\"><li><span><a href=\"#Изменение-концентрации-металлов-(Au,-Ag,-Pb)-на-различных-этапах-очистки\" data-toc-modified-id=\"Изменение-концентрации-металлов-(Au,-Ag,-Pb)-на-различных-этапах-очистки-2.1\"><span class=\"toc-item-num\">2.1&nbsp;&nbsp;</span>Изменение концентрации металлов (Au, Ag, Pb) на различных этапах очистки</a></span></li><li><span><a href=\"#Распределение-размеров-гранул-сырья-на-обучающей-и-тестовой-выборках\" data-toc-modified-id=\"Распределение-размеров-гранул-сырья-на-обучающей-и-тестовой-выборках-2.2\"><span class=\"toc-item-num\">2.2&nbsp;&nbsp;</span>Распределение размеров гранул сырья на обучающей и тестовой выборках</a></span></li><li><span><a href=\"#Суммарная-концентрация-всех-веществ-на-разных-стадиях:-в-сырье,-в-черновом-и-финальном-концентратах\" data-toc-modified-id=\"Суммарная-концентрация-всех-веществ-на-разных-стадиях:-в-сырье,-в-черновом-и-финальном-концентратах-2.3\"><span class=\"toc-item-num\">2.3&nbsp;&nbsp;</span>Суммарная концентрация всех веществ на разных стадиях: в сырье, в черновом и финальном концентратах</a></span></li></ul></li><li><span><a href=\"#Модель\" data-toc-modified-id=\"Модель-3\"><span class=\"toc-item-num\">3&nbsp;&nbsp;</span>Модель</a></span><ul class=\"toc-item\"><li><span><a href=\"#Функция-для-вычисления-итоговой-sMAPE\" data-toc-modified-id=\"Функция-для-вычисления-итоговой-sMAPE-3.1\"><span class=\"toc-item-num\">3.1&nbsp;&nbsp;</span>Функция для вычисления итоговой sMAPE</a></span></li><li><span><a href=\"#Поиск-модели-с-параметрами-лучшего-результата\" data-toc-modified-id=\"Поиск-модели-с-параметрами-лучшего-результата-3.2\"><span class=\"toc-item-num\">3.2&nbsp;&nbsp;</span>Поиск модели с параметрами лучшего результата</a></span></li><li><span><a href=\"#Тестирование-модели\" data-toc-modified-id=\"Тестирование-модели-3.3\"><span class=\"toc-item-num\">3.3&nbsp;&nbsp;</span>Тестирование модели</a></span></li></ul></li><li><span><a href=\"#Вывод\" data-toc-modified-id=\"Вывод-4\"><span class=\"toc-item-num\">4&nbsp;&nbsp;</span>Вывод</a></span></li><li><span><a href=\"#Чек-лист-готовности-проекта\" data-toc-modified-id=\"Чек-лист-готовности-проекта-5\"><span class=\"toc-item-num\">5&nbsp;&nbsp;</span>Чек-лист готовности проекта</a></span></li></ul></div>"
   ]
  },
  {
   "cell_type": "markdown",
   "metadata": {},
   "source": [
    "# Восстановление золота из руды"
   ]
  },
  {
   "cell_type": "markdown",
   "metadata": {},
   "source": [
    "Подготовьте прототип модели машинного обучения для «Цифры». Компания разрабатывает решения для эффективной работы промышленных предприятий.\n",
    "\n",
    "Модель должна предсказать коэффициент восстановления золота из золотосодержащей руды. Используйте данные с параметрами добычи и очистки. \n",
    "\n",
    "Модель поможет оптимизировать производство, чтобы не запускать предприятие с убыточными характеристиками.\n",
    "\n",
    "Вам нужно:\n",
    "\n",
    "1. Подготовить данные;\n",
    "2. Провести исследовательский анализ данных;\n",
    "3. Построить и обучить модель.\n",
    "\n",
    "Чтобы выполнить проект, обращайтесь к библиотекам *pandas*, *matplotlib* и *sklearn.* Вам поможет их документация."
   ]
  },
  {
   "cell_type": "markdown",
   "metadata": {},
   "source": [
    "## Подготовка данных"
   ]
  },
  {
   "cell_type": "code",
   "execution_count": 1,
   "metadata": {},
   "outputs": [],
   "source": [
    "import pandas as pd\n",
    "import seaborn as sns\n",
    "import numpy as np\n",
    "from matplotlib import pyplot as plt\n",
    "from sklearn.metrics import mean_absolute_error, make_scorer\n",
    "from sklearn.linear_model import LinearRegression\n",
    "from sklearn.ensemble import RandomForestRegressor\n",
    "from sklearn.model_selection import train_test_split\n",
    "from sklearn.preprocessing import StandardScaler\n",
    "from sklearn.model_selection import TimeSeriesSplit, cross_val_score, StratifiedKFold, GridSearchCV, cross_validate, KFold\n",
    "from sklearn.tree import DecisionTreeRegressor\n",
    "from numpy.random import RandomState\n",
    "from sklearn.pipeline import Pipeline\n",
    "from sklearn.impute import SimpleImputer\n",
    "from sklearn.dummy import DummyRegressor"
   ]
  },
  {
   "cell_type": "code",
   "execution_count": 2,
   "metadata": {},
   "outputs": [],
   "source": [
    "gold_train = pd.read_csv('/datasets/gold_recovery_train.csv', index_col='date', parse_dates=True)\n",
    "gold_test = pd.read_csv('/datasets/gold_recovery_test.csv', index_col='date', parse_dates=True)\n",
    "gold_full = pd.read_csv('/datasets/gold_recovery_full.csv', index_col='date', parse_dates=True)"
   ]
  },
  {
   "cell_type": "code",
   "execution_count": 3,
   "metadata": {
    "scrolled": true
   },
   "outputs": [
    {
     "name": "stdout",
     "output_type": "stream",
     "text": [
      "<class 'pandas.core.frame.DataFrame'>\n",
      "DatetimeIndex: 16860 entries, 2016-01-15 00:00:00 to 2018-08-18 10:59:59\n",
      "Data columns (total 86 columns):\n",
      " #   Column                                              Non-Null Count  Dtype  \n",
      "---  ------                                              --------------  -----  \n",
      " 0   final.output.concentrate_ag                         16788 non-null  float64\n",
      " 1   final.output.concentrate_pb                         16788 non-null  float64\n",
      " 2   final.output.concentrate_sol                        16490 non-null  float64\n",
      " 3   final.output.concentrate_au                         16789 non-null  float64\n",
      " 4   final.output.recovery                               15339 non-null  float64\n",
      " 5   final.output.tail_ag                                16794 non-null  float64\n",
      " 6   final.output.tail_pb                                16677 non-null  float64\n",
      " 7   final.output.tail_sol                               16715 non-null  float64\n",
      " 8   final.output.tail_au                                16794 non-null  float64\n",
      " 9   primary_cleaner.input.sulfate                       15553 non-null  float64\n",
      " 10  primary_cleaner.input.depressant                    15598 non-null  float64\n",
      " 11  primary_cleaner.input.feed_size                     16860 non-null  float64\n",
      " 12  primary_cleaner.input.xanthate                      15875 non-null  float64\n",
      " 13  primary_cleaner.output.concentrate_ag               16778 non-null  float64\n",
      " 14  primary_cleaner.output.concentrate_pb               16502 non-null  float64\n",
      " 15  primary_cleaner.output.concentrate_sol              16224 non-null  float64\n",
      " 16  primary_cleaner.output.concentrate_au               16778 non-null  float64\n",
      " 17  primary_cleaner.output.tail_ag                      16777 non-null  float64\n",
      " 18  primary_cleaner.output.tail_pb                      16761 non-null  float64\n",
      " 19  primary_cleaner.output.tail_sol                     16579 non-null  float64\n",
      " 20  primary_cleaner.output.tail_au                      16777 non-null  float64\n",
      " 21  primary_cleaner.state.floatbank8_a_air              16820 non-null  float64\n",
      " 22  primary_cleaner.state.floatbank8_a_level            16827 non-null  float64\n",
      " 23  primary_cleaner.state.floatbank8_b_air              16820 non-null  float64\n",
      " 24  primary_cleaner.state.floatbank8_b_level            16833 non-null  float64\n",
      " 25  primary_cleaner.state.floatbank8_c_air              16822 non-null  float64\n",
      " 26  primary_cleaner.state.floatbank8_c_level            16833 non-null  float64\n",
      " 27  primary_cleaner.state.floatbank8_d_air              16821 non-null  float64\n",
      " 28  primary_cleaner.state.floatbank8_d_level            16833 non-null  float64\n",
      " 29  rougher.calculation.sulfate_to_au_concentrate       16833 non-null  float64\n",
      " 30  rougher.calculation.floatbank10_sulfate_to_au_feed  16833 non-null  float64\n",
      " 31  rougher.calculation.floatbank11_sulfate_to_au_feed  16833 non-null  float64\n",
      " 32  rougher.calculation.au_pb_ratio                     15618 non-null  float64\n",
      " 33  rougher.input.feed_ag                               16778 non-null  float64\n",
      " 34  rougher.input.feed_pb                               16632 non-null  float64\n",
      " 35  rougher.input.feed_rate                             16347 non-null  float64\n",
      " 36  rougher.input.feed_size                             16443 non-null  float64\n",
      " 37  rougher.input.feed_sol                              16568 non-null  float64\n",
      " 38  rougher.input.feed_au                               16777 non-null  float64\n",
      " 39  rougher.input.floatbank10_sulfate                   15816 non-null  float64\n",
      " 40  rougher.input.floatbank10_xanthate                  16514 non-null  float64\n",
      " 41  rougher.input.floatbank11_sulfate                   16237 non-null  float64\n",
      " 42  rougher.input.floatbank11_xanthate                  14956 non-null  float64\n",
      " 43  rougher.output.concentrate_ag                       16778 non-null  float64\n",
      " 44  rougher.output.concentrate_pb                       16778 non-null  float64\n",
      " 45  rougher.output.concentrate_sol                      16698 non-null  float64\n",
      " 46  rougher.output.concentrate_au                       16778 non-null  float64\n",
      " 47  rougher.output.recovery                             14287 non-null  float64\n",
      " 48  rougher.output.tail_ag                              14610 non-null  float64\n",
      " 49  rougher.output.tail_pb                              16778 non-null  float64\n",
      " 50  rougher.output.tail_sol                             14611 non-null  float64\n",
      " 51  rougher.output.tail_au                              14611 non-null  float64\n",
      " 52  rougher.state.floatbank10_a_air                     16807 non-null  float64\n",
      " 53  rougher.state.floatbank10_a_level                   16807 non-null  float64\n",
      " 54  rougher.state.floatbank10_b_air                     16807 non-null  float64\n",
      " 55  rougher.state.floatbank10_b_level                   16807 non-null  float64\n",
      " 56  rougher.state.floatbank10_c_air                     16807 non-null  float64\n",
      " 57  rougher.state.floatbank10_c_level                   16814 non-null  float64\n",
      " 58  rougher.state.floatbank10_d_air                     16802 non-null  float64\n",
      " 59  rougher.state.floatbank10_d_level                   16809 non-null  float64\n",
      " 60  rougher.state.floatbank10_e_air                     16257 non-null  float64\n",
      " 61  rougher.state.floatbank10_e_level                   16809 non-null  float64\n",
      " 62  rougher.state.floatbank10_f_air                     16802 non-null  float64\n",
      " 63  rougher.state.floatbank10_f_level                   16802 non-null  float64\n",
      " 64  secondary_cleaner.output.tail_ag                    16776 non-null  float64\n",
      " 65  secondary_cleaner.output.tail_pb                    16764 non-null  float64\n",
      " 66  secondary_cleaner.output.tail_sol                   14874 non-null  float64\n",
      " 67  secondary_cleaner.output.tail_au                    16778 non-null  float64\n",
      " 68  secondary_cleaner.state.floatbank2_a_air            16497 non-null  float64\n",
      " 69  secondary_cleaner.state.floatbank2_a_level          16751 non-null  float64\n",
      " 70  secondary_cleaner.state.floatbank2_b_air            16705 non-null  float64\n",
      " 71  secondary_cleaner.state.floatbank2_b_level          16748 non-null  float64\n",
      " 72  secondary_cleaner.state.floatbank3_a_air            16763 non-null  float64\n",
      " 73  secondary_cleaner.state.floatbank3_a_level          16747 non-null  float64\n",
      " 74  secondary_cleaner.state.floatbank3_b_air            16752 non-null  float64\n",
      " 75  secondary_cleaner.state.floatbank3_b_level          16750 non-null  float64\n",
      " 76  secondary_cleaner.state.floatbank4_a_air            16731 non-null  float64\n",
      " 77  secondary_cleaner.state.floatbank4_a_level          16747 non-null  float64\n",
      " 78  secondary_cleaner.state.floatbank4_b_air            16768 non-null  float64\n",
      " 79  secondary_cleaner.state.floatbank4_b_level          16767 non-null  float64\n",
      " 80  secondary_cleaner.state.floatbank5_a_air            16775 non-null  float64\n",
      " 81  secondary_cleaner.state.floatbank5_a_level          16775 non-null  float64\n",
      " 82  secondary_cleaner.state.floatbank5_b_air            16775 non-null  float64\n",
      " 83  secondary_cleaner.state.floatbank5_b_level          16776 non-null  float64\n",
      " 84  secondary_cleaner.state.floatbank6_a_air            16757 non-null  float64\n",
      " 85  secondary_cleaner.state.floatbank6_a_level          16775 non-null  float64\n",
      "dtypes: float64(86)\n",
      "memory usage: 11.2 MB\n"
     ]
    }
   ],
   "source": [
    "gold_train.info()"
   ]
  },
  {
   "cell_type": "code",
   "execution_count": 4,
   "metadata": {
    "scrolled": true
   },
   "outputs": [
    {
     "name": "stdout",
     "output_type": "stream",
     "text": [
      "<class 'pandas.core.frame.DataFrame'>\n",
      "DatetimeIndex: 5856 entries, 2016-09-01 00:59:59 to 2017-12-31 23:59:59\n",
      "Data columns (total 52 columns):\n",
      " #   Column                                      Non-Null Count  Dtype  \n",
      "---  ------                                      --------------  -----  \n",
      " 0   primary_cleaner.input.sulfate               5554 non-null   float64\n",
      " 1   primary_cleaner.input.depressant            5572 non-null   float64\n",
      " 2   primary_cleaner.input.feed_size             5856 non-null   float64\n",
      " 3   primary_cleaner.input.xanthate              5690 non-null   float64\n",
      " 4   primary_cleaner.state.floatbank8_a_air      5840 non-null   float64\n",
      " 5   primary_cleaner.state.floatbank8_a_level    5840 non-null   float64\n",
      " 6   primary_cleaner.state.floatbank8_b_air      5840 non-null   float64\n",
      " 7   primary_cleaner.state.floatbank8_b_level    5840 non-null   float64\n",
      " 8   primary_cleaner.state.floatbank8_c_air      5840 non-null   float64\n",
      " 9   primary_cleaner.state.floatbank8_c_level    5840 non-null   float64\n",
      " 10  primary_cleaner.state.floatbank8_d_air      5840 non-null   float64\n",
      " 11  primary_cleaner.state.floatbank8_d_level    5840 non-null   float64\n",
      " 12  rougher.input.feed_ag                       5840 non-null   float64\n",
      " 13  rougher.input.feed_pb                       5840 non-null   float64\n",
      " 14  rougher.input.feed_rate                     5816 non-null   float64\n",
      " 15  rougher.input.feed_size                     5834 non-null   float64\n",
      " 16  rougher.input.feed_sol                      5789 non-null   float64\n",
      " 17  rougher.input.feed_au                       5840 non-null   float64\n",
      " 18  rougher.input.floatbank10_sulfate           5599 non-null   float64\n",
      " 19  rougher.input.floatbank10_xanthate          5733 non-null   float64\n",
      " 20  rougher.input.floatbank11_sulfate           5801 non-null   float64\n",
      " 21  rougher.input.floatbank11_xanthate          5503 non-null   float64\n",
      " 22  rougher.state.floatbank10_a_air             5839 non-null   float64\n",
      " 23  rougher.state.floatbank10_a_level           5840 non-null   float64\n",
      " 24  rougher.state.floatbank10_b_air             5839 non-null   float64\n",
      " 25  rougher.state.floatbank10_b_level           5840 non-null   float64\n",
      " 26  rougher.state.floatbank10_c_air             5839 non-null   float64\n",
      " 27  rougher.state.floatbank10_c_level           5840 non-null   float64\n",
      " 28  rougher.state.floatbank10_d_air             5839 non-null   float64\n",
      " 29  rougher.state.floatbank10_d_level           5840 non-null   float64\n",
      " 30  rougher.state.floatbank10_e_air             5839 non-null   float64\n",
      " 31  rougher.state.floatbank10_e_level           5840 non-null   float64\n",
      " 32  rougher.state.floatbank10_f_air             5839 non-null   float64\n",
      " 33  rougher.state.floatbank10_f_level           5840 non-null   float64\n",
      " 34  secondary_cleaner.state.floatbank2_a_air    5836 non-null   float64\n",
      " 35  secondary_cleaner.state.floatbank2_a_level  5840 non-null   float64\n",
      " 36  secondary_cleaner.state.floatbank2_b_air    5833 non-null   float64\n",
      " 37  secondary_cleaner.state.floatbank2_b_level  5840 non-null   float64\n",
      " 38  secondary_cleaner.state.floatbank3_a_air    5822 non-null   float64\n",
      " 39  secondary_cleaner.state.floatbank3_a_level  5840 non-null   float64\n",
      " 40  secondary_cleaner.state.floatbank3_b_air    5840 non-null   float64\n",
      " 41  secondary_cleaner.state.floatbank3_b_level  5840 non-null   float64\n",
      " 42  secondary_cleaner.state.floatbank4_a_air    5840 non-null   float64\n",
      " 43  secondary_cleaner.state.floatbank4_a_level  5840 non-null   float64\n",
      " 44  secondary_cleaner.state.floatbank4_b_air    5840 non-null   float64\n",
      " 45  secondary_cleaner.state.floatbank4_b_level  5840 non-null   float64\n",
      " 46  secondary_cleaner.state.floatbank5_a_air    5840 non-null   float64\n",
      " 47  secondary_cleaner.state.floatbank5_a_level  5840 non-null   float64\n",
      " 48  secondary_cleaner.state.floatbank5_b_air    5840 non-null   float64\n",
      " 49  secondary_cleaner.state.floatbank5_b_level  5840 non-null   float64\n",
      " 50  secondary_cleaner.state.floatbank6_a_air    5840 non-null   float64\n",
      " 51  secondary_cleaner.state.floatbank6_a_level  5840 non-null   float64\n",
      "dtypes: float64(52)\n",
      "memory usage: 2.4 MB\n"
     ]
    }
   ],
   "source": [
    "gold_test.info()"
   ]
  },
  {
   "cell_type": "code",
   "execution_count": 5,
   "metadata": {
    "scrolled": false
   },
   "outputs": [
    {
     "name": "stdout",
     "output_type": "stream",
     "text": [
      "<class 'pandas.core.frame.DataFrame'>\n",
      "DatetimeIndex: 22716 entries, 2016-01-15 00:00:00 to 2018-08-18 10:59:59\n",
      "Data columns (total 86 columns):\n",
      " #   Column                                              Non-Null Count  Dtype  \n",
      "---  ------                                              --------------  -----  \n",
      " 0   final.output.concentrate_ag                         22627 non-null  float64\n",
      " 1   final.output.concentrate_pb                         22629 non-null  float64\n",
      " 2   final.output.concentrate_sol                        22331 non-null  float64\n",
      " 3   final.output.concentrate_au                         22630 non-null  float64\n",
      " 4   final.output.recovery                               20753 non-null  float64\n",
      " 5   final.output.tail_ag                                22633 non-null  float64\n",
      " 6   final.output.tail_pb                                22516 non-null  float64\n",
      " 7   final.output.tail_sol                               22445 non-null  float64\n",
      " 8   final.output.tail_au                                22635 non-null  float64\n",
      " 9   primary_cleaner.input.sulfate                       21107 non-null  float64\n",
      " 10  primary_cleaner.input.depressant                    21170 non-null  float64\n",
      " 11  primary_cleaner.input.feed_size                     22716 non-null  float64\n",
      " 12  primary_cleaner.input.xanthate                      21565 non-null  float64\n",
      " 13  primary_cleaner.output.concentrate_ag               22618 non-null  float64\n",
      " 14  primary_cleaner.output.concentrate_pb               22268 non-null  float64\n",
      " 15  primary_cleaner.output.concentrate_sol              21918 non-null  float64\n",
      " 16  primary_cleaner.output.concentrate_au               22618 non-null  float64\n",
      " 17  primary_cleaner.output.tail_ag                      22614 non-null  float64\n",
      " 18  primary_cleaner.output.tail_pb                      22594 non-null  float64\n",
      " 19  primary_cleaner.output.tail_sol                     22365 non-null  float64\n",
      " 20  primary_cleaner.output.tail_au                      22617 non-null  float64\n",
      " 21  primary_cleaner.state.floatbank8_a_air              22660 non-null  float64\n",
      " 22  primary_cleaner.state.floatbank8_a_level            22667 non-null  float64\n",
      " 23  primary_cleaner.state.floatbank8_b_air              22660 non-null  float64\n",
      " 24  primary_cleaner.state.floatbank8_b_level            22673 non-null  float64\n",
      " 25  primary_cleaner.state.floatbank8_c_air              22662 non-null  float64\n",
      " 26  primary_cleaner.state.floatbank8_c_level            22673 non-null  float64\n",
      " 27  primary_cleaner.state.floatbank8_d_air              22661 non-null  float64\n",
      " 28  primary_cleaner.state.floatbank8_d_level            22673 non-null  float64\n",
      " 29  rougher.calculation.sulfate_to_au_concentrate       22672 non-null  float64\n",
      " 30  rougher.calculation.floatbank10_sulfate_to_au_feed  22672 non-null  float64\n",
      " 31  rougher.calculation.floatbank11_sulfate_to_au_feed  22672 non-null  float64\n",
      " 32  rougher.calculation.au_pb_ratio                     21089 non-null  float64\n",
      " 33  rougher.input.feed_ag                               22618 non-null  float64\n",
      " 34  rougher.input.feed_pb                               22472 non-null  float64\n",
      " 35  rougher.input.feed_rate                             22163 non-null  float64\n",
      " 36  rougher.input.feed_size                             22277 non-null  float64\n",
      " 37  rougher.input.feed_sol                              22357 non-null  float64\n",
      " 38  rougher.input.feed_au                               22617 non-null  float64\n",
      " 39  rougher.input.floatbank10_sulfate                   21415 non-null  float64\n",
      " 40  rougher.input.floatbank10_xanthate                  22247 non-null  float64\n",
      " 41  rougher.input.floatbank11_sulfate                   22038 non-null  float64\n",
      " 42  rougher.input.floatbank11_xanthate                  20459 non-null  float64\n",
      " 43  rougher.output.concentrate_ag                       22618 non-null  float64\n",
      " 44  rougher.output.concentrate_pb                       22618 non-null  float64\n",
      " 45  rougher.output.concentrate_sol                      22526 non-null  float64\n",
      " 46  rougher.output.concentrate_au                       22618 non-null  float64\n",
      " 47  rougher.output.recovery                             19597 non-null  float64\n",
      " 48  rougher.output.tail_ag                              19979 non-null  float64\n",
      " 49  rougher.output.tail_pb                              22618 non-null  float64\n",
      " 50  rougher.output.tail_sol                             19980 non-null  float64\n",
      " 51  rougher.output.tail_au                              19980 non-null  float64\n",
      " 52  rougher.state.floatbank10_a_air                     22646 non-null  float64\n",
      " 53  rougher.state.floatbank10_a_level                   22647 non-null  float64\n",
      " 54  rougher.state.floatbank10_b_air                     22646 non-null  float64\n",
      " 55  rougher.state.floatbank10_b_level                   22647 non-null  float64\n",
      " 56  rougher.state.floatbank10_c_air                     22646 non-null  float64\n",
      " 57  rougher.state.floatbank10_c_level                   22654 non-null  float64\n",
      " 58  rougher.state.floatbank10_d_air                     22641 non-null  float64\n",
      " 59  rougher.state.floatbank10_d_level                   22649 non-null  float64\n",
      " 60  rougher.state.floatbank10_e_air                     22096 non-null  float64\n",
      " 61  rougher.state.floatbank10_e_level                   22649 non-null  float64\n",
      " 62  rougher.state.floatbank10_f_air                     22641 non-null  float64\n",
      " 63  rougher.state.floatbank10_f_level                   22642 non-null  float64\n",
      " 64  secondary_cleaner.output.tail_ag                    22616 non-null  float64\n",
      " 65  secondary_cleaner.output.tail_pb                    22600 non-null  float64\n",
      " 66  secondary_cleaner.output.tail_sol                   20501 non-null  float64\n",
      " 67  secondary_cleaner.output.tail_au                    22618 non-null  float64\n",
      " 68  secondary_cleaner.state.floatbank2_a_air            22333 non-null  float64\n",
      " 69  secondary_cleaner.state.floatbank2_a_level          22591 non-null  float64\n",
      " 70  secondary_cleaner.state.floatbank2_b_air            22538 non-null  float64\n",
      " 71  secondary_cleaner.state.floatbank2_b_level          22588 non-null  float64\n",
      " 72  secondary_cleaner.state.floatbank3_a_air            22585 non-null  float64\n",
      " 73  secondary_cleaner.state.floatbank3_a_level          22587 non-null  float64\n",
      " 74  secondary_cleaner.state.floatbank3_b_air            22592 non-null  float64\n",
      " 75  secondary_cleaner.state.floatbank3_b_level          22590 non-null  float64\n",
      " 76  secondary_cleaner.state.floatbank4_a_air            22571 non-null  float64\n",
      " 77  secondary_cleaner.state.floatbank4_a_level          22587 non-null  float64\n",
      " 78  secondary_cleaner.state.floatbank4_b_air            22608 non-null  float64\n",
      " 79  secondary_cleaner.state.floatbank4_b_level          22607 non-null  float64\n",
      " 80  secondary_cleaner.state.floatbank5_a_air            22615 non-null  float64\n",
      " 81  secondary_cleaner.state.floatbank5_a_level          22615 non-null  float64\n",
      " 82  secondary_cleaner.state.floatbank5_b_air            22615 non-null  float64\n",
      " 83  secondary_cleaner.state.floatbank5_b_level          22616 non-null  float64\n",
      " 84  secondary_cleaner.state.floatbank6_a_air            22597 non-null  float64\n",
      " 85  secondary_cleaner.state.floatbank6_a_level          22615 non-null  float64\n",
      "dtypes: float64(86)\n",
      "memory usage: 15.1 MB\n"
     ]
    }
   ],
   "source": [
    "gold_full.info()"
   ]
  },
  {
   "cell_type": "markdown",
   "metadata": {},
   "source": [
    "### Проверка на эффективность обогащения"
   ]
  },
  {
   "cell_type": "code",
   "execution_count": 6,
   "metadata": {},
   "outputs": [],
   "source": [
    "#выборка из показателей, нужных для расчёта\n",
    "train_recovery_check = gold_train[['rougher.output.concentrate_au','rougher.output.recovery', 'rougher.output.tail_au', 'rougher.input.feed_au']]\n"
   ]
  },
  {
   "cell_type": "code",
   "execution_count": 7,
   "metadata": {},
   "outputs": [],
   "source": [
    "#удаление пропущенных знячений из выборки\n",
    "train_recovery_check = train_recovery_check.loc[train_recovery_check['rougher.output.recovery'].isna() != True].dropna()\n",
    "\n"
   ]
  },
  {
   "cell_type": "code",
   "execution_count": 8,
   "metadata": {},
   "outputs": [],
   "source": [
    "# Функция, рассчитывающая эффективность обогащения\n",
    "def recovery(row):\n",
    "    # c - доля золота в концентрате после флотации/очистки;\n",
    "    c = row[ 'rougher.output.concentrate_au']\n",
    "    # f - доля золота в сырье/концентрате до флотации/очистки;\n",
    "    f = row['rougher.input.feed_au']\n",
    "    # t - доля золота в отвальных хвостах после флотации/очистки.\n",
    "    t = row['rougher.output.tail_au']\n",
    "    recovery = (c * (f - t) )/( f * (c - t))\n",
    "    return recovery * 100"
   ]
  },
  {
   "cell_type": "code",
   "execution_count": 9,
   "metadata": {},
   "outputs": [],
   "source": [
    "#добавление в выборку столбца, с рассчитанной по формуле эффективностью обогащения\n",
    "train_recovery_check['recovery_check'] = train_recovery_check.apply(recovery, axis=1)"
   ]
  },
  {
   "cell_type": "code",
   "execution_count": 10,
   "metadata": {},
   "outputs": [
    {
     "data": {
      "text/plain": [
       "9.303415616264301e-15"
      ]
     },
     "execution_count": 10,
     "metadata": {},
     "output_type": "execute_result"
    }
   ],
   "source": [
    "#МАЕ между полученной эффективностью обогащения и данными из таблицы\n",
    "mean_absolute_error(train_recovery_check['rougher.output.recovery'], train_recovery_check['recovery_check'])"
   ]
  },
  {
   "cell_type": "markdown",
   "metadata": {},
   "source": [
    "Полученное значение МАЕ говорит о том, что данные из таблицы, от вычесленных значений отличаются на маленькое число в -15 степени, то есть, практически не отличаются, а значит эффективность обогощения рассчитана верно."
   ]
  },
  {
   "cell_type": "markdown",
   "metadata": {},
   "source": [
    "### Анализ признаков, недоступных в тестовой выборке"
   ]
  },
  {
   "cell_type": "code",
   "execution_count": 11,
   "metadata": {},
   "outputs": [],
   "source": [
    "#Данные отсутствующие в тестовой выборке\n",
    "result = []\n",
    "for train_val in gold_train.columns:\n",
    "    flag = False\n",
    "    for test_val in gold_test.columns:\n",
    "        if train_val == test_val:\n",
    "            flag = True\n",
    "            break;\n",
    "    if not(flag):\n",
    "        result.append(train_val)"
   ]
  },
  {
   "cell_type": "code",
   "execution_count": 12,
   "metadata": {},
   "outputs": [
    {
     "data": {
      "text/plain": [
       "['final.output.concentrate_ag',\n",
       " 'final.output.concentrate_pb',\n",
       " 'final.output.concentrate_sol',\n",
       " 'final.output.concentrate_au',\n",
       " 'final.output.recovery',\n",
       " 'final.output.tail_ag',\n",
       " 'final.output.tail_pb',\n",
       " 'final.output.tail_sol',\n",
       " 'final.output.tail_au',\n",
       " 'primary_cleaner.output.concentrate_ag',\n",
       " 'primary_cleaner.output.concentrate_pb',\n",
       " 'primary_cleaner.output.concentrate_sol',\n",
       " 'primary_cleaner.output.concentrate_au',\n",
       " 'primary_cleaner.output.tail_ag',\n",
       " 'primary_cleaner.output.tail_pb',\n",
       " 'primary_cleaner.output.tail_sol',\n",
       " 'primary_cleaner.output.tail_au',\n",
       " 'rougher.calculation.sulfate_to_au_concentrate',\n",
       " 'rougher.calculation.floatbank10_sulfate_to_au_feed',\n",
       " 'rougher.calculation.floatbank11_sulfate_to_au_feed',\n",
       " 'rougher.calculation.au_pb_ratio',\n",
       " 'rougher.output.concentrate_ag',\n",
       " 'rougher.output.concentrate_pb',\n",
       " 'rougher.output.concentrate_sol',\n",
       " 'rougher.output.concentrate_au',\n",
       " 'rougher.output.recovery',\n",
       " 'rougher.output.tail_ag',\n",
       " 'rougher.output.tail_pb',\n",
       " 'rougher.output.tail_sol',\n",
       " 'rougher.output.tail_au',\n",
       " 'secondary_cleaner.output.tail_ag',\n",
       " 'secondary_cleaner.output.tail_pb',\n",
       " 'secondary_cleaner.output.tail_sol',\n",
       " 'secondary_cleaner.output.tail_au']"
      ]
     },
     "execution_count": 12,
     "metadata": {},
     "output_type": "execute_result"
    }
   ],
   "source": [
    "result"
   ]
  },
  {
   "cell_type": "markdown",
   "metadata": {},
   "source": [
    "В тестовой выборке недоступны данные на этапах:\n",
    "Флотация:\n",
    "Расчетные характеристики;\n",
    "Концентрация серебра, свинца, золы, золота в сырье после флотации.\n",
    "Концентрация серебра, свинца, золы, золота в отвальных хвостах после флотации.\n",
    "Первый этап чистки:\n",
    "Концентрация серебра, свинца, золы, золота в сырье после первого этапа чистки.\n",
    "Концентрация серебра, свинца, золы, золота в отвальных хвостах после первого этапа чистки.\n",
    "Второй этап чистки:\n",
    "Концентрация серебра, свинца, золы, золота в отвальных хвостах после второго этапа чистки.\n",
    "Финальный концентрат:\n",
    "Концентрация серебра, свинца, золы, золота в отвальных хвостах на финальной стадии.\n",
    "Концентрация серебра, свинца, золы, золота в финальном концентрате.\n",
    "Эффективность обогащения сырья.\n",
    "\n",
    "То есть по сути все полученные призначки относятся к типу output (параметры продукта), на каждом этапе обработки. Также отсутствует целевой признак. В условии задачи было сказано, что эти столбцы получены после обработки и нужны для рассчета."
   ]
  },
  {
   "cell_type": "markdown",
   "metadata": {},
   "source": [
    "### Предобработка данных"
   ]
  },
  {
   "cell_type": "markdown",
   "metadata": {},
   "source": [
    "Сначала закину целевые признаки в тестовую выборку"
   ]
  },
  {
   "cell_type": "code",
   "execution_count": 13,
   "metadata": {},
   "outputs": [],
   "source": [
    "#Список целевых признаков\n",
    "targets = ['rougher.output.recovery', 'final.output.recovery']"
   ]
  },
  {
   "cell_type": "code",
   "execution_count": 14,
   "metadata": {},
   "outputs": [],
   "source": [
    "gold_test = pd.concat([gold_test, gold_full.loc[gold_test.index][targets]], axis=1)"
   ]
  },
  {
   "cell_type": "code",
   "execution_count": 15,
   "metadata": {},
   "outputs": [
    {
     "data": {
      "image/png": "[encoded data removed]",
      "text/plain": [
       "<Figure size 1080x1080 with 1 Axes>"
      ]
     },
     "metadata": {
      "needs_background": "light"
     },
     "output_type": "display_data"
    }
   ],
   "source": [
    "# количество пропусков по столбцам на тестовой выборке % от общей выборки\n",
    "\n",
    "(100* gold_test.isna().sum()/gold_test.shape[0]).sort_values().\\\n",
    "plot(kind = 'bar',figsize = (15,15), title = 'Количество пропусков в столбцах на тестовой выборке, в %')\n",
    "plt.show()"
   ]
  },
  {
   "cell_type": "code",
   "execution_count": 16,
   "metadata": {
    "scrolled": false
   },
   "outputs": [
    {
     "data": {
      "image/png": "[encoded data removed]",
      "text/plain": [
       "<Figure size 1080x1080 with 1 Axes>"
      ]
     },
     "metadata": {
      "needs_background": "light"
     },
     "output_type": "display_data"
    }
   ],
   "source": [
    "(100* gold_train.isna().sum()/gold_train.shape[0]).sort_values().\\\n",
    "plot(kind = 'bar',figsize = (15,15), title = 'Количество пропусков в столбцах на обучающей выборке, в %')\n",
    "plt.show()"
   ]
  },
  {
   "cell_type": "code",
   "execution_count": 17,
   "metadata": {},
   "outputs": [
    {
     "data": {
      "image/png": "[encoded data removed]",
      "text/plain": [
       "<Figure size 1080x1080 with 1 Axes>"
      ]
     },
     "metadata": {
      "needs_background": "light"
     },
     "output_type": "display_data"
    }
   ],
   "source": [
    "(100* gold_full.isna().sum()/gold_full.shape[0]).sort_values().\\\n",
    "plot(kind = 'bar',figsize = (15,15), title = 'Количество пропусков в столбцах в исходных данных, в %')\n",
    "plt.show()"
   ]
  },
  {
   "cell_type": "markdown",
   "metadata": {},
   "source": [
    "Пропуски в целевых признаках просто удалю, так как заполнять их какими либо другими значениями считаю не эффективным, и может привезти к искажениям модели."
   ]
  },
  {
   "cell_type": "code",
   "execution_count": 18,
   "metadata": {},
   "outputs": [],
   "source": [
    "#Удаление пропущенных значений целевых признаков в исходных данных.\n",
    "gold_full.dropna(subset=targets, inplace=True)"
   ]
  },
  {
   "cell_type": "code",
   "execution_count": 19,
   "metadata": {},
   "outputs": [],
   "source": [
    "#Удаление пропущенных значений целевых признаков в тестовой выборке.\n",
    "gold_test.dropna(subset=targets, inplace=True)"
   ]
  },
  {
   "cell_type": "code",
   "execution_count": 20,
   "metadata": {},
   "outputs": [],
   "source": [
    "#Удаление пропущенных значений целевых признаков в обучающей выборке.\n",
    "gold_train.dropna(subset=targets, inplace=True)"
   ]
  },
  {
   "cell_type": "markdown",
   "metadata": {},
   "source": [
    "Также удалю из обучающей выборки столбцы, отсутсвующие в тестовой выборке"
   ]
  },
  {
   "cell_type": "code",
   "execution_count": 21,
   "metadata": {},
   "outputs": [
    {
     "data": {
      "text/html": [
       "<div>\n",
       "<style scoped>\n",
       "    .dataframe tbody tr th:only-of-type {\n",
       "        vertical-align: middle;\n",
       "    }\n",
       "\n",
       "    .dataframe tbody tr th {\n",
       "        vertical-align: top;\n",
       "    }\n",
       "\n",
       "    .dataframe thead th {\n",
       "        text-align: right;\n",
       "    }\n",
       "</style>\n",
       "<table border=\"1\" class=\"dataframe\">\n",
       "  <thead>\n",
       "    <tr style=\"text-align: right;\">\n",
       "      <th></th>\n",
       "      <th>primary_cleaner.input.sulfate</th>\n",
       "      <th>primary_cleaner.input.depressant</th>\n",
       "      <th>primary_cleaner.input.feed_size</th>\n",
       "      <th>primary_cleaner.input.xanthate</th>\n",
       "      <th>primary_cleaner.state.floatbank8_a_air</th>\n",
       "      <th>primary_cleaner.state.floatbank8_a_level</th>\n",
       "      <th>primary_cleaner.state.floatbank8_b_air</th>\n",
       "      <th>primary_cleaner.state.floatbank8_b_level</th>\n",
       "      <th>primary_cleaner.state.floatbank8_c_air</th>\n",
       "      <th>primary_cleaner.state.floatbank8_c_level</th>\n",
       "      <th>...</th>\n",
       "      <th>secondary_cleaner.state.floatbank4_b_air</th>\n",
       "      <th>secondary_cleaner.state.floatbank4_b_level</th>\n",
       "      <th>secondary_cleaner.state.floatbank5_a_air</th>\n",
       "      <th>secondary_cleaner.state.floatbank5_a_level</th>\n",
       "      <th>secondary_cleaner.state.floatbank5_b_air</th>\n",
       "      <th>secondary_cleaner.state.floatbank5_b_level</th>\n",
       "      <th>secondary_cleaner.state.floatbank6_a_air</th>\n",
       "      <th>secondary_cleaner.state.floatbank6_a_level</th>\n",
       "      <th>rougher.output.recovery</th>\n",
       "      <th>final.output.recovery</th>\n",
       "    </tr>\n",
       "    <tr>\n",
       "      <th>date</th>\n",
       "      <th></th>\n",
       "      <th></th>\n",
       "      <th></th>\n",
       "      <th></th>\n",
       "      <th></th>\n",
       "      <th></th>\n",
       "      <th></th>\n",
       "      <th></th>\n",
       "      <th></th>\n",
       "      <th></th>\n",
       "      <th></th>\n",
       "      <th></th>\n",
       "      <th></th>\n",
       "      <th></th>\n",
       "      <th></th>\n",
       "      <th></th>\n",
       "      <th></th>\n",
       "      <th></th>\n",
       "      <th></th>\n",
       "      <th></th>\n",
       "      <th></th>\n",
       "    </tr>\n",
       "  </thead>\n",
       "  <tbody>\n",
       "    <tr>\n",
       "      <th>2016-01-15 00:00:00</th>\n",
       "      <td>127.092003</td>\n",
       "      <td>10.128295</td>\n",
       "      <td>7.25</td>\n",
       "      <td>0.988759</td>\n",
       "      <td>1549.775757</td>\n",
       "      <td>-498.912140</td>\n",
       "      <td>1551.434204</td>\n",
       "      <td>-516.403442</td>\n",
       "      <td>1549.873901</td>\n",
       "      <td>-498.666595</td>\n",
       "      <td>...</td>\n",
       "      <td>12.099931</td>\n",
       "      <td>-504.715942</td>\n",
       "      <td>9.925633</td>\n",
       "      <td>-498.310211</td>\n",
       "      <td>8.079666</td>\n",
       "      <td>-500.470978</td>\n",
       "      <td>14.151341</td>\n",
       "      <td>-605.841980</td>\n",
       "      <td>87.107763</td>\n",
       "      <td>70.541216</td>\n",
       "    </tr>\n",
       "    <tr>\n",
       "      <th>2016-01-15 01:00:00</th>\n",
       "      <td>125.629232</td>\n",
       "      <td>10.296251</td>\n",
       "      <td>7.25</td>\n",
       "      <td>1.002663</td>\n",
       "      <td>1576.166671</td>\n",
       "      <td>-500.904965</td>\n",
       "      <td>1575.950626</td>\n",
       "      <td>-499.865889</td>\n",
       "      <td>1575.994189</td>\n",
       "      <td>-499.315107</td>\n",
       "      <td>...</td>\n",
       "      <td>11.950531</td>\n",
       "      <td>-501.331529</td>\n",
       "      <td>10.039245</td>\n",
       "      <td>-500.169983</td>\n",
       "      <td>7.984757</td>\n",
       "      <td>-500.582168</td>\n",
       "      <td>13.998353</td>\n",
       "      <td>-599.787184</td>\n",
       "      <td>86.843261</td>\n",
       "      <td>69.266198</td>\n",
       "    </tr>\n",
       "    <tr>\n",
       "      <th>2016-01-15 02:00:00</th>\n",
       "      <td>123.819808</td>\n",
       "      <td>11.316280</td>\n",
       "      <td>7.25</td>\n",
       "      <td>0.991265</td>\n",
       "      <td>1601.556163</td>\n",
       "      <td>-499.997791</td>\n",
       "      <td>1600.386685</td>\n",
       "      <td>-500.607762</td>\n",
       "      <td>1602.003542</td>\n",
       "      <td>-500.870069</td>\n",
       "      <td>...</td>\n",
       "      <td>11.912783</td>\n",
       "      <td>-501.133383</td>\n",
       "      <td>10.070913</td>\n",
       "      <td>-500.129135</td>\n",
       "      <td>8.013877</td>\n",
       "      <td>-500.517572</td>\n",
       "      <td>14.028663</td>\n",
       "      <td>-601.427363</td>\n",
       "      <td>86.842308</td>\n",
       "      <td>68.116445</td>\n",
       "    </tr>\n",
       "    <tr>\n",
       "      <th>2016-01-15 03:00:00</th>\n",
       "      <td>122.270188</td>\n",
       "      <td>11.322140</td>\n",
       "      <td>7.25</td>\n",
       "      <td>0.996739</td>\n",
       "      <td>1599.968720</td>\n",
       "      <td>-500.951778</td>\n",
       "      <td>1600.659236</td>\n",
       "      <td>-499.677094</td>\n",
       "      <td>1600.304144</td>\n",
       "      <td>-500.727997</td>\n",
       "      <td>...</td>\n",
       "      <td>11.999550</td>\n",
       "      <td>-501.193686</td>\n",
       "      <td>9.970366</td>\n",
       "      <td>-499.201640</td>\n",
       "      <td>7.977324</td>\n",
       "      <td>-500.255908</td>\n",
       "      <td>14.005551</td>\n",
       "      <td>-599.996129</td>\n",
       "      <td>87.226430</td>\n",
       "      <td>68.347543</td>\n",
       "    </tr>\n",
       "    <tr>\n",
       "      <th>2016-01-15 04:00:00</th>\n",
       "      <td>117.988169</td>\n",
       "      <td>11.913613</td>\n",
       "      <td>7.25</td>\n",
       "      <td>1.009869</td>\n",
       "      <td>1601.339707</td>\n",
       "      <td>-498.975456</td>\n",
       "      <td>1601.437854</td>\n",
       "      <td>-500.323246</td>\n",
       "      <td>1599.581894</td>\n",
       "      <td>-500.888152</td>\n",
       "      <td>...</td>\n",
       "      <td>11.953070</td>\n",
       "      <td>-501.053894</td>\n",
       "      <td>9.925709</td>\n",
       "      <td>-501.686727</td>\n",
       "      <td>7.894242</td>\n",
       "      <td>-500.356035</td>\n",
       "      <td>13.996647</td>\n",
       "      <td>-601.496691</td>\n",
       "      <td>86.688794</td>\n",
       "      <td>66.927016</td>\n",
       "    </tr>\n",
       "  </tbody>\n",
       "</table>\n",
       "<p>5 rows × 54 columns</p>\n",
       "</div>"
      ],
      "text/plain": [
       "                     primary_cleaner.input.sulfate  \\\n",
       "date                                                 \n",
       "2016-01-15 00:00:00                     127.092003   \n",
       "2016-01-15 01:00:00                     125.629232   \n",
       "2016-01-15 02:00:00                     123.819808   \n",
       "2016-01-15 03:00:00                     122.270188   \n",
       "2016-01-15 04:00:00                     117.988169   \n",
       "\n",
       "                     primary_cleaner.input.depressant  \\\n",
       "date                                                    \n",
       "2016-01-15 00:00:00                         10.128295   \n",
       "2016-01-15 01:00:00                         10.296251   \n",
       "2016-01-15 02:00:00                         11.316280   \n",
       "2016-01-15 03:00:00                         11.322140   \n",
       "2016-01-15 04:00:00                         11.913613   \n",
       "\n",
       "                     primary_cleaner.input.feed_size  \\\n",
       "date                                                   \n",
       "2016-01-15 00:00:00                             7.25   \n",
       "2016-01-15 01:00:00                             7.25   \n",
       "2016-01-15 02:00:00                             7.25   \n",
       "2016-01-15 03:00:00                             7.25   \n",
       "2016-01-15 04:00:00                             7.25   \n",
       "\n",
       "                     primary_cleaner.input.xanthate  \\\n",
       "date                                                  \n",
       "2016-01-15 00:00:00                        0.988759   \n",
       "2016-01-15 01:00:00                        1.002663   \n",
       "2016-01-15 02:00:00                        0.991265   \n",
       "2016-01-15 03:00:00                        0.996739   \n",
       "2016-01-15 04:00:00                        1.009869   \n",
       "\n",
       "                     primary_cleaner.state.floatbank8_a_air  \\\n",
       "date                                                          \n",
       "2016-01-15 00:00:00                             1549.775757   \n",
       "2016-01-15 01:00:00                             1576.166671   \n",
       "2016-01-15 02:00:00                             1601.556163   \n",
       "2016-01-15 03:00:00                             1599.968720   \n",
       "2016-01-15 04:00:00                             1601.339707   \n",
       "\n",
       "                     primary_cleaner.state.floatbank8_a_level  \\\n",
       "date                                                            \n",
       "2016-01-15 00:00:00                               -498.912140   \n",
       "2016-01-15 01:00:00                               -500.904965   \n",
       "2016-01-15 02:00:00                               -499.997791   \n",
       "2016-01-15 03:00:00                               -500.951778   \n",
       "2016-01-15 04:00:00                               -498.975456   \n",
       "\n",
       "                     primary_cleaner.state.floatbank8_b_air  \\\n",
       "date                                                          \n",
       "2016-01-15 00:00:00                             1551.434204   \n",
       "2016-01-15 01:00:00                             1575.950626   \n",
       "2016-01-15 02:00:00                             1600.386685   \n",
       "2016-01-15 03:00:00                             1600.659236   \n",
       "2016-01-15 04:00:00                             1601.437854   \n",
       "\n",
       "                     primary_cleaner.state.floatbank8_b_level  \\\n",
       "date                                                            \n",
       "2016-01-15 00:00:00                               -516.403442   \n",
       "2016-01-15 01:00:00                               -499.865889   \n",
       "2016-01-15 02:00:00                               -500.607762   \n",
       "2016-01-15 03:00:00                               -499.677094   \n",
       "2016-01-15 04:00:00                               -500.323246   \n",
       "\n",
       "                     primary_cleaner.state.floatbank8_c_air  \\\n",
       "date                                                          \n",
       "2016-01-15 00:00:00                             1549.873901   \n",
       "2016-01-15 01:00:00                             1575.994189   \n",
       "2016-01-15 02:00:00                             1602.003542   \n",
       "2016-01-15 03:00:00                             1600.304144   \n",
       "2016-01-15 04:00:00                             1599.581894   \n",
       "\n",
       "                     primary_cleaner.state.floatbank8_c_level  ...  \\\n",
       "date                                                           ...   \n",
       "2016-01-15 00:00:00                               -498.666595  ...   \n",
       "2016-01-15 01:00:00                               -499.315107  ...   \n",
       "2016-01-15 02:00:00                               -500.870069  ...   \n",
       "2016-01-15 03:00:00                               -500.727997  ...   \n",
       "2016-01-15 04:00:00                               -500.888152  ...   \n",
       "\n",
       "                     secondary_cleaner.state.floatbank4_b_air  \\\n",
       "date                                                            \n",
       "2016-01-15 00:00:00                                 12.099931   \n",
       "2016-01-15 01:00:00                                 11.950531   \n",
       "2016-01-15 02:00:00                                 11.912783   \n",
       "2016-01-15 03:00:00                                 11.999550   \n",
       "2016-01-15 04:00:00                                 11.953070   \n",
       "\n",
       "                     secondary_cleaner.state.floatbank4_b_level  \\\n",
       "date                                                              \n",
       "2016-01-15 00:00:00                                 -504.715942   \n",
       "2016-01-15 01:00:00                                 -501.331529   \n",
       "2016-01-15 02:00:00                                 -501.133383   \n",
       "2016-01-15 03:00:00                                 -501.193686   \n",
       "2016-01-15 04:00:00                                 -501.053894   \n",
       "\n",
       "                     secondary_cleaner.state.floatbank5_a_air  \\\n",
       "date                                                            \n",
       "2016-01-15 00:00:00                                  9.925633   \n",
       "2016-01-15 01:00:00                                 10.039245   \n",
       "2016-01-15 02:00:00                                 10.070913   \n",
       "2016-01-15 03:00:00                                  9.970366   \n",
       "2016-01-15 04:00:00                                  9.925709   \n",
       "\n",
       "                     secondary_cleaner.state.floatbank5_a_level  \\\n",
       "date                                                              \n",
       "2016-01-15 00:00:00                                 -498.310211   \n",
       "2016-01-15 01:00:00                                 -500.169983   \n",
       "2016-01-15 02:00:00                                 -500.129135   \n",
       "2016-01-15 03:00:00                                 -499.201640   \n",
       "2016-01-15 04:00:00                                 -501.686727   \n",
       "\n",
       "                     secondary_cleaner.state.floatbank5_b_air  \\\n",
       "date                                                            \n",
       "2016-01-15 00:00:00                                  8.079666   \n",
       "2016-01-15 01:00:00                                  7.984757   \n",
       "2016-01-15 02:00:00                                  8.013877   \n",
       "2016-01-15 03:00:00                                  7.977324   \n",
       "2016-01-15 04:00:00                                  7.894242   \n",
       "\n",
       "                     secondary_cleaner.state.floatbank5_b_level  \\\n",
       "date                                                              \n",
       "2016-01-15 00:00:00                                 -500.470978   \n",
       "2016-01-15 01:00:00                                 -500.582168   \n",
       "2016-01-15 02:00:00                                 -500.517572   \n",
       "2016-01-15 03:00:00                                 -500.255908   \n",
       "2016-01-15 04:00:00                                 -500.356035   \n",
       "\n",
       "                     secondary_cleaner.state.floatbank6_a_air  \\\n",
       "date                                                            \n",
       "2016-01-15 00:00:00                                 14.151341   \n",
       "2016-01-15 01:00:00                                 13.998353   \n",
       "2016-01-15 02:00:00                                 14.028663   \n",
       "2016-01-15 03:00:00                                 14.005551   \n",
       "2016-01-15 04:00:00                                 13.996647   \n",
       "\n",
       "                     secondary_cleaner.state.floatbank6_a_level  \\\n",
       "date                                                              \n",
       "2016-01-15 00:00:00                                 -605.841980   \n",
       "2016-01-15 01:00:00                                 -599.787184   \n",
       "2016-01-15 02:00:00                                 -601.427363   \n",
       "2016-01-15 03:00:00                                 -599.996129   \n",
       "2016-01-15 04:00:00                                 -601.496691   \n",
       "\n",
       "                     rougher.output.recovery  final.output.recovery  \n",
       "date                                                                 \n",
       "2016-01-15 00:00:00                87.107763              70.541216  \n",
       "2016-01-15 01:00:00                86.843261              69.266198  \n",
       "2016-01-15 02:00:00                86.842308              68.116445  \n",
       "2016-01-15 03:00:00                87.226430              68.347543  \n",
       "2016-01-15 04:00:00                86.688794              66.927016  \n",
       "\n",
       "[5 rows x 54 columns]"
      ]
     },
     "execution_count": 21,
     "metadata": {},
     "output_type": "execute_result"
    }
   ],
   "source": [
    "gold_train = gold_train[gold_test.columns]\n",
    "gold_train.head()"
   ]
  },
  {
   "cell_type": "markdown",
   "metadata": {},
   "source": [
    "Остальные признаки заполню методом interpolate(method='time')"
   ]
  },
  {
   "cell_type": "code",
   "execution_count": 22,
   "metadata": {},
   "outputs": [],
   "source": [
    "gold_train = gold_train.interpolate(method='time')\n",
    "gold_test = gold_test.interpolate(method='time')\n",
    "gold_full = gold_full.interpolate(method='time')"
   ]
  },
  {
   "cell_type": "code",
   "execution_count": 23,
   "metadata": {},
   "outputs": [
    {
     "name": "stdout",
     "output_type": "stream",
     "text": [
      "0\n",
      "0\n",
      "0\n"
     ]
    }
   ],
   "source": [
    "#подсчет пропусков\n",
    "print(gold_train.isna().sum().sum())\n",
    "print(gold_test.isna().sum().sum())\n",
    "print(gold_full.isna().sum().sum())"
   ]
  },
  {
   "cell_type": "markdown",
   "metadata": {},
   "source": [
    "В данных имелось ну очень много пропусков, в целевых признаках выдумывать значения или заменять на что либо не стала, ибо это может исказить модель предсказания, поэтому просто удалила пропуски. А оставшиеся столбцы с пропущенными значениями устранила методом интерполяции."
   ]
  },
  {
   "cell_type": "markdown",
   "metadata": {},
   "source": [
    "## Анализ данных"
   ]
  },
  {
   "cell_type": "markdown",
   "metadata": {},
   "source": [
    "### Изменение концентрации металлов (Au, Ag, Pb) на различных этапах очистки"
   ]
  },
  {
   "cell_type": "code",
   "execution_count": 24,
   "metadata": {},
   "outputs": [],
   "source": [
    "# Выделение данных с концентрациями металлов на основных этапах очистки\n",
    "stages = ['rougher.input.feed_ag', \n",
    "           'rougher.input.feed_pb', \n",
    "           'rougher.input.feed_au', \n",
    "           'rougher.output.concentrate_ag', \n",
    "           'rougher.output.concentrate_pb', \n",
    "           'rougher.output.concentrate_au', \n",
    "           'primary_cleaner.output.concentrate_ag', \n",
    "           'primary_cleaner.output.concentrate_pb', \n",
    "           'primary_cleaner.output.concentrate_au', \n",
    "           'final.output.concentrate_ag', \n",
    "           'final.output.concentrate_pb', \n",
    "           'final.output.concentrate_au'\n",
    "           ]"
   ]
  },
  {
   "cell_type": "markdown",
   "metadata": {},
   "source": [
    "Cначала изображу графически, для наглядности, а далее распишу цифрыми, для точности."
   ]
  },
  {
   "cell_type": "code",
   "execution_count": 25,
   "metadata": {},
   "outputs": [],
   "source": [
    "# функция построения графика плотности. Деление идет по этапам (rougher,primary_cleaner,final)\n",
    "def plot_distplot(df,col1,col2,col3,title): \n",
    "    fig = plt.figure(figsize=(10,6))\n",
    "    sns.distplot(df[col1])\n",
    "    sns.distplot(df[col2])\n",
    "    sns.distplot(df[col3])\n",
    "\n",
    "    fig.legend([col1,col2,col3])\n",
    "    plt.xlabel(title)\n",
    "    plt.ylabel('значения параметра')\n",
    "    plt.show()\n",
    "    "
   ]
  },
  {
   "cell_type": "code",
   "execution_count": 26,
   "metadata": {
    "scrolled": false
   },
   "outputs": [
    {
     "name": "stderr",
     "output_type": "stream",
     "text": [
      "/opt/conda/lib/python3.9/site-packages/seaborn/distributions.py:2557: FutureWarning: `distplot` is a deprecated function and will be removed in a future version. Please adapt your code to use either `displot` (a figure-level function with similar flexibility) or `histplot` (an axes-level function for histograms).\n",
      "  warnings.warn(msg, FutureWarning)\n",
      "/opt/conda/lib/python3.9/site-packages/seaborn/distributions.py:2557: FutureWarning: `distplot` is a deprecated function and will be removed in a future version. Please adapt your code to use either `displot` (a figure-level function with similar flexibility) or `histplot` (an axes-level function for histograms).\n",
      "  warnings.warn(msg, FutureWarning)\n",
      "/opt/conda/lib/python3.9/site-packages/seaborn/distributions.py:2557: FutureWarning: `distplot` is a deprecated function and will be removed in a future version. Please adapt your code to use either `displot` (a figure-level function with similar flexibility) or `histplot` (an axes-level function for histograms).\n",
      "  warnings.warn(msg, FutureWarning)\n"
     ]
    },
    {
     "data": {
      "image/png": "[encoded data removed]",
      "text/plain": [
       "<Figure size 720x432 with 1 Axes>"
      ]
     },
     "metadata": {
      "needs_background": "light"
     },
     "output_type": "display_data"
    }
   ],
   "source": [
    "plot_distplot(df = gold_full,\n",
    "              col1 = 'rougher.output.concentrate_ag',\n",
    "              col2 = 'primary_cleaner.output.concentrate_ag',\n",
    "              col3 = 'final.output.concentrate_ag',\n",
    "              title = 'Концентрация серебра (Ag) на основных этапах',\n",
    ")"
   ]
  },
  {
   "cell_type": "code",
   "execution_count": 27,
   "metadata": {},
   "outputs": [
    {
     "name": "stderr",
     "output_type": "stream",
     "text": [
      "/opt/conda/lib/python3.9/site-packages/seaborn/distributions.py:2557: FutureWarning: `distplot` is a deprecated function and will be removed in a future version. Please adapt your code to use either `displot` (a figure-level function with similar flexibility) or `histplot` (an axes-level function for histograms).\n",
      "  warnings.warn(msg, FutureWarning)\n",
      "/opt/conda/lib/python3.9/site-packages/seaborn/distributions.py:2557: FutureWarning: `distplot` is a deprecated function and will be removed in a future version. Please adapt your code to use either `displot` (a figure-level function with similar flexibility) or `histplot` (an axes-level function for histograms).\n",
      "  warnings.warn(msg, FutureWarning)\n",
      "/opt/conda/lib/python3.9/site-packages/seaborn/distributions.py:2557: FutureWarning: `distplot` is a deprecated function and will be removed in a future version. Please adapt your code to use either `displot` (a figure-level function with similar flexibility) or `histplot` (an axes-level function for histograms).\n",
      "  warnings.warn(msg, FutureWarning)\n"
     ]
    },
    {
     "data": {
      "image/png": "[encoded data removed]",
      "text/plain": [
       "<Figure size 720x432 with 1 Axes>"
      ]
     },
     "metadata": {
      "needs_background": "light"
     },
     "output_type": "display_data"
    }
   ],
   "source": [
    "plot_distplot(df = gold_full,\n",
    "              col1 = 'rougher.output.concentrate_au',\n",
    "              col2 = 'primary_cleaner.output.concentrate_au',\n",
    "              col3 = 'final.output.concentrate_au',\n",
    "              title = 'Концентрация золота (Au) на основных этапах',\n",
    ")"
   ]
  },
  {
   "cell_type": "code",
   "execution_count": 28,
   "metadata": {},
   "outputs": [
    {
     "name": "stderr",
     "output_type": "stream",
     "text": [
      "/opt/conda/lib/python3.9/site-packages/seaborn/distributions.py:2557: FutureWarning: `distplot` is a deprecated function and will be removed in a future version. Please adapt your code to use either `displot` (a figure-level function with similar flexibility) or `histplot` (an axes-level function for histograms).\n",
      "  warnings.warn(msg, FutureWarning)\n",
      "/opt/conda/lib/python3.9/site-packages/seaborn/distributions.py:2557: FutureWarning: `distplot` is a deprecated function and will be removed in a future version. Please adapt your code to use either `displot` (a figure-level function with similar flexibility) or `histplot` (an axes-level function for histograms).\n",
      "  warnings.warn(msg, FutureWarning)\n",
      "/opt/conda/lib/python3.9/site-packages/seaborn/distributions.py:2557: FutureWarning: `distplot` is a deprecated function and will be removed in a future version. Please adapt your code to use either `displot` (a figure-level function with similar flexibility) or `histplot` (an axes-level function for histograms).\n",
      "  warnings.warn(msg, FutureWarning)\n"
     ]
    },
    {
     "data": {
      "image/png": "[encoded data removed]",
      "text/plain": [
       "<Figure size 720x432 with 1 Axes>"
      ]
     },
     "metadata": {
      "needs_background": "light"
     },
     "output_type": "display_data"
    }
   ],
   "source": [
    "plot_distplot(df = gold_full,\n",
    "              col1 = 'rougher.output.concentrate_pb',\n",
    "              col2 = 'primary_cleaner.output.concentrate_pb',\n",
    "              col3 = 'final.output.concentrate_pb',\n",
    "              title = 'Концентрация свинца (Pb) на основных этапах',\n",
    ")"
   ]
  },
  {
   "cell_type": "markdown",
   "metadata": {},
   "source": [
    "Теперь в цифрах"
   ]
  },
  {
   "cell_type": "code",
   "execution_count": 29,
   "metadata": {},
   "outputs": [],
   "source": [
    "#выделение только нужных столбцов\n",
    "metals = gold_full[stages]"
   ]
  },
  {
   "cell_type": "code",
   "execution_count": 30,
   "metadata": {},
   "outputs": [],
   "source": [
    "#функция, для визуализации средних значений по параметрам\n",
    "def concentrations(df, metal):\n",
    "    if metal == 'ag':\n",
    "        t_metal = 'серебра'\n",
    "    elif metal == 'pb':\n",
    "        t_metal = 'свинца'\n",
    "    elif metal == 'au':\n",
    "        t_metal = 'золота'\n",
    "    print(f'Средняя концентрация {t_metal}:')\n",
    "    print(f'\\tисходного сырья = {df[f\"rougher.input.feed_{metal}\"].mean()}')\n",
    "    print(f'\\tпосле флотации = {df[f\"rougher.output.concentrate_{metal}\"].mean()}')\n",
    "    print(f'\\tпосле первичного этапа очистки = {df[f\"primary_cleaner.output.concentrate_{metal}\"].mean()}')\n",
    "    print(f'\\tв финальном концентрате = {df[f\"final.output.concentrate_{metal}\"].mean()}')"
   ]
  },
  {
   "cell_type": "code",
   "execution_count": 31,
   "metadata": {},
   "outputs": [
    {
     "name": "stdout",
     "output_type": "stream",
     "text": [
      "Средняя концентрация серебра:\n",
      "\tисходного сырья = 8.794927425814688\n",
      "\tпосле флотации = 11.994759359873429\n",
      "\tпосле первичного этапа очистки = 8.44240807771906\n",
      "\tв финальном концентрате = 5.168384642787276\n",
      "Средняя концентрация золота:\n",
      "\tисходного сырья = 8.266097326589103\n",
      "\tпосле флотации = 19.772000139486316\n",
      "\tпосле первичного этапа очистки = 32.1194004078765\n",
      "\tв финальном концентрате = 44.0765129419528\n",
      "Средняя концентрация свинца:\n",
      "\tисходного сырья = 3.5854689207191828\n",
      "\tпосле флотации = 7.606272313195003\n",
      "\tпосле первичного этапа очистки = 9.810090612931061\n",
      "\tв финальном концентрате = 9.97881902334395\n"
     ]
    }
   ],
   "source": [
    "for metal in ('ag', 'au', 'pb'):\n",
    "    concentrations(metals, metal)"
   ]
  },
  {
   "cell_type": "markdown",
   "metadata": {},
   "source": [
    "Ag: концентрация серебра в породе с каждым этап падает;\n",
    "\n",
    "Au: концентрация золота в породе с каждым этап возрастает, часть пустой породы уходит в хвосты. Концентрация от флотации до готового продукта увеличивается более чем в 2,5 раза;\n",
    "\n",
    "Pb: концентрация свинца увеличивается с каждым этапом."
   ]
  },
  {
   "cell_type": "markdown",
   "metadata": {},
   "source": [
    "### Распределение размеров гранул сырья на обучающей и тестовой выборках"
   ]
  },
  {
   "cell_type": "markdown",
   "metadata": {},
   "source": [
    "Построю диаграммы для наглядности."
   ]
  },
  {
   "cell_type": "code",
   "execution_count": 32,
   "metadata": {},
   "outputs": [
    {
     "data": {
      "image/png": "[encoded data removed]",
      "text/plain": [
       "<Figure size 720x720 with 1 Axes>"
      ]
     },
     "metadata": {
      "needs_background": "light"
     },
     "output_type": "display_data"
    }
   ],
   "source": [
    "#на этапе флотации\n",
    "gold_train['rougher.input.feed_size'].hist(bins=50,figsize=(10,10))\n",
    "gold_test['rougher.input.feed_size'].hist(bins=50)\n",
    "\n",
    "plt.legend(['Train','Test'])\n",
    "plt.xlabel('Распределение размеров гранул сырья на этапе флотации')\n",
    "plt.ylabel('значения параметра')\n",
    "plt.show()"
   ]
  },
  {
   "cell_type": "code",
   "execution_count": 33,
   "metadata": {},
   "outputs": [
    {
     "data": {
      "image/png": "[encoded data removed]",
      "text/plain": [
       "<Figure size 720x720 with 1 Axes>"
      ]
     },
     "metadata": {
      "needs_background": "light"
     },
     "output_type": "display_data"
    }
   ],
   "source": [
    "#после флотации, на этапах первичной обработки\n",
    "gold_train['primary_cleaner.input.feed_size'].hist(bins=50,figsize=(10,10))\n",
    "gold_test['primary_cleaner.input.feed_size'].hist(bins=50)\n",
    "\n",
    "plt.legend(['Train','Test'])\n",
    "plt.xlabel('Распределение размеров гранул сырья после флотации, на этапе первичной обработки')\n",
    "plt.ylabel('значения параметра')\n",
    "plt.show()"
   ]
  },
  {
   "cell_type": "markdown",
   "metadata": {},
   "source": [
    "Размеры гранул в тестовой и обучающей выборке схожи, а значит не повлияет на предсказание модели."
   ]
  },
  {
   "cell_type": "markdown",
   "metadata": {},
   "source": [
    "### Суммарная концентрация всех веществ на разных стадиях: в сырье, в черновом и финальном концентратах"
   ]
  },
  {
   "cell_type": "markdown",
   "metadata": {},
   "source": [
    "В данных имеются выбросы, выходящие за рамки статистически значимых значений, их можно связать с неправильной работой прибора, или же это вовсе не выбросы, а единичные случаи, которые имеют место быть. "
   ]
  },
  {
   "cell_type": "code",
   "execution_count": 34,
   "metadata": {},
   "outputs": [],
   "source": [
    "#создание новго датафрейма из концентраций на всех этапах\n",
    "\n",
    "sum_concentrations = gold_full[stages].copy()\n",
    "sum_concentrations['final_output_sum'] = sum_concentrations['final.output.concentrate_ag'] + sum_concentrations['final.output.concentrate_pb'] + sum_concentrations['final.output.concentrate_au']\n",
    "sum_concentrations['rougher_input_sum'] = sum_concentrations['rougher.input.feed_ag'] + sum_concentrations['rougher.input.feed_pb'] + sum_concentrations['rougher.input.feed_au']\n",
    "sum_concentrations['rougher_output_sum'] = sum_concentrations['rougher.output.concentrate_ag'] + sum_concentrations['rougher.output.concentrate_pb'] + sum_concentrations['rougher.output.concentrate_au']\n",
    "\n",
    "\n",
    "\n",
    "    \n",
    "\n"
   ]
  },
  {
   "cell_type": "code",
   "execution_count": 35,
   "metadata": {},
   "outputs": [],
   "source": [
    "summ = [sum_concentrations['final_output_sum'], sum_concentrations['rougher_input_sum'], sum_concentrations['rougher_output_sum']]"
   ]
  },
  {
   "cell_type": "code",
   "execution_count": 36,
   "metadata": {},
   "outputs": [
    {
     "data": {
      "text/plain": [
       "[Text(0.5, 1.0, 'График распределения суммарных концентраций всех веществ на всех стадиях')]"
      ]
     },
     "execution_count": 36,
     "metadata": {},
     "output_type": "execute_result"
    },
    {
     "data": {
      "image/png": "[encoded data removed]",
      "text/plain": [
       "<Figure size 432x288 with 1 Axes>"
      ]
     },
     "metadata": {
      "needs_background": "light"
     },
     "output_type": "display_data"
    }
   ],
   "source": [
    "sns.boxplot(data=summ).set(title = 'График распределения суммарных концентраций всех веществ на всех стадиях')"
   ]
  },
  {
   "cell_type": "code",
   "execution_count": 37,
   "metadata": {},
   "outputs": [],
   "source": [
    "#Удаление нулевых значений\n",
    "clean_sum = sum_concentrations.loc[sum_concentrations['rougher_output_sum'] >0].copy()\n",
    "clean_sum = clean_sum.loc[clean_sum['final_output_sum'] > 0]\n",
    "clean_sum = clean_sum.loc[clean_sum['rougher_input_sum'] > 0]"
   ]
  },
  {
   "cell_type": "code",
   "execution_count": 38,
   "metadata": {},
   "outputs": [],
   "source": [
    "#По индексам удаление строк с выбросами из тестовой, обучайющей и полной выборок\n",
    "gold_test.drop(gold_test[~gold_test.index.isin(clean_sum.index)].index, inplace=True)\n",
    "gold_train.drop(gold_train[~gold_train.index.isin(clean_sum.index)].index, inplace=True)\n",
    "gold_full.drop(gold_full[~gold_full.index.isin(clean_sum.index)].index, inplace=True)"
   ]
  },
  {
   "cell_type": "markdown",
   "metadata": {},
   "source": [
    "## Модель"
   ]
  },
  {
   "cell_type": "markdown",
   "metadata": {},
   "source": [
    "Модели которые я буду использовать: RandomForest, LinearRegression, \n",
    "\n",
    "Методом Gridsearch переберу параметры, чтобы найти лучшие.\n",
    "\n",
    "Протестирую  лучшую модель на тестовой выборке и метрикой Smape оценю результаты результаты."
   ]
  },
  {
   "cell_type": "markdown",
   "metadata": {},
   "source": [
    "### Функция для вычисления итоговой sMAPE"
   ]
  },
  {
   "cell_type": "code",
   "execution_count": 39,
   "metadata": {},
   "outputs": [],
   "source": [
    "#фyнкция вычесления взвешенной sMAPE\n",
    "def calculate_smape(target_actual, target_predictions):\n",
    "    numerator = np.abs(target_actual - target_predictions)\n",
    "    denominator = (np.abs(target_actual) + np.abs(target_predictions)) / 2 \n",
    "    return 1 / len(target_actual) * np.sum(numerator / denominator) * 100"
   ]
  },
  {
   "cell_type": "markdown",
   "metadata": {},
   "source": [
    "Функцию для подсчета итогового значения sMAPE"
   ]
  },
  {
   "cell_type": "code",
   "execution_count": 40,
   "metadata": {},
   "outputs": [],
   "source": [
    "def calculate_final_smape(target_actual, target_predictions):\n",
    "    target_actual_rougher = target_actual['rougher.output.recovery']\n",
    "    target_actual_final = target_actual['final.output.recovery']\n",
    "    target_predictions_rougher = target_predictions[:, 0]\n",
    "    target_predictions_final = target_predictions[:, 1]\n",
    "    return 0.25 * calculate_smape(target_actual_rougher, target_predictions_rougher) + 0.75 * calculate_smape(target_actual_rougher, target_predictions_rougher)"
   ]
  },
  {
   "cell_type": "code",
   "execution_count": 41,
   "metadata": {},
   "outputs": [],
   "source": [
    "#выделение независимых и целевых признаков в обучающей выборке\n",
    "x_train = gold_train.drop(['rougher.output.recovery','final.output.recovery'],axis=1)\n",
    "y_train = gold_train[['rougher.output.recovery', 'final.output.recovery']]\n"
   ]
  },
  {
   "cell_type": "code",
   "execution_count": 42,
   "metadata": {},
   "outputs": [],
   "source": [
    "#выделение независимых и целевых признаков в тестовой выборке\n",
    "x_test = gold_test.drop(['final.output.recovery','rougher.output.recovery'], axis=1)\n",
    "y_test = gold_test[['final.output.recovery','rougher.output.recovery']]"
   ]
  },
  {
   "cell_type": "markdown",
   "metadata": {},
   "source": [
    "### Поиск модели с параметрами лучшего результата"
   ]
  },
  {
   "cell_type": "code",
   "execution_count": 43,
   "metadata": {},
   "outputs": [],
   "source": [
    "#параметры, нужные для GridSearchCV\n",
    "state = RandomState(12345)\n",
    "\n",
    "pipe = Pipeline([\n",
    "    ('imp', SimpleImputer(missing_values=np.nan)),\n",
    "    ('scaler', StandardScaler()),\n",
    "    ('model', RandomForestRegressor(n_estimators=100, random_state=state))\n",
    "])\n",
    "\n",
    "params = [\n",
    "    {\n",
    "        'imp__strategy': ['mean', 'median'],\n",
    "        'model': [RandomForestRegressor(n_estimators=10, random_state=state)],\n",
    "        'model__max_features': np.linspace(0.1, 1, 10)\n",
    "    }, {\n",
    "        'imp__strategy': ['mean', 'median'],\n",
    "        'model': [LinearRegression()]\n",
    "    }\n",
    "]"
   ]
  },
  {
   "cell_type": "code",
   "execution_count": 44,
   "metadata": {},
   "outputs": [],
   "source": [
    "#Метрика smape для scoring'a GridSearchCV\n",
    "smape_score = make_scorer(calculate_final_smape, greater_is_better=False)"
   ]
  },
  {
   "cell_type": "code",
   "execution_count": 45,
   "metadata": {},
   "outputs": [],
   "source": [
    "#Кросс валидация с помощью kFold с разделением на 5 частей\n",
    "cv = KFold(n_splits=5, shuffle=False)\n",
    "grid_rougher = GridSearchCV(pipe, param_grid=params, cv=cv, scoring=smape_score)"
   ]
  },
  {
   "cell_type": "code",
   "execution_count": 46,
   "metadata": {},
   "outputs": [
    {
     "data": {
      "text/plain": [
       "GridSearchCV(cv=KFold(n_splits=5, random_state=None, shuffle=False),\n",
       "             estimator=Pipeline(steps=[('imp', SimpleImputer()),\n",
       "                                       ('scaler', StandardScaler()),\n",
       "                                       ('model',\n",
       "                                        RandomForestRegressor(random_state=RandomState(MT19937) at 0x7F9C65EA7D40))]),\n",
       "             param_grid=[{'imp__strategy': ['mean', 'median'],\n",
       "                          'model': [RandomForestRegressor(max_features=0.5,\n",
       "                                                          n_estimators=10,\n",
       "                                                          random_state=RandomState(MT19937) at 0x7F9C65EA7D40)],\n",
       "                          'model__max_features': array([0.1, 0.2, 0.3, 0.4, 0.5, 0.6, 0.7, 0.8, 0.9, 1. ])},\n",
       "                         {'imp__strategy': ['mean', 'median'],\n",
       "                          'model': [LinearRegression()]}],\n",
       "             scoring=make_scorer(calculate_final_smape, greater_is_better=False))"
      ]
     },
     "execution_count": 46,
     "metadata": {},
     "output_type": "execute_result"
    }
   ],
   "source": [
    "grid_rougher.fit(x_train, y_train)"
   ]
  },
  {
   "cell_type": "code",
   "execution_count": 47,
   "metadata": {},
   "outputs": [
    {
     "name": "stdout",
     "output_type": "stream",
     "text": [
      "Наилучшие подобранные параметры: {'imp__strategy': 'mean', 'model': RandomForestRegressor(max_features=0.5, n_estimators=10,\n",
      "                      random_state=RandomState(MT19937) at 0x7F9C65EA7D40), 'model__max_features': 0.5}\n"
     ]
    }
   ],
   "source": [
    "#Наилучшие подобранные параметры\n",
    "print('Наилучшие подобранные параметры:', grid_rougher.best_params_)"
   ]
  },
  {
   "cell_type": "code",
   "execution_count": 48,
   "metadata": {},
   "outputs": [
    {
     "name": "stdout",
     "output_type": "stream",
     "text": [
      "Наилучший результат: 6.5287880982170705\n"
     ]
    }
   ],
   "source": [
    "#Наилучший результат\n",
    "print('Наилучший результат:', -grid_rougher.best_score_)"
   ]
  },
  {
   "cell_type": "markdown",
   "metadata": {},
   "source": [
    " Лучший результат дает модель случайного леса с количеством деревьев 10 и глубиной 0.5, sMAPE = 6. 52, эти параметры и буду тестировать."
   ]
  },
  {
   "cell_type": "markdown",
   "metadata": {},
   "source": [
    "### Тестирование модели"
   ]
  },
  {
   "cell_type": "code",
   "execution_count": 49,
   "metadata": {},
   "outputs": [],
   "source": [
    "#Модель с лучшими параметрами для тестовой выборки \n",
    "model = RandomForestRegressor(random_state=state, max_depth = 0.5, n_estimators = 10) \n",
    "model.fit(x_train, y_train)\n",
    "predicted_test = model.predict(x_test)\n"
   ]
  },
  {
   "cell_type": "code",
   "execution_count": 50,
   "metadata": {},
   "outputs": [
    {
     "name": "stdout",
     "output_type": "stream",
     "text": [
      "sMAPE модели на тестовой выборке: 5.391357822357106\n"
     ]
    }
   ],
   "source": [
    "print('sMAPE модели на тестовой выборке:', calculate_final_smape(y_test, predicted_test))"
   ]
  },
  {
   "cell_type": "code",
   "execution_count": 51,
   "metadata": {},
   "outputs": [
    {
     "name": "stdout",
     "output_type": "stream",
     "text": [
      "sMAPE модели на тестовой выборке: 5.378767876637099\n"
     ]
    }
   ],
   "source": [
    "dummy_model = DummyRegressor(strategy = 'mean')\n",
    "dummy_model.fit(x_train, y_train)\n",
    "predicted_dummy = dummy_model.predict(x_test)\n",
    "print('sMAPE модели на тестовой выборке:', calculate_final_smape(y_test, predicted_dummy))\n"
   ]
  },
  {
   "cell_type": "markdown",
   "metadata": {},
   "source": [
    "Что ж, по результатам тестирования фективной моделью, модель случайного леса всё же лучше(да не на много, но лучше:D)"
   ]
  },
  {
   "cell_type": "markdown",
   "metadata": {},
   "source": [
    "## Вывод"
   ]
  },
  {
   "cell_type": "markdown",
   "metadata": {},
   "source": [
    "В данном проекте я должна была построить модель для предсказания коэффициента восстановления золота из золотосодержащей руды. Поиск наилучшей модели и подбором параметров решила произвести с помощью GridSearchCV. Наилучшей моделью для этого проекта стала модель случайного леса с глубиной 0.9 и колличеством деревьев 10. На тестировании модели получила результат sMAPE = 10.39. Далее, после процедуры удаления нулевых значениях в концетрациях6 предсказания модели очень упали и стали 5. 39. Так как в условиях не было сказано, какой результат именно нужно было довиться, считаю, что исследование завершено."
   ]
  },
  {
   "cell_type": "code",
   "execution_count": null,
   "metadata": {},
   "outputs": [],
   "source": []
  }
 ],
 "metadata": {
  "ExecuteTimeLog": [
   {
    "duration": 2487,
    "start_time": "2022-04-06T19:36:42.350Z"
   },
   {
    "duration": 868,
    "start_time": "2022-04-06T19:38:17.167Z"
   },
   {
    "duration": 1725,
    "start_time": "2022-04-07T15:49:57.497Z"
   },
   {
    "duration": 785,
    "start_time": "2022-04-07T15:50:00.920Z"
   },
   {
    "duration": 21,
    "start_time": "2022-04-07T15:53:24.466Z"
   },
   {
    "duration": 17,
    "start_time": "2022-04-07T15:53:39.402Z"
   },
   {
    "duration": 13,
    "start_time": "2022-04-07T15:54:11.961Z"
   },
   {
    "duration": 17,
    "start_time": "2022-04-07T15:54:29.089Z"
   },
   {
    "duration": 16,
    "start_time": "2022-04-07T15:54:32.568Z"
   },
   {
    "duration": 99,
    "start_time": "2022-04-07T16:02:41.899Z"
   },
   {
    "duration": 4,
    "start_time": "2022-04-07T16:03:07.662Z"
   },
   {
    "duration": 9,
    "start_time": "2022-04-07T16:04:07.064Z"
   },
   {
    "duration": 3,
    "start_time": "2022-04-07T16:04:45.302Z"
   },
   {
    "duration": 155,
    "start_time": "2022-04-07T16:06:33.866Z"
   },
   {
    "duration": 7,
    "start_time": "2022-04-07T16:08:10.831Z"
   },
   {
    "duration": 3,
    "start_time": "2022-04-07T16:12:00.132Z"
   },
   {
    "duration": 4,
    "start_time": "2022-04-07T16:12:25.345Z"
   },
   {
    "duration": 1226,
    "start_time": "2022-04-07T17:11:17.696Z"
   },
   {
    "duration": 1229,
    "start_time": "2022-04-07T17:23:34.803Z"
   },
   {
    "duration": 5,
    "start_time": "2022-04-07T17:24:02.093Z"
   },
   {
    "duration": 1276,
    "start_time": "2022-04-07T17:24:10.585Z"
   },
   {
    "duration": 1812,
    "start_time": "2022-04-07T17:24:28.591Z"
   },
   {
    "duration": 2103,
    "start_time": "2022-04-07T17:24:52.072Z"
   },
   {
    "duration": 3,
    "start_time": "2022-04-07T17:31:13.798Z"
   },
   {
    "duration": 7,
    "start_time": "2022-04-07T17:32:54.562Z"
   },
   {
    "duration": 1332,
    "start_time": "2022-04-07T17:33:03.570Z"
   },
   {
    "duration": 1877,
    "start_time": "2022-04-07T17:43:49.983Z"
   },
   {
    "duration": 13,
    "start_time": "2022-04-07T17:44:53.403Z"
   },
   {
    "duration": 7,
    "start_time": "2022-04-07T17:46:11.001Z"
   },
   {
    "duration": 10,
    "start_time": "2022-04-07T17:46:13.578Z"
   },
   {
    "duration": 22,
    "start_time": "2022-04-07T17:49:07.983Z"
   },
   {
    "duration": 215,
    "start_time": "2022-04-07T17:59:22.138Z"
   },
   {
    "duration": 688,
    "start_time": "2022-04-07T18:01:48.044Z"
   },
   {
    "duration": 16,
    "start_time": "2022-04-07T18:01:54.366Z"
   },
   {
    "duration": 12,
    "start_time": "2022-04-07T18:02:00.212Z"
   },
   {
    "duration": 696,
    "start_time": "2022-04-07T18:02:49.632Z"
   },
   {
    "duration": 14,
    "start_time": "2022-04-07T18:02:54.619Z"
   },
   {
    "duration": 17,
    "start_time": "2022-04-07T18:03:03.895Z"
   },
   {
    "duration": 300,
    "start_time": "2022-04-07T18:03:32.170Z"
   },
   {
    "duration": 1583,
    "start_time": "2022-04-07T18:04:16.544Z"
   },
   {
    "duration": 724,
    "start_time": "2022-04-07T18:04:19.792Z"
   },
   {
    "duration": 17,
    "start_time": "2022-04-07T18:04:23.189Z"
   },
   {
    "duration": 11,
    "start_time": "2022-04-07T18:05:08.293Z"
   },
   {
    "duration": 717,
    "start_time": "2022-04-07T18:05:33.445Z"
   },
   {
    "duration": 16,
    "start_time": "2022-04-07T18:05:38.077Z"
   },
   {
    "duration": 3,
    "start_time": "2022-04-07T18:05:46.381Z"
   },
   {
    "duration": 8,
    "start_time": "2022-04-07T18:05:48.821Z"
   },
   {
    "duration": 3,
    "start_time": "2022-04-07T18:05:51.701Z"
   },
   {
    "duration": 172,
    "start_time": "2022-04-07T18:05:55.093Z"
   },
   {
    "duration": 6,
    "start_time": "2022-04-07T18:05:57.460Z"
   },
   {
    "duration": 4,
    "start_time": "2022-04-07T18:06:00.828Z"
   },
   {
    "duration": 4,
    "start_time": "2022-04-07T18:06:03.420Z"
   },
   {
    "duration": 3,
    "start_time": "2022-04-07T18:06:07.932Z"
   },
   {
    "duration": 7,
    "start_time": "2022-04-07T18:06:10.395Z"
   },
   {
    "duration": 1294,
    "start_time": "2022-04-07T18:06:13.115Z"
   },
   {
    "duration": 1822,
    "start_time": "2022-04-07T18:06:36.838Z"
   },
   {
    "duration": 1763,
    "start_time": "2022-04-07T18:06:42.975Z"
   },
   {
    "duration": 5,
    "start_time": "2022-04-07T18:07:39.141Z"
   },
   {
    "duration": 9,
    "start_time": "2022-04-07T18:07:57.205Z"
   },
   {
    "duration": 6,
    "start_time": "2022-04-07T18:07:57.953Z"
   },
   {
    "duration": 9,
    "start_time": "2022-04-07T18:07:58.621Z"
   },
   {
    "duration": 25,
    "start_time": "2022-04-07T18:08:01.282Z"
   },
   {
    "duration": 68,
    "start_time": "2022-04-07T18:08:11.362Z"
   },
   {
    "duration": 6,
    "start_time": "2022-04-07T18:09:12.952Z"
   },
   {
    "duration": 10,
    "start_time": "2022-04-07T18:09:28.183Z"
   },
   {
    "duration": 3,
    "start_time": "2022-04-07T19:26:03.078Z"
   },
   {
    "duration": 4,
    "start_time": "2022-04-07T19:30:57.986Z"
   },
   {
    "duration": 3112,
    "start_time": "2022-04-07T19:31:22.992Z"
   },
   {
    "duration": 3372,
    "start_time": "2022-04-07T19:32:17.306Z"
   },
   {
    "duration": 2970,
    "start_time": "2022-04-07T19:34:38.869Z"
   },
   {
    "duration": 4929,
    "start_time": "2022-04-07T19:35:41.765Z"
   },
   {
    "duration": 4,
    "start_time": "2022-04-07T19:37:42.871Z"
   },
   {
    "duration": 3070,
    "start_time": "2022-04-07T19:37:49.151Z"
   },
   {
    "duration": 3116,
    "start_time": "2022-04-07T19:38:04.445Z"
   },
   {
    "duration": 4,
    "start_time": "2022-04-07T19:39:07.274Z"
   },
   {
    "duration": 17,
    "start_time": "2022-04-07T19:39:26.020Z"
   },
   {
    "duration": 3,
    "start_time": "2022-04-07T19:41:31.716Z"
   },
   {
    "duration": 2186,
    "start_time": "2022-04-07T19:41:34.762Z"
   },
   {
    "duration": 15,
    "start_time": "2022-04-07T19:41:39.458Z"
   },
   {
    "duration": 11,
    "start_time": "2022-04-07T19:41:51.609Z"
   },
   {
    "duration": 16,
    "start_time": "2022-04-07T19:41:57.425Z"
   },
   {
    "duration": 4,
    "start_time": "2022-04-07T19:42:16.553Z"
   },
   {
    "duration": 5,
    "start_time": "2022-04-07T19:42:20.141Z"
   },
   {
    "duration": 3,
    "start_time": "2022-04-07T19:42:22.824Z"
   },
   {
    "duration": 245,
    "start_time": "2022-04-07T19:42:26.721Z"
   },
   {
    "duration": 5,
    "start_time": "2022-04-07T19:42:33.280Z"
   },
   {
    "duration": 4,
    "start_time": "2022-04-07T19:42:37.703Z"
   },
   {
    "duration": 4,
    "start_time": "2022-04-07T19:42:40.326Z"
   },
   {
    "duration": 2,
    "start_time": "2022-04-07T19:43:56.676Z"
   },
   {
    "duration": 7,
    "start_time": "2022-04-07T19:43:58.556Z"
   },
   {
    "duration": 1187,
    "start_time": "2022-04-07T19:44:00.756Z"
   },
   {
    "duration": 1788,
    "start_time": "2022-04-07T19:44:03.077Z"
   },
   {
    "duration": 10,
    "start_time": "2022-04-07T19:44:07.205Z"
   },
   {
    "duration": 6,
    "start_time": "2022-04-07T19:44:08.005Z"
   },
   {
    "duration": 10,
    "start_time": "2022-04-07T19:44:08.620Z"
   },
   {
    "duration": 23,
    "start_time": "2022-04-07T19:44:09.933Z"
   },
   {
    "duration": 69,
    "start_time": "2022-04-07T19:44:12.661Z"
   },
   {
    "duration": 11,
    "start_time": "2022-04-07T19:44:13.348Z"
   },
   {
    "duration": 4,
    "start_time": "2022-04-07T19:44:28.373Z"
   },
   {
    "duration": 1136,
    "start_time": "2022-04-07T19:44:29.636Z"
   },
   {
    "duration": 3,
    "start_time": "2022-04-07T19:45:16.468Z"
   },
   {
    "duration": 1145,
    "start_time": "2022-04-07T19:45:17.259Z"
   },
   {
    "duration": 3,
    "start_time": "2022-04-07T19:45:29.232Z"
   },
   {
    "duration": 1276,
    "start_time": "2022-04-07T19:45:29.761Z"
   },
   {
    "duration": 1310,
    "start_time": "2022-04-07T19:45:49.106Z"
   },
   {
    "duration": 9,
    "start_time": "2022-04-07T19:47:03.505Z"
   },
   {
    "duration": 4,
    "start_time": "2022-04-07T19:47:08.193Z"
   },
   {
    "duration": 3628,
    "start_time": "2022-04-07T19:47:10.788Z"
   },
   {
    "duration": 1191,
    "start_time": "2022-04-07T19:47:27.551Z"
   },
   {
    "duration": 1111,
    "start_time": "2022-04-07T19:49:01.240Z"
   },
   {
    "duration": 2922,
    "start_time": "2022-04-07T19:49:55.099Z"
   },
   {
    "duration": 1010,
    "start_time": "2022-04-07T19:50:29.042Z"
   },
   {
    "duration": 4,
    "start_time": "2022-04-07T19:53:05.060Z"
   },
   {
    "duration": 194,
    "start_time": "2022-04-07T19:53:59.325Z"
   },
   {
    "duration": 3,
    "start_time": "2022-04-07T19:54:11.620Z"
   },
   {
    "duration": 8,
    "start_time": "2022-04-07T19:54:47.121Z"
   },
   {
    "duration": 362,
    "start_time": "2022-04-07T21:25:18.595Z"
   },
   {
    "duration": 260,
    "start_time": "2022-04-07T21:26:31.760Z"
   },
   {
    "duration": 276,
    "start_time": "2022-04-07T21:28:23.437Z"
   },
   {
    "duration": 415,
    "start_time": "2022-04-07T21:32:30.430Z"
   },
   {
    "duration": 395,
    "start_time": "2022-04-07T21:34:14.493Z"
   },
   {
    "duration": 467,
    "start_time": "2022-04-07T21:41:51.293Z"
   },
   {
    "duration": 383,
    "start_time": "2022-04-07T21:42:09.887Z"
   },
   {
    "duration": 84,
    "start_time": "2022-04-07T21:42:35.182Z"
   },
   {
    "duration": 84,
    "start_time": "2022-04-07T21:43:20.659Z"
   },
   {
    "duration": 85,
    "start_time": "2022-04-07T21:43:28.283Z"
   },
   {
    "duration": 70,
    "start_time": "2022-04-07T21:43:57.731Z"
   },
   {
    "duration": 83,
    "start_time": "2022-04-07T21:44:19.554Z"
   },
   {
    "duration": 69,
    "start_time": "2022-04-07T21:44:29.532Z"
   },
   {
    "duration": 173,
    "start_time": "2022-04-07T21:45:03.121Z"
   },
   {
    "duration": 396,
    "start_time": "2022-04-07T21:45:20.690Z"
   },
   {
    "duration": 188,
    "start_time": "2022-04-07T21:52:47.795Z"
   },
   {
    "duration": 3,
    "start_time": "2022-04-07T21:52:55.365Z"
   },
   {
    "duration": 5,
    "start_time": "2022-04-07T21:53:03.867Z"
   },
   {
    "duration": 3,
    "start_time": "2022-04-07T21:56:34.253Z"
   },
   {
    "duration": 3,
    "start_time": "2022-04-07T21:58:01.234Z"
   },
   {
    "duration": 3164,
    "start_time": "2022-04-07T22:01:11.911Z"
   },
   {
    "duration": 3,
    "start_time": "2022-04-07T22:03:12.953Z"
   },
   {
    "duration": 3,
    "start_time": "2022-04-07T22:03:16.033Z"
   },
   {
    "duration": 5,
    "start_time": "2022-04-07T22:03:59.260Z"
   },
   {
    "duration": 3,
    "start_time": "2022-04-07T22:04:35.328Z"
   },
   {
    "duration": 3,
    "start_time": "2022-04-07T22:04:36.374Z"
   },
   {
    "duration": 5,
    "start_time": "2022-04-07T22:07:32.963Z"
   },
   {
    "duration": 3,
    "start_time": "2022-04-07T22:07:45.945Z"
   },
   {
    "duration": 3,
    "start_time": "2022-04-07T22:07:59.097Z"
   },
   {
    "duration": 9,
    "start_time": "2022-04-07T22:17:44.880Z"
   },
   {
    "duration": 2,
    "start_time": "2022-04-07T22:22:09.314Z"
   },
   {
    "duration": 4889,
    "start_time": "2022-04-07T22:22:36.081Z"
   },
   {
    "duration": 2,
    "start_time": "2022-04-07T22:30:53.285Z"
   },
   {
    "duration": 4522,
    "start_time": "2022-04-07T22:30:55.939Z"
   },
   {
    "duration": 2551,
    "start_time": "2022-04-07T22:32:45.027Z"
   },
   {
    "duration": 3,
    "start_time": "2022-04-07T22:34:56.458Z"
   },
   {
    "duration": 252,
    "start_time": "2022-04-07T22:34:57.029Z"
   },
   {
    "duration": 2,
    "start_time": "2022-04-07T22:44:33.980Z"
   },
   {
    "duration": 201,
    "start_time": "2022-04-07T22:45:08.386Z"
   },
   {
    "duration": 3,
    "start_time": "2022-04-07T22:48:06.230Z"
   },
   {
    "duration": 9,
    "start_time": "2022-04-07T22:49:02.421Z"
   },
   {
    "duration": 180,
    "start_time": "2022-04-07T22:49:30.203Z"
   },
   {
    "duration": 88,
    "start_time": "2022-04-07T22:50:25.394Z"
   },
   {
    "duration": 9,
    "start_time": "2022-04-07T22:50:37.121Z"
   },
   {
    "duration": 3,
    "start_time": "2022-04-07T22:50:58.160Z"
   },
   {
    "duration": 2855,
    "start_time": "2022-04-07T22:51:36.616Z"
   },
   {
    "duration": 1571,
    "start_time": "2022-04-08T13:33:27.618Z"
   },
   {
    "duration": 873,
    "start_time": "2022-04-08T13:33:29.191Z"
   },
   {
    "duration": 18,
    "start_time": "2022-04-08T13:33:30.066Z"
   },
   {
    "duration": 10,
    "start_time": "2022-04-08T13:33:30.086Z"
   },
   {
    "duration": 18,
    "start_time": "2022-04-08T13:33:30.098Z"
   },
   {
    "duration": 4,
    "start_time": "2022-04-08T13:33:30.117Z"
   },
   {
    "duration": 30,
    "start_time": "2022-04-08T13:33:30.122Z"
   },
   {
    "duration": 4,
    "start_time": "2022-04-08T13:33:30.153Z"
   },
   {
    "duration": 175,
    "start_time": "2022-04-08T13:33:30.158Z"
   },
   {
    "duration": 11,
    "start_time": "2022-04-08T13:33:30.336Z"
   },
   {
    "duration": 5,
    "start_time": "2022-04-08T13:33:30.349Z"
   },
   {
    "duration": 13,
    "start_time": "2022-04-08T13:33:30.355Z"
   },
   {
    "duration": 11,
    "start_time": "2022-04-08T13:33:30.369Z"
   },
   {
    "duration": 20,
    "start_time": "2022-04-08T13:33:30.381Z"
   },
   {
    "duration": 1298,
    "start_time": "2022-04-08T13:33:30.402Z"
   },
   {
    "duration": 1989,
    "start_time": "2022-04-08T13:33:31.702Z"
   },
   {
    "duration": 1965,
    "start_time": "2022-04-08T13:33:33.692Z"
   },
   {
    "duration": 21,
    "start_time": "2022-04-08T13:33:35.659Z"
   },
   {
    "duration": 7,
    "start_time": "2022-04-08T13:33:35.682Z"
   },
   {
    "duration": 20,
    "start_time": "2022-04-08T13:33:35.690Z"
   },
   {
    "duration": 44,
    "start_time": "2022-04-08T13:33:35.712Z"
   },
   {
    "duration": 73,
    "start_time": "2022-04-08T13:33:35.757Z"
   },
   {
    "duration": 24,
    "start_time": "2022-04-08T13:33:35.832Z"
   },
   {
    "duration": 2,
    "start_time": "2022-04-08T13:33:35.858Z"
   },
   {
    "duration": 6,
    "start_time": "2022-04-08T13:33:35.862Z"
   },
   {
    "duration": 1147,
    "start_time": "2022-04-08T13:33:35.870Z"
   },
   {
    "duration": 1214,
    "start_time": "2022-04-08T13:33:37.019Z"
   },
   {
    "duration": 1090,
    "start_time": "2022-04-08T13:33:38.236Z"
   },
   {
    "duration": 3,
    "start_time": "2022-04-08T13:33:39.328Z"
   },
   {
    "duration": 15,
    "start_time": "2022-04-08T13:33:39.333Z"
   },
   {
    "duration": 11,
    "start_time": "2022-04-08T13:33:39.349Z"
   },
   {
    "duration": 298,
    "start_time": "2022-04-08T13:33:39.362Z"
   },
   {
    "duration": 316,
    "start_time": "2022-04-08T13:33:39.662Z"
   },
   {
    "duration": 436,
    "start_time": "2022-04-08T13:33:39.980Z"
   },
   {
    "duration": 198,
    "start_time": "2022-04-08T13:33:40.418Z"
   },
   {
    "duration": 100,
    "start_time": "2022-04-08T13:33:40.617Z"
   },
   {
    "duration": 98,
    "start_time": "2022-04-08T13:33:40.718Z"
   },
   {
    "duration": 3,
    "start_time": "2022-04-08T13:33:40.818Z"
   },
   {
    "duration": 10,
    "start_time": "2022-04-08T13:33:40.823Z"
   },
   {
    "duration": 13,
    "start_time": "2022-04-08T13:33:40.834Z"
   },
   {
    "duration": 6,
    "start_time": "2022-04-08T13:33:40.849Z"
   },
   {
    "duration": 6,
    "start_time": "2022-04-08T13:33:40.856Z"
   },
   {
    "duration": 5,
    "start_time": "2022-04-08T13:33:40.864Z"
   },
   {
    "duration": 4,
    "start_time": "2022-04-08T13:33:40.871Z"
   },
   {
    "duration": 1633,
    "start_time": "2022-04-08T13:33:40.877Z"
   },
   {
    "duration": 4,
    "start_time": "2022-04-08T13:33:42.512Z"
   },
   {
    "duration": 1962,
    "start_time": "2022-04-08T13:33:42.518Z"
   },
   {
    "duration": 11,
    "start_time": "2022-04-08T13:35:23.971Z"
   },
   {
    "duration": 11,
    "start_time": "2022-04-08T13:35:34.509Z"
   },
   {
    "duration": 19,
    "start_time": "2022-04-08T13:36:49.859Z"
   },
   {
    "duration": 2,
    "start_time": "2022-04-08T13:36:52.947Z"
   },
   {
    "duration": 1573,
    "start_time": "2022-04-08T13:36:55.795Z"
   },
   {
    "duration": 3,
    "start_time": "2022-04-08T13:37:39.905Z"
   },
   {
    "duration": 3,
    "start_time": "2022-04-08T13:37:44.169Z"
   },
   {
    "duration": 4,
    "start_time": "2022-04-08T13:44:15.799Z"
   },
   {
    "duration": 103,
    "start_time": "2022-04-08T13:44:18.543Z"
   },
   {
    "duration": 11,
    "start_time": "2022-04-08T13:44:51.270Z"
   },
   {
    "duration": 4,
    "start_time": "2022-04-08T13:47:03.461Z"
   },
   {
    "duration": 7,
    "start_time": "2022-04-08T13:47:07.625Z"
   },
   {
    "duration": 4,
    "start_time": "2022-04-08T13:47:09.961Z"
   },
   {
    "duration": 6,
    "start_time": "2022-04-08T13:47:13.444Z"
   },
   {
    "duration": 3,
    "start_time": "2022-04-08T13:47:18.882Z"
   },
   {
    "duration": 3,
    "start_time": "2022-04-08T13:48:57.998Z"
   },
   {
    "duration": 1741,
    "start_time": "2022-04-08T13:49:45.013Z"
   },
   {
    "duration": 2,
    "start_time": "2022-04-08T13:50:34.220Z"
   },
   {
    "duration": 242,
    "start_time": "2022-04-08T13:50:35.012Z"
   },
   {
    "duration": 3,
    "start_time": "2022-04-08T13:51:38.618Z"
   },
   {
    "duration": 1167,
    "start_time": "2022-04-08T13:51:39.186Z"
   },
   {
    "duration": 2,
    "start_time": "2022-04-08T13:53:14.495Z"
   },
   {
    "duration": 1054,
    "start_time": "2022-04-08T13:53:15.102Z"
   },
   {
    "duration": 1436,
    "start_time": "2022-04-08T14:00:14.315Z"
   },
   {
    "duration": 10,
    "start_time": "2022-04-08T14:02:53.184Z"
   },
   {
    "duration": 4972,
    "start_time": "2022-04-08T14:03:03.544Z"
   },
   {
    "duration": 13,
    "start_time": "2022-04-08T14:04:32.268Z"
   },
   {
    "duration": 12,
    "start_time": "2022-04-08T14:28:17.923Z"
   },
   {
    "duration": 20,
    "start_time": "2022-04-08T14:28:39.578Z"
   },
   {
    "duration": 98,
    "start_time": "2022-04-08T14:29:36.260Z"
   },
   {
    "duration": 542,
    "start_time": "2022-04-08T14:30:01.113Z"
   },
   {
    "duration": 523,
    "start_time": "2022-04-08T14:35:21.903Z"
   },
   {
    "duration": 6903,
    "start_time": "2022-04-08T14:35:37.903Z"
   },
   {
    "duration": 10,
    "start_time": "2022-04-08T14:44:37.044Z"
   },
   {
    "duration": 3,
    "start_time": "2022-04-08T14:44:45.933Z"
   },
   {
    "duration": 3,
    "start_time": "2022-04-08T14:44:56.453Z"
   },
   {
    "duration": 3,
    "start_time": "2022-04-08T14:47:08.961Z"
   },
   {
    "duration": 11,
    "start_time": "2022-04-08T14:48:01.409Z"
   },
   {
    "duration": 158,
    "start_time": "2022-04-08T14:49:01.094Z"
   },
   {
    "duration": 11,
    "start_time": "2022-04-08T14:53:23.574Z"
   },
   {
    "duration": 11,
    "start_time": "2022-04-08T14:53:45.659Z"
   },
   {
    "duration": 17,
    "start_time": "2022-04-08T14:53:56.901Z"
   },
   {
    "duration": 2351,
    "start_time": "2022-04-08T14:55:26.048Z"
   },
   {
    "duration": 4,
    "start_time": "2022-04-08T16:15:54.069Z"
   },
   {
    "duration": 12,
    "start_time": "2022-04-08T16:16:55.043Z"
   },
   {
    "duration": 5,
    "start_time": "2022-04-08T16:18:22.706Z"
   },
   {
    "duration": 12,
    "start_time": "2022-04-08T16:18:30.199Z"
   },
   {
    "duration": 6,
    "start_time": "2022-04-08T16:18:50.877Z"
   },
   {
    "duration": 6,
    "start_time": "2022-04-08T16:18:57.629Z"
   },
   {
    "duration": 3,
    "start_time": "2022-04-08T16:20:59.281Z"
   },
   {
    "duration": 10,
    "start_time": "2022-04-08T16:21:48.395Z"
   },
   {
    "duration": 3,
    "start_time": "2022-04-08T16:23:05.673Z"
   },
   {
    "duration": 3,
    "start_time": "2022-04-08T16:23:13.089Z"
   },
   {
    "duration": 348527,
    "start_time": "2022-04-08T16:24:08.094Z"
   },
   {
    "duration": 3,
    "start_time": "2022-04-08T16:29:56.623Z"
   },
   {
    "duration": 5,
    "start_time": "2022-04-08T16:29:56.628Z"
   },
   {
    "duration": 619,
    "start_time": "2022-04-08T16:29:56.635Z"
   },
   {
    "duration": 3,
    "start_time": "2022-04-08T16:31:43.747Z"
   },
   {
    "duration": 640,
    "start_time": "2022-04-08T16:31:44.460Z"
   },
   {
    "duration": 3,
    "start_time": "2022-04-08T16:32:52.073Z"
   },
   {
    "duration": 627,
    "start_time": "2022-04-08T16:33:00.305Z"
   },
   {
    "duration": 3,
    "start_time": "2022-04-08T16:33:03.329Z"
   },
   {
    "duration": 629,
    "start_time": "2022-04-08T16:33:03.961Z"
   },
   {
    "duration": 2,
    "start_time": "2022-04-08T16:46:41.866Z"
   },
   {
    "duration": 3,
    "start_time": "2022-04-08T16:46:42.538Z"
   },
   {
    "duration": 614,
    "start_time": "2022-04-08T16:46:43.209Z"
   },
   {
    "duration": 12,
    "start_time": "2022-04-08T16:52:07.860Z"
   },
   {
    "duration": 632,
    "start_time": "2022-04-08T16:52:27.377Z"
   },
   {
    "duration": 3,
    "start_time": "2022-04-08T16:53:31.591Z"
   },
   {
    "duration": 4,
    "start_time": "2022-04-08T16:53:32.135Z"
   },
   {
    "duration": 325853,
    "start_time": "2022-04-08T16:53:32.713Z"
   },
   {
    "duration": 3,
    "start_time": "2022-04-08T17:02:45.210Z"
   },
   {
    "duration": 3,
    "start_time": "2022-04-08T17:03:04.712Z"
   },
   {
    "duration": 4,
    "start_time": "2022-04-08T17:03:38.046Z"
   },
   {
    "duration": 3,
    "start_time": "2022-04-08T17:04:03.822Z"
   },
   {
    "duration": 4,
    "start_time": "2022-04-08T17:04:27.654Z"
   },
   {
    "duration": 3,
    "start_time": "2022-04-08T17:04:31.454Z"
   },
   {
    "duration": 6577,
    "start_time": "2022-04-08T17:08:54.023Z"
   },
   {
    "duration": 6460,
    "start_time": "2022-04-08T17:09:21.022Z"
   },
   {
    "duration": 11,
    "start_time": "2022-04-08T17:11:14.627Z"
   },
   {
    "duration": 24,
    "start_time": "2022-04-08T17:11:38.854Z"
   },
   {
    "duration": 7,
    "start_time": "2022-04-08T17:15:11.284Z"
   },
   {
    "duration": 23,
    "start_time": "2022-04-08T17:16:31.205Z"
   },
   {
    "duration": 7,
    "start_time": "2022-04-08T17:16:31.770Z"
   },
   {
    "duration": 1381,
    "start_time": "2022-04-08T17:27:37.789Z"
   },
   {
    "duration": 779,
    "start_time": "2022-04-08T17:27:39.172Z"
   },
   {
    "duration": 18,
    "start_time": "2022-04-08T17:27:39.953Z"
   },
   {
    "duration": 11,
    "start_time": "2022-04-08T17:27:39.973Z"
   },
   {
    "duration": 16,
    "start_time": "2022-04-08T17:27:39.986Z"
   },
   {
    "duration": 4,
    "start_time": "2022-04-08T17:27:40.004Z"
   },
   {
    "duration": 38,
    "start_time": "2022-04-08T17:27:40.009Z"
   },
   {
    "duration": 4,
    "start_time": "2022-04-08T17:27:40.049Z"
   },
   {
    "duration": 174,
    "start_time": "2022-04-08T17:27:40.055Z"
   },
   {
    "duration": 6,
    "start_time": "2022-04-08T17:27:40.231Z"
   },
   {
    "duration": 4,
    "start_time": "2022-04-08T17:27:40.247Z"
   },
   {
    "duration": 12,
    "start_time": "2022-04-08T17:27:40.252Z"
   },
   {
    "duration": 16,
    "start_time": "2022-04-08T17:27:40.265Z"
   },
   {
    "duration": 12,
    "start_time": "2022-04-08T17:27:40.283Z"
   },
   {
    "duration": 1295,
    "start_time": "2022-04-08T17:27:40.296Z"
   },
   {
    "duration": 2008,
    "start_time": "2022-04-08T17:27:41.593Z"
   },
   {
    "duration": 1906,
    "start_time": "2022-04-08T17:27:43.603Z"
   },
   {
    "duration": 15,
    "start_time": "2022-04-08T17:27:45.511Z"
   },
   {
    "duration": 22,
    "start_time": "2022-04-08T17:27:45.528Z"
   },
   {
    "duration": 11,
    "start_time": "2022-04-08T17:27:45.552Z"
   },
   {
    "duration": 31,
    "start_time": "2022-04-08T17:27:45.565Z"
   },
   {
    "duration": 94,
    "start_time": "2022-04-08T17:27:45.597Z"
   },
   {
    "duration": 13,
    "start_time": "2022-04-08T17:27:45.692Z"
   },
   {
    "duration": 3,
    "start_time": "2022-04-08T17:27:45.706Z"
   },
   {
    "duration": 9,
    "start_time": "2022-04-08T17:27:45.710Z"
   },
   {
    "duration": 1097,
    "start_time": "2022-04-08T17:27:45.720Z"
   },
   {
    "duration": 1220,
    "start_time": "2022-04-08T17:27:46.819Z"
   },
   {
    "duration": 1092,
    "start_time": "2022-04-08T17:27:48.043Z"
   },
   {
    "duration": 10,
    "start_time": "2022-04-08T17:27:49.137Z"
   },
   {
    "duration": 26,
    "start_time": "2022-04-08T17:27:49.149Z"
   },
   {
    "duration": 14,
    "start_time": "2022-04-08T17:27:49.177Z"
   },
   {
    "duration": 290,
    "start_time": "2022-04-08T17:27:49.193Z"
   },
   {
    "duration": 312,
    "start_time": "2022-04-08T17:27:49.485Z"
   },
   {
    "duration": 435,
    "start_time": "2022-04-08T17:27:49.798Z"
   },
   {
    "duration": 195,
    "start_time": "2022-04-08T17:27:50.235Z"
   },
   {
    "duration": 98,
    "start_time": "2022-04-08T17:27:50.432Z"
   },
   {
    "duration": 99,
    "start_time": "2022-04-08T17:27:50.531Z"
   },
   {
    "duration": 4,
    "start_time": "2022-04-08T17:27:50.631Z"
   },
   {
    "duration": 12,
    "start_time": "2022-04-08T17:27:50.636Z"
   },
   {
    "duration": 18,
    "start_time": "2022-04-08T17:27:50.650Z"
   },
   {
    "duration": 19,
    "start_time": "2022-04-08T17:27:50.669Z"
   },
   {
    "duration": 5,
    "start_time": "2022-04-08T17:27:50.689Z"
   },
   {
    "duration": 8,
    "start_time": "2022-04-08T17:27:50.696Z"
   },
   {
    "duration": 11,
    "start_time": "2022-04-08T17:27:50.705Z"
   },
   {
    "duration": 9,
    "start_time": "2022-04-08T17:27:50.718Z"
   },
   {
    "duration": 7,
    "start_time": "2022-04-08T17:27:50.729Z"
   },
   {
    "duration": 324495,
    "start_time": "2022-04-08T17:27:50.737Z"
   },
   {
    "duration": 0,
    "start_time": "2022-04-08T17:33:15.234Z"
   },
   {
    "duration": 0,
    "start_time": "2022-04-08T17:33:15.235Z"
   },
   {
    "duration": 0,
    "start_time": "2022-04-08T17:33:15.236Z"
   },
   {
    "duration": 0,
    "start_time": "2022-04-08T17:33:15.237Z"
   },
   {
    "duration": 1400,
    "start_time": "2022-04-08T17:34:02.261Z"
   },
   {
    "duration": 770,
    "start_time": "2022-04-08T17:34:03.663Z"
   },
   {
    "duration": 26,
    "start_time": "2022-04-08T17:34:04.434Z"
   },
   {
    "duration": 11,
    "start_time": "2022-04-08T17:34:04.461Z"
   },
   {
    "duration": 15,
    "start_time": "2022-04-08T17:34:04.473Z"
   },
   {
    "duration": 3,
    "start_time": "2022-04-08T17:34:04.490Z"
   },
   {
    "duration": 12,
    "start_time": "2022-04-08T17:34:04.495Z"
   },
   {
    "duration": 3,
    "start_time": "2022-04-08T17:34:04.509Z"
   },
   {
    "duration": 193,
    "start_time": "2022-04-08T17:34:04.514Z"
   },
   {
    "duration": 6,
    "start_time": "2022-04-08T17:34:04.710Z"
   },
   {
    "duration": 3,
    "start_time": "2022-04-08T17:34:04.718Z"
   },
   {
    "duration": 8,
    "start_time": "2022-04-08T17:34:04.722Z"
   },
   {
    "duration": 15,
    "start_time": "2022-04-08T17:34:04.731Z"
   },
   {
    "duration": 18,
    "start_time": "2022-04-08T17:34:04.748Z"
   },
   {
    "duration": 1300,
    "start_time": "2022-04-08T17:34:04.768Z"
   },
   {
    "duration": 1998,
    "start_time": "2022-04-08T17:34:06.069Z"
   },
   {
    "duration": 1898,
    "start_time": "2022-04-08T17:34:08.069Z"
   },
   {
    "duration": 15,
    "start_time": "2022-04-08T17:34:09.969Z"
   },
   {
    "duration": 7,
    "start_time": "2022-04-08T17:34:09.985Z"
   },
   {
    "duration": 11,
    "start_time": "2022-04-08T17:34:09.994Z"
   },
   {
    "duration": 58,
    "start_time": "2022-04-08T17:34:10.006Z"
   },
   {
    "duration": 84,
    "start_time": "2022-04-08T17:34:10.066Z"
   },
   {
    "duration": 14,
    "start_time": "2022-04-08T17:34:10.152Z"
   },
   {
    "duration": 4,
    "start_time": "2022-04-08T17:34:10.168Z"
   },
   {
    "duration": 8,
    "start_time": "2022-04-08T17:34:10.173Z"
   },
   {
    "duration": 1140,
    "start_time": "2022-04-08T17:34:10.182Z"
   },
   {
    "duration": 1316,
    "start_time": "2022-04-08T17:34:11.324Z"
   },
   {
    "duration": 1091,
    "start_time": "2022-04-08T17:34:12.647Z"
   },
   {
    "duration": 5,
    "start_time": "2022-04-08T17:34:13.740Z"
   },
   {
    "duration": 8,
    "start_time": "2022-04-08T17:34:13.747Z"
   },
   {
    "duration": 11,
    "start_time": "2022-04-08T17:34:13.756Z"
   },
   {
    "duration": 296,
    "start_time": "2022-04-08T17:34:13.769Z"
   },
   {
    "duration": 306,
    "start_time": "2022-04-08T17:34:14.067Z"
   },
   {
    "duration": 442,
    "start_time": "2022-04-08T17:34:14.375Z"
   },
   {
    "duration": 205,
    "start_time": "2022-04-08T17:34:14.819Z"
   },
   {
    "duration": 100,
    "start_time": "2022-04-08T17:34:15.027Z"
   },
   {
    "duration": 92,
    "start_time": "2022-04-08T17:34:15.129Z"
   },
   {
    "duration": 4,
    "start_time": "2022-04-08T17:34:15.223Z"
   },
   {
    "duration": 19,
    "start_time": "2022-04-08T17:34:15.228Z"
   },
   {
    "duration": 9,
    "start_time": "2022-04-08T17:34:15.249Z"
   },
   {
    "duration": 7,
    "start_time": "2022-04-08T17:34:15.259Z"
   },
   {
    "duration": 7,
    "start_time": "2022-04-08T17:34:15.267Z"
   },
   {
    "duration": 7,
    "start_time": "2022-04-08T17:34:15.275Z"
   },
   {
    "duration": 6,
    "start_time": "2022-04-08T17:34:15.283Z"
   },
   {
    "duration": 324964,
    "start_time": "2022-04-08T17:34:15.290Z"
   },
   {
    "duration": 3,
    "start_time": "2022-04-08T17:39:40.256Z"
   },
   {
    "duration": 6,
    "start_time": "2022-04-08T17:39:40.261Z"
   },
   {
    "duration": 29,
    "start_time": "2022-04-08T17:39:40.268Z"
   },
   {
    "duration": 7,
    "start_time": "2022-04-08T17:39:40.298Z"
   },
   {
    "duration": 4,
    "start_time": "2022-04-09T10:27:45.425Z"
   },
   {
    "duration": 1732,
    "start_time": "2022-04-09T10:27:51.157Z"
   },
   {
    "duration": 885,
    "start_time": "2022-04-09T10:27:52.891Z"
   },
   {
    "duration": 19,
    "start_time": "2022-04-09T10:27:53.778Z"
   },
   {
    "duration": 13,
    "start_time": "2022-04-09T10:27:53.799Z"
   },
   {
    "duration": 27,
    "start_time": "2022-04-09T10:27:53.813Z"
   },
   {
    "duration": 4,
    "start_time": "2022-04-09T10:27:53.842Z"
   },
   {
    "duration": 14,
    "start_time": "2022-04-09T10:27:53.847Z"
   },
   {
    "duration": 4,
    "start_time": "2022-04-09T10:27:53.862Z"
   },
   {
    "duration": 210,
    "start_time": "2022-04-09T10:27:53.867Z"
   },
   {
    "duration": 7,
    "start_time": "2022-04-09T10:27:54.079Z"
   },
   {
    "duration": 9,
    "start_time": "2022-04-09T10:27:54.087Z"
   },
   {
    "duration": 11,
    "start_time": "2022-04-09T10:27:54.097Z"
   },
   {
    "duration": 5,
    "start_time": "2022-04-09T10:27:54.110Z"
   },
   {
    "duration": 21,
    "start_time": "2022-04-09T10:27:54.116Z"
   },
   {
    "duration": 1501,
    "start_time": "2022-04-09T10:27:54.139Z"
   },
   {
    "duration": 2242,
    "start_time": "2022-04-09T10:27:55.642Z"
   },
   {
    "duration": 2198,
    "start_time": "2022-04-09T10:27:57.885Z"
   },
   {
    "duration": 13,
    "start_time": "2022-04-09T10:28:00.085Z"
   },
   {
    "duration": 7,
    "start_time": "2022-04-09T10:28:00.099Z"
   },
   {
    "duration": 31,
    "start_time": "2022-04-09T10:28:00.107Z"
   },
   {
    "duration": 29,
    "start_time": "2022-04-09T10:28:00.140Z"
   },
   {
    "duration": 99,
    "start_time": "2022-04-09T10:28:00.171Z"
   },
   {
    "duration": 12,
    "start_time": "2022-04-09T10:28:00.272Z"
   },
   {
    "duration": 5,
    "start_time": "2022-04-09T10:28:00.286Z"
   },
   {
    "duration": 12,
    "start_time": "2022-04-09T10:28:00.293Z"
   },
   {
    "duration": 1158,
    "start_time": "2022-04-09T10:28:00.307Z"
   },
   {
    "duration": 1300,
    "start_time": "2022-04-09T10:28:01.467Z"
   },
   {
    "duration": 1200,
    "start_time": "2022-04-09T10:28:02.771Z"
   },
   {
    "duration": 4,
    "start_time": "2022-04-09T10:28:03.973Z"
   },
   {
    "duration": 12,
    "start_time": "2022-04-09T10:28:03.979Z"
   },
   {
    "duration": 14,
    "start_time": "2022-04-09T10:28:03.992Z"
   },
   {
    "duration": 348,
    "start_time": "2022-04-09T10:28:04.008Z"
   },
   {
    "duration": 373,
    "start_time": "2022-04-09T10:28:04.358Z"
   },
   {
    "duration": 510,
    "start_time": "2022-04-09T10:28:04.733Z"
   },
   {
    "duration": 200,
    "start_time": "2022-04-09T10:28:05.245Z"
   },
   {
    "duration": 107,
    "start_time": "2022-04-09T10:28:05.447Z"
   },
   {
    "duration": 108,
    "start_time": "2022-04-09T10:28:05.556Z"
   },
   {
    "duration": 4,
    "start_time": "2022-04-09T10:28:05.665Z"
   },
   {
    "duration": 5,
    "start_time": "2022-04-09T10:28:05.671Z"
   },
   {
    "duration": 9,
    "start_time": "2022-04-09T10:28:05.677Z"
   },
   {
    "duration": 8,
    "start_time": "2022-04-09T10:28:05.688Z"
   },
   {
    "duration": 8,
    "start_time": "2022-04-09T10:28:05.697Z"
   },
   {
    "duration": 27,
    "start_time": "2022-04-09T10:28:05.706Z"
   },
   {
    "duration": 11,
    "start_time": "2022-04-09T10:28:05.734Z"
   },
   {
    "duration": 8,
    "start_time": "2022-04-09T10:28:05.746Z"
   },
   {
    "duration": 125,
    "start_time": "2022-04-09T10:28:05.756Z"
   },
   {
    "duration": 0,
    "start_time": "2022-04-09T10:28:05.882Z"
   },
   {
    "duration": 0,
    "start_time": "2022-04-09T10:28:05.884Z"
   },
   {
    "duration": 0,
    "start_time": "2022-04-09T10:28:05.885Z"
   },
   {
    "duration": 360377,
    "start_time": "2022-04-09T10:31:14.857Z"
   },
   {
    "duration": 3,
    "start_time": "2022-04-09T10:37:20.726Z"
   },
   {
    "duration": 4,
    "start_time": "2022-04-09T10:37:33.667Z"
   },
   {
    "duration": 3,
    "start_time": "2022-04-09T10:37:39.325Z"
   },
   {
    "duration": 3,
    "start_time": "2022-04-09T10:41:16.774Z"
   },
   {
    "duration": 3,
    "start_time": "2022-04-09T10:41:18.099Z"
   },
   {
    "duration": 165,
    "start_time": "2022-04-09T10:44:19.573Z"
   },
   {
    "duration": 6,
    "start_time": "2022-04-09T10:44:20.436Z"
   },
   {
    "duration": 4,
    "start_time": "2022-04-09T11:07:58.162Z"
   },
   {
    "duration": 10,
    "start_time": "2022-04-09T11:10:49.210Z"
   },
   {
    "duration": 8,
    "start_time": "2022-04-09T11:12:05.387Z"
   },
   {
    "duration": 8,
    "start_time": "2022-04-09T11:13:16.823Z"
   },
   {
    "duration": 175,
    "start_time": "2022-04-09T11:16:56.616Z"
   },
   {
    "duration": 8,
    "start_time": "2022-04-09T11:17:53.895Z"
   },
   {
    "duration": 8,
    "start_time": "2022-04-09T11:18:01.669Z"
   },
   {
    "duration": 122,
    "start_time": "2022-04-09T11:19:16.415Z"
   },
   {
    "duration": 26,
    "start_time": "2022-04-09T11:19:25.748Z"
   },
   {
    "duration": 3346,
    "start_time": "2022-04-09T12:05:51.783Z"
   },
   {
    "duration": 4,
    "start_time": "2022-04-09T12:06:41.318Z"
   },
   {
    "duration": 4,
    "start_time": "2022-04-09T12:06:45.513Z"
   },
   {
    "duration": 7,
    "start_time": "2022-04-09T12:06:52.531Z"
   },
   {
    "duration": 6,
    "start_time": "2022-04-09T12:07:44.330Z"
   },
   {
    "duration": 10,
    "start_time": "2022-04-09T12:09:08.760Z"
   },
   {
    "duration": 2641,
    "start_time": "2022-04-09T12:09:19.296Z"
   },
   {
    "duration": 11,
    "start_time": "2022-04-09T12:10:11.526Z"
   },
   {
    "duration": 10,
    "start_time": "2022-04-09T12:10:45.622Z"
   },
   {
    "duration": 21,
    "start_time": "2022-04-09T12:11:54.830Z"
   },
   {
    "duration": 115,
    "start_time": "2022-04-09T12:13:05.961Z"
   },
   {
    "duration": 3,
    "start_time": "2022-04-09T12:13:11.474Z"
   },
   {
    "duration": 4,
    "start_time": "2022-04-09T12:13:15.971Z"
   },
   {
    "duration": 6,
    "start_time": "2022-04-09T12:13:18.313Z"
   },
   {
    "duration": 5,
    "start_time": "2022-04-09T12:13:21.289Z"
   },
   {
    "duration": 5,
    "start_time": "2022-04-09T12:13:29.406Z"
   },
   {
    "duration": 3,
    "start_time": "2022-04-09T12:13:32.592Z"
   },
   {
    "duration": 3,
    "start_time": "2022-04-09T12:13:34.872Z"
   },
   {
    "duration": 307452,
    "start_time": "2022-04-09T12:13:39.049Z"
   },
   {
    "duration": 4,
    "start_time": "2022-04-09T12:22:29.496Z"
   },
   {
    "duration": 3,
    "start_time": "2022-04-09T12:22:38.530Z"
   },
   {
    "duration": 3,
    "start_time": "2022-04-09T12:22:41.840Z"
   },
   {
    "duration": 4,
    "start_time": "2022-04-09T12:24:36.887Z"
   },
   {
    "duration": 3,
    "start_time": "2022-04-09T12:25:32.421Z"
   },
   {
    "duration": 147,
    "start_time": "2022-04-09T12:26:00.124Z"
   },
   {
    "duration": 1542,
    "start_time": "2022-04-09T12:27:45.965Z"
   },
   {
    "duration": 781,
    "start_time": "2022-04-09T12:27:47.509Z"
   },
   {
    "duration": 19,
    "start_time": "2022-04-09T12:27:48.291Z"
   },
   {
    "duration": 20,
    "start_time": "2022-04-09T12:27:48.312Z"
   },
   {
    "duration": 17,
    "start_time": "2022-04-09T12:27:48.335Z"
   },
   {
    "duration": 4,
    "start_time": "2022-04-09T12:27:48.353Z"
   },
   {
    "duration": 11,
    "start_time": "2022-04-09T12:27:48.358Z"
   },
   {
    "duration": 3,
    "start_time": "2022-04-09T12:27:48.370Z"
   },
   {
    "duration": 210,
    "start_time": "2022-04-09T12:27:48.375Z"
   },
   {
    "duration": 6,
    "start_time": "2022-04-09T12:27:48.587Z"
   },
   {
    "duration": 6,
    "start_time": "2022-04-09T12:27:48.595Z"
   },
   {
    "duration": 9,
    "start_time": "2022-04-09T12:27:48.602Z"
   },
   {
    "duration": 19,
    "start_time": "2022-04-09T12:27:48.613Z"
   },
   {
    "duration": 11,
    "start_time": "2022-04-09T12:27:48.635Z"
   },
   {
    "duration": 1520,
    "start_time": "2022-04-09T12:27:48.648Z"
   },
   {
    "duration": 2236,
    "start_time": "2022-04-09T12:27:50.170Z"
   },
   {
    "duration": 2205,
    "start_time": "2022-04-09T12:27:52.407Z"
   },
   {
    "duration": 21,
    "start_time": "2022-04-09T12:27:54.614Z"
   },
   {
    "duration": 7,
    "start_time": "2022-04-09T12:27:54.637Z"
   },
   {
    "duration": 10,
    "start_time": "2022-04-09T12:27:54.646Z"
   },
   {
    "duration": 28,
    "start_time": "2022-04-09T12:27:54.658Z"
   },
   {
    "duration": 107,
    "start_time": "2022-04-09T12:27:54.688Z"
   },
   {
    "duration": 12,
    "start_time": "2022-04-09T12:27:54.797Z"
   },
   {
    "duration": 3,
    "start_time": "2022-04-09T12:27:54.811Z"
   },
   {
    "duration": 4,
    "start_time": "2022-04-09T12:27:54.831Z"
   },
   {
    "duration": 1208,
    "start_time": "2022-04-09T12:27:54.837Z"
   },
   {
    "duration": 1297,
    "start_time": "2022-04-09T12:27:56.047Z"
   },
   {
    "duration": 1208,
    "start_time": "2022-04-09T12:27:57.346Z"
   },
   {
    "duration": 4,
    "start_time": "2022-04-09T12:27:58.556Z"
   },
   {
    "duration": 8,
    "start_time": "2022-04-09T12:27:58.562Z"
   },
   {
    "duration": 12,
    "start_time": "2022-04-09T12:27:58.571Z"
   },
   {
    "duration": 332,
    "start_time": "2022-04-09T12:27:58.585Z"
   },
   {
    "duration": 358,
    "start_time": "2022-04-09T12:27:58.919Z"
   },
   {
    "duration": 11,
    "start_time": "2022-04-09T12:27:59.278Z"
   },
   {
    "duration": 3,
    "start_time": "2022-04-09T12:27:59.291Z"
   },
   {
    "duration": 140,
    "start_time": "2022-04-09T12:28:08.848Z"
   },
   {
    "duration": 9,
    "start_time": "2022-04-09T12:28:12.959Z"
   },
   {
    "duration": 19,
    "start_time": "2022-04-09T12:28:15.423Z"
   },
   {
    "duration": 3,
    "start_time": "2022-04-09T12:28:34.695Z"
   },
   {
    "duration": 4,
    "start_time": "2022-04-09T12:28:37.585Z"
   },
   {
    "duration": 7,
    "start_time": "2022-04-09T12:28:40.039Z"
   },
   {
    "duration": 5,
    "start_time": "2022-04-09T12:28:42.519Z"
   },
   {
    "duration": 6,
    "start_time": "2022-04-09T12:28:46.119Z"
   },
   {
    "duration": 3,
    "start_time": "2022-04-09T12:28:49.207Z"
   },
   {
    "duration": 3,
    "start_time": "2022-04-09T12:28:52.567Z"
   },
   {
    "duration": 306063,
    "start_time": "2022-04-09T12:29:02.158Z"
   },
   {
    "duration": 4,
    "start_time": "2022-04-09T12:34:44.844Z"
   },
   {
    "duration": 3,
    "start_time": "2022-04-09T12:34:52.340Z"
   },
   {
    "duration": 26,
    "start_time": "2022-04-09T12:35:44.323Z"
   },
   {
    "duration": 7,
    "start_time": "2022-04-09T12:35:50.331Z"
   },
   {
    "duration": 10,
    "start_time": "2022-04-09T12:35:55.449Z"
   }
  ],
  "kernelspec": {
   "display_name": "Python 3 (ipykernel)",
   "language": "python",
   "name": "python3"
  },
  "language_info": {
   "codemirror_mode": {
    "name": "ipython",
    "version": 3
   },
   "file_extension": ".py",
   "mimetype": "text/x-python",
   "name": "python",
   "nbconvert_exporter": "python",
   "pygments_lexer": "ipython3",
   "version": "3.9.7"
  },
  "toc": {
   "base_numbering": 1,
   "nav_menu": {},
   "number_sections": true,
   "sideBar": true,
   "skip_h1_title": true,
   "title_cell": "Содержание",
   "title_sidebar": "Contents",
   "toc_cell": true,
   "toc_position": {},
   "toc_section_display": true,
   "toc_window_display": true
  }
 },
 "nbformat": 4,
 "nbformat_minor": 2
}
