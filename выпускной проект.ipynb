{
 "cells": [
  {
   "cell_type": "markdown",
   "metadata": {},
   "source": [
    "### Описание проекта\n",
    "Вы работаете в интернет-магазине «Стримчик», который продаёт по всему миру компьютерные игры. Из открытых источников доступны исторические данные о продажах игр, оценки пользователей и экспертов, жанры и платформы (например, Xbox или PlayStation). Вам нужно выявить определяющие успешность игры закономерности. Это позволит сделать ставку на потенциально популярный продукт и спланировать рекламные кампании.\n",
    "Перед вами данные до 2016 года. Представим, что сейчас декабрь 2016 г., и вы планируете кампанию на 2017-й. Нужно отработать принцип работы с данными. Неважно, прогнозируете ли вы продажи на 2017 год по данным 2016-го или же 2027-й — по данным 2026 года.\n",
    "В наборе данных попадается аббревиатура ESRB (Entertainment Software Rating Board) — это ассоциация, определяющая возрастной рейтинг компьютерных игр. ESRB оценивает игровой контент и присваивает ему подходящую возрастную категорию, например, «Для взрослых», «Для детей младшего возраста» или «Для подростков»."
   ]
  },
  {
   "cell_type": "markdown",
   "metadata": {},
   "source": [
    "## Общая информация по датафрейму"
   ]
  },
  {
   "cell_type": "code",
   "execution_count": 1,
   "metadata": {},
   "outputs": [],
   "source": [
    "#импорт используемых бибилиотек\n",
    "import pandas as pd\n",
    "import numpy as np\n",
    "import scipy.stats as st\n",
    "import datetime\n",
    "from tqdm import tqdm\n",
    "import matplotlib.pyplot as plt"
   ]
  },
  {
   "cell_type": "code",
   "execution_count": 2,
   "metadata": {},
   "outputs": [
    {
     "data": {
      "text/html": [
       "<div>\n",
       "<style scoped>\n",
       "    .dataframe tbody tr th:only-of-type {\n",
       "        vertical-align: middle;\n",
       "    }\n",
       "\n",
       "    .dataframe tbody tr th {\n",
       "        vertical-align: top;\n",
       "    }\n",
       "\n",
       "    .dataframe thead th {\n",
       "        text-align: right;\n",
       "    }\n",
       "</style>\n",
       "<table border=\"1\" class=\"dataframe\">\n",
       "  <thead>\n",
       "    <tr style=\"text-align: right;\">\n",
       "      <th></th>\n",
       "      <th>Name</th>\n",
       "      <th>Platform</th>\n",
       "      <th>Year_of_Release</th>\n",
       "      <th>Genre</th>\n",
       "      <th>NA_sales</th>\n",
       "      <th>EU_sales</th>\n",
       "      <th>JP_sales</th>\n",
       "      <th>Other_sales</th>\n",
       "      <th>Critic_Score</th>\n",
       "      <th>User_Score</th>\n",
       "      <th>Rating</th>\n",
       "    </tr>\n",
       "  </thead>\n",
       "  <tbody>\n",
       "    <tr>\n",
       "      <td>0</td>\n",
       "      <td>Wii Sports</td>\n",
       "      <td>Wii</td>\n",
       "      <td>2006.0</td>\n",
       "      <td>Sports</td>\n",
       "      <td>41.36</td>\n",
       "      <td>28.96</td>\n",
       "      <td>3.77</td>\n",
       "      <td>8.45</td>\n",
       "      <td>76.0</td>\n",
       "      <td>8</td>\n",
       "      <td>E</td>\n",
       "    </tr>\n",
       "    <tr>\n",
       "      <td>1</td>\n",
       "      <td>Super Mario Bros.</td>\n",
       "      <td>NES</td>\n",
       "      <td>1985.0</td>\n",
       "      <td>Platform</td>\n",
       "      <td>29.08</td>\n",
       "      <td>3.58</td>\n",
       "      <td>6.81</td>\n",
       "      <td>0.77</td>\n",
       "      <td>NaN</td>\n",
       "      <td>NaN</td>\n",
       "      <td>NaN</td>\n",
       "    </tr>\n",
       "    <tr>\n",
       "      <td>2</td>\n",
       "      <td>Mario Kart Wii</td>\n",
       "      <td>Wii</td>\n",
       "      <td>2008.0</td>\n",
       "      <td>Racing</td>\n",
       "      <td>15.68</td>\n",
       "      <td>12.76</td>\n",
       "      <td>3.79</td>\n",
       "      <td>3.29</td>\n",
       "      <td>82.0</td>\n",
       "      <td>8.3</td>\n",
       "      <td>E</td>\n",
       "    </tr>\n",
       "    <tr>\n",
       "      <td>3</td>\n",
       "      <td>Wii Sports Resort</td>\n",
       "      <td>Wii</td>\n",
       "      <td>2009.0</td>\n",
       "      <td>Sports</td>\n",
       "      <td>15.61</td>\n",
       "      <td>10.93</td>\n",
       "      <td>3.28</td>\n",
       "      <td>2.95</td>\n",
       "      <td>80.0</td>\n",
       "      <td>8</td>\n",
       "      <td>E</td>\n",
       "    </tr>\n",
       "    <tr>\n",
       "      <td>4</td>\n",
       "      <td>Pokemon Red/Pokemon Blue</td>\n",
       "      <td>GB</td>\n",
       "      <td>1996.0</td>\n",
       "      <td>Role-Playing</td>\n",
       "      <td>11.27</td>\n",
       "      <td>8.89</td>\n",
       "      <td>10.22</td>\n",
       "      <td>1.00</td>\n",
       "      <td>NaN</td>\n",
       "      <td>NaN</td>\n",
       "      <td>NaN</td>\n",
       "    </tr>\n",
       "  </tbody>\n",
       "</table>\n",
       "</div>"
      ],
      "text/plain": [
       "                       Name Platform  Year_of_Release         Genre  NA_sales  \\\n",
       "0                Wii Sports      Wii           2006.0        Sports     41.36   \n",
       "1         Super Mario Bros.      NES           1985.0      Platform     29.08   \n",
       "2            Mario Kart Wii      Wii           2008.0        Racing     15.68   \n",
       "3         Wii Sports Resort      Wii           2009.0        Sports     15.61   \n",
       "4  Pokemon Red/Pokemon Blue       GB           1996.0  Role-Playing     11.27   \n",
       "\n",
       "   EU_sales  JP_sales  Other_sales  Critic_Score User_Score Rating  \n",
       "0     28.96      3.77         8.45          76.0          8      E  \n",
       "1      3.58      6.81         0.77           NaN        NaN    NaN  \n",
       "2     12.76      3.79         3.29          82.0        8.3      E  \n",
       "3     10.93      3.28         2.95          80.0          8      E  \n",
       "4      8.89     10.22         1.00           NaN        NaN    NaN  "
      ]
     },
     "execution_count": 2,
     "metadata": {},
     "output_type": "execute_result"
    }
   ],
   "source": [
    "#читаю датафрейм\n",
    "df = pd.read_csv('/datasets/games.csv')\n",
    "df.head()"
   ]
  },
  {
   "cell_type": "code",
   "execution_count": 3,
   "metadata": {},
   "outputs": [
    {
     "name": "stdout",
     "output_type": "stream",
     "text": [
      "<class 'pandas.core.frame.DataFrame'>\n",
      "RangeIndex: 16715 entries, 0 to 16714\n",
      "Data columns (total 11 columns):\n",
      "Name               16713 non-null object\n",
      "Platform           16715 non-null object\n",
      "Year_of_Release    16446 non-null float64\n",
      "Genre              16713 non-null object\n",
      "NA_sales           16715 non-null float64\n",
      "EU_sales           16715 non-null float64\n",
      "JP_sales           16715 non-null float64\n",
      "Other_sales        16715 non-null float64\n",
      "Critic_Score       8137 non-null float64\n",
      "User_Score         10014 non-null object\n",
      "Rating             9949 non-null object\n",
      "dtypes: float64(6), object(5)\n",
      "memory usage: 1.4+ MB\n"
     ]
    }
   ],
   "source": [
    "df.info()"
   ]
  },
  {
   "cell_type": "markdown",
   "metadata": {},
   "source": [
    "•\tName — название игры (имеется два пропуска, так как это название, то можно смело удалять эти строки с пропусками)\n",
    "\n",
    "•\tPlatform — платформа\n",
    "\n",
    "•\tYear_of_Release — год выпуска (сменить тип данных на дату)(думаю, пропуски тут случайные, поэтому не буду с ними ничего делать)\n",
    "\n",
    "•\tGenre — жанр игры\n",
    "\n",
    "•\tNA_sales — продажи в Северной Америке (миллионы проданных копий)\n",
    "\n",
    "•\tEU_sales — продажи в Европе (миллионы проданных копий)\n",
    "\n",
    "•\tJP_sales — продажи в Японии (миллионы проданных копий)\n",
    "\n",
    "•\tOther_sales — продажи в других странах (миллионы проданных копий)\n",
    "\n",
    "•\tCritic_Score — оценка критиков (максимум 100) (возможно не очень популярные игры или критики еще до них не дошли)\n",
    "\n",
    "•\tUser_Score — оценка пользователей (максимум 10) (Не все пользователи любят ставить оценки, возмонжо это такой случай и пропуски стоит заменить нулями, также стоит проверить, возможно игры новые, и им еще не успели поставить оценки)(также стоит сменить тип данных на float)\n",
    "\n",
    "•\tRating — рейтинг от организации ESRB (англ. Entertainment Software Rating Board). Эта ассоциация определяет рейтинг компьютерных игр и присваивает им подходящую возрастную категорию.(заменю пропуски на NaN)\n",
    "\n",
    "Все столбцы нужно привести к нижнему регистру.\n"
   ]
  },
  {
   "cell_type": "markdown",
   "metadata": {},
   "source": [
    "## Подготовка данных\n"
   ]
  },
  {
   "cell_type": "code",
   "execution_count": 4,
   "metadata": {},
   "outputs": [
    {
     "name": "stdout",
     "output_type": "stream",
     "text": [
      "<class 'pandas.core.frame.DataFrame'>\n",
      "RangeIndex: 16715 entries, 0 to 16714\n",
      "Data columns (total 11 columns):\n",
      "name               16713 non-null object\n",
      "platform           16715 non-null object\n",
      "year_of_release    16446 non-null float64\n",
      "genre              16713 non-null object\n",
      "na_sales           16715 non-null float64\n",
      "eu_sales           16715 non-null float64\n",
      "jp_sales           16715 non-null float64\n",
      "other_sales        16715 non-null float64\n",
      "critic_score       8137 non-null float64\n",
      "user_score         10014 non-null object\n",
      "rating             9949 non-null object\n",
      "dtypes: float64(6), object(5)\n",
      "memory usage: 1.4+ MB\n"
     ]
    }
   ],
   "source": [
    "#приведу столбцы к нижнему регистру\n",
    "df.columns = df.columns.str.lower()\n",
    "df.info()"
   ]
  },
  {
   "cell_type": "code",
   "execution_count": 5,
   "metadata": {},
   "outputs": [
    {
     "name": "stdout",
     "output_type": "stream",
     "text": [
      "<class 'pandas.core.frame.DataFrame'>\n",
      "RangeIndex: 16715 entries, 0 to 16714\n",
      "Data columns (total 11 columns):\n",
      "name               16713 non-null object\n",
      "platform           16715 non-null object\n",
      "year_of_release    16446 non-null datetime64[ns]\n",
      "genre              16713 non-null object\n",
      "na_sales           16715 non-null float64\n",
      "eu_sales           16715 non-null float64\n",
      "jp_sales           16715 non-null float64\n",
      "other_sales        16715 non-null float64\n",
      "critic_score       8137 non-null float64\n",
      "user_score         10014 non-null object\n",
      "rating             9949 non-null object\n",
      "dtypes: datetime64[ns](1), float64(5), object(5)\n",
      "memory usage: 1.4+ MB\n"
     ]
    }
   ],
   "source": [
    "#замена типа данных в годе\n",
    "df['year_of_release'] = pd.to_datetime(df['year_of_release'], format='%Y')\n",
    "df.info()"
   ]
  },
  {
   "cell_type": "code",
   "execution_count": 6,
   "metadata": {},
   "outputs": [
    {
     "name": "stdout",
     "output_type": "stream",
     "text": [
      "<class 'pandas.core.frame.DataFrame'>\n",
      "Int64Index: 16713 entries, 0 to 16714\n",
      "Data columns (total 11 columns):\n",
      "name               16713 non-null object\n",
      "platform           16713 non-null object\n",
      "year_of_release    16444 non-null datetime64[ns]\n",
      "genre              16713 non-null object\n",
      "na_sales           16713 non-null float64\n",
      "eu_sales           16713 non-null float64\n",
      "jp_sales           16713 non-null float64\n",
      "other_sales        16713 non-null float64\n",
      "critic_score       8137 non-null float64\n",
      "user_score         10014 non-null object\n",
      "rating             9949 non-null object\n",
      "dtypes: datetime64[ns](1), float64(5), object(5)\n",
      "memory usage: 1.5+ MB\n"
     ]
    }
   ],
   "source": [
    "#удаление пропусков в наименовании игры\n",
    "df = df.dropna(subset = ['name'])\n",
    "df.info()"
   ]
  },
  {
   "cell_type": "markdown",
   "metadata": {},
   "source": [
    "Пропуски в жанре тоже исчезли, видимо они шли в пару с наименованием."
   ]
  },
  {
   "cell_type": "code",
   "execution_count": 7,
   "metadata": {},
   "outputs": [
    {
     "data": {
      "text/plain": [
       "0"
      ]
     },
     "execution_count": 7,
     "metadata": {},
     "output_type": "execute_result"
    }
   ],
   "source": [
    "#проверка датафрейма на дубликаты\n",
    "df.duplicated().sum()"
   ]
  },
  {
   "cell_type": "markdown",
   "metadata": {},
   "source": [
    "Отлично, дубликатов не имеем, теперь вопрос в остальных пропусках. Так как пропуски года составляют всего 1.6% то, полагаю, удаляя эти значения, мы не потеряем большое колиечство данных."
   ]
  },
  {
   "cell_type": "code",
   "execution_count": 8,
   "metadata": {},
   "outputs": [
    {
     "name": "stdout",
     "output_type": "stream",
     "text": [
      "<class 'pandas.core.frame.DataFrame'>\n",
      "Int64Index: 16444 entries, 0 to 16714\n",
      "Data columns (total 11 columns):\n",
      "name               16444 non-null object\n",
      "platform           16444 non-null object\n",
      "year_of_release    16444 non-null datetime64[ns]\n",
      "genre              16444 non-null object\n",
      "na_sales           16444 non-null float64\n",
      "eu_sales           16444 non-null float64\n",
      "jp_sales           16444 non-null float64\n",
      "other_sales        16444 non-null float64\n",
      "critic_score       7983 non-null float64\n",
      "user_score         9839 non-null object\n",
      "rating             9768 non-null object\n",
      "dtypes: datetime64[ns](1), float64(5), object(5)\n",
      "memory usage: 1.5+ MB\n"
     ]
    }
   ],
   "source": [
    "#удаление пропусков в годах\n",
    "df = df.dropna(subset = ['year_of_release'])\n",
    "df.info()"
   ]
  },
  {
   "cell_type": "markdown",
   "metadata": {},
   "source": [
    "Учитывая, что пропуски, скорее всего, являются не случайными, то смело можно из заменять, а не оставлять как есть. Так как столбец с рейтингом уже является объектом, то заменю пропуски на пустую строку, в столбце оценки пользователей и оценке критиков заменю на ноль, полагая что ноль это отстуствие рейтинга, а также проверю почему оценка пользователей имеет тип данных объекта а не числовой."
   ]
  },
  {
   "cell_type": "code",
   "execution_count": 9,
   "metadata": {},
   "outputs": [
    {
     "data": {
      "text/plain": [
       "tbd    2376\n",
       "7.8     322\n",
       "8       285\n",
       "8.2     276\n",
       "8.3     252\n",
       "       ... \n",
       "9.6       2\n",
       "1         2\n",
       "0.5       2\n",
       "0         1\n",
       "9.7       1\n",
       "Name: user_score, Length: 96, dtype: int64"
      ]
     },
     "execution_count": 9,
     "metadata": {},
     "output_type": "execute_result"
    }
   ],
   "source": [
    "df['user_score'].value_counts()"
   ]
  },
  {
   "cell_type": "markdown",
   "metadata": {},
   "source": [
    "Аббревиатура 'tbd' это to be determined - пока не определён, что на мой взгляд равносильно 0 или NaN. Так что заменю все значения 'tbd' и пропуски на 0."
   ]
  },
  {
   "cell_type": "code",
   "execution_count": 10,
   "metadata": {},
   "outputs": [
    {
     "data": {
      "text/plain": [
       "0      2376\n",
       "7.8     322\n",
       "8       285\n",
       "8.2     276\n",
       "8.3     252\n",
       "       ... \n",
       "0.2       2\n",
       "1.5       2\n",
       "0.9       2\n",
       "0         1\n",
       "9.7       1\n",
       "Name: user_score, Length: 96, dtype: int64"
      ]
     },
     "execution_count": 10,
     "metadata": {},
     "output_type": "execute_result"
    }
   ],
   "source": [
    "df['user_score'] = df['user_score'].replace('tbd', 0)\n",
    "df['user_score'].value_counts()"
   ]
  },
  {
   "cell_type": "code",
   "execution_count": 11,
   "metadata": {},
   "outputs": [
    {
     "name": "stdout",
     "output_type": "stream",
     "text": [
      "<class 'pandas.core.frame.DataFrame'>\n",
      "Int64Index: 16444 entries, 0 to 16714\n",
      "Data columns (total 11 columns):\n",
      "name               16444 non-null object\n",
      "platform           16444 non-null object\n",
      "year_of_release    16444 non-null datetime64[ns]\n",
      "genre              16444 non-null object\n",
      "na_sales           16444 non-null float64\n",
      "eu_sales           16444 non-null float64\n",
      "jp_sales           16444 non-null float64\n",
      "other_sales        16444 non-null float64\n",
      "critic_score       16444 non-null float64\n",
      "user_score         16444 non-null object\n",
      "rating             16444 non-null object\n",
      "dtypes: datetime64[ns](1), float64(5), object(5)\n",
      "memory usage: 1.5+ MB\n"
     ]
    }
   ],
   "source": [
    "df.fillna(\n",
    "    value = \n",
    "        {\n",
    "            'rating': \" \",\n",
    "            'critic_score': 0,\n",
    "            'user_score': 0\n",
    "        },\n",
    "    inplace=True)\n",
    "df.info()"
   ]
  },
  {
   "cell_type": "code",
   "execution_count": 12,
   "metadata": {},
   "outputs": [
    {
     "name": "stdout",
     "output_type": "stream",
     "text": [
      "<class 'pandas.core.frame.DataFrame'>\n",
      "Int64Index: 16444 entries, 0 to 16714\n",
      "Data columns (total 11 columns):\n",
      "name               16444 non-null object\n",
      "platform           16444 non-null object\n",
      "year_of_release    16444 non-null datetime64[ns]\n",
      "genre              16444 non-null object\n",
      "na_sales           16444 non-null float64\n",
      "eu_sales           16444 non-null float64\n",
      "jp_sales           16444 non-null float64\n",
      "other_sales        16444 non-null float64\n",
      "critic_score       16444 non-null float64\n",
      "user_score         16444 non-null float64\n",
      "rating             16444 non-null object\n",
      "dtypes: datetime64[ns](1), float64(6), object(4)\n",
      "memory usage: 1.5+ MB\n"
     ]
    }
   ],
   "source": [
    "df['user_score'] = df['user_score'].astype('float')\n",
    "df.info()"
   ]
  },
  {
   "cell_type": "markdown",
   "metadata": {},
   "source": [
    "Теперь можно преступить к расчетам суммарных продаж во всех регионах."
   ]
  },
  {
   "cell_type": "code",
   "execution_count": 13,
   "metadata": {},
   "outputs": [
    {
     "data": {
      "text/html": [
       "<div>\n",
       "<style scoped>\n",
       "    .dataframe tbody tr th:only-of-type {\n",
       "        vertical-align: middle;\n",
       "    }\n",
       "\n",
       "    .dataframe tbody tr th {\n",
       "        vertical-align: top;\n",
       "    }\n",
       "\n",
       "    .dataframe thead th {\n",
       "        text-align: right;\n",
       "    }\n",
       "</style>\n",
       "<table border=\"1\" class=\"dataframe\">\n",
       "  <thead>\n",
       "    <tr style=\"text-align: right;\">\n",
       "      <th></th>\n",
       "      <th>name</th>\n",
       "      <th>platform</th>\n",
       "      <th>year_of_release</th>\n",
       "      <th>genre</th>\n",
       "      <th>na_sales</th>\n",
       "      <th>eu_sales</th>\n",
       "      <th>jp_sales</th>\n",
       "      <th>other_sales</th>\n",
       "      <th>critic_score</th>\n",
       "      <th>user_score</th>\n",
       "      <th>rating</th>\n",
       "      <th>total_sales</th>\n",
       "    </tr>\n",
       "  </thead>\n",
       "  <tbody>\n",
       "    <tr>\n",
       "      <td>0</td>\n",
       "      <td>Wii Sports</td>\n",
       "      <td>Wii</td>\n",
       "      <td>2006-01-01</td>\n",
       "      <td>Sports</td>\n",
       "      <td>41.36</td>\n",
       "      <td>28.96</td>\n",
       "      <td>3.77</td>\n",
       "      <td>8.45</td>\n",
       "      <td>76.0</td>\n",
       "      <td>8.0</td>\n",
       "      <td>E</td>\n",
       "      <td>82.54</td>\n",
       "    </tr>\n",
       "    <tr>\n",
       "      <td>1</td>\n",
       "      <td>Super Mario Bros.</td>\n",
       "      <td>NES</td>\n",
       "      <td>1985-01-01</td>\n",
       "      <td>Platform</td>\n",
       "      <td>29.08</td>\n",
       "      <td>3.58</td>\n",
       "      <td>6.81</td>\n",
       "      <td>0.77</td>\n",
       "      <td>0.0</td>\n",
       "      <td>0.0</td>\n",
       "      <td></td>\n",
       "      <td>40.24</td>\n",
       "    </tr>\n",
       "    <tr>\n",
       "      <td>2</td>\n",
       "      <td>Mario Kart Wii</td>\n",
       "      <td>Wii</td>\n",
       "      <td>2008-01-01</td>\n",
       "      <td>Racing</td>\n",
       "      <td>15.68</td>\n",
       "      <td>12.76</td>\n",
       "      <td>3.79</td>\n",
       "      <td>3.29</td>\n",
       "      <td>82.0</td>\n",
       "      <td>8.3</td>\n",
       "      <td>E</td>\n",
       "      <td>35.52</td>\n",
       "    </tr>\n",
       "    <tr>\n",
       "      <td>3</td>\n",
       "      <td>Wii Sports Resort</td>\n",
       "      <td>Wii</td>\n",
       "      <td>2009-01-01</td>\n",
       "      <td>Sports</td>\n",
       "      <td>15.61</td>\n",
       "      <td>10.93</td>\n",
       "      <td>3.28</td>\n",
       "      <td>2.95</td>\n",
       "      <td>80.0</td>\n",
       "      <td>8.0</td>\n",
       "      <td>E</td>\n",
       "      <td>32.77</td>\n",
       "    </tr>\n",
       "    <tr>\n",
       "      <td>4</td>\n",
       "      <td>Pokemon Red/Pokemon Blue</td>\n",
       "      <td>GB</td>\n",
       "      <td>1996-01-01</td>\n",
       "      <td>Role-Playing</td>\n",
       "      <td>11.27</td>\n",
       "      <td>8.89</td>\n",
       "      <td>10.22</td>\n",
       "      <td>1.00</td>\n",
       "      <td>0.0</td>\n",
       "      <td>0.0</td>\n",
       "      <td></td>\n",
       "      <td>31.38</td>\n",
       "    </tr>\n",
       "  </tbody>\n",
       "</table>\n",
       "</div>"
      ],
      "text/plain": [
       "                       name platform year_of_release         genre  na_sales  \\\n",
       "0                Wii Sports      Wii      2006-01-01        Sports     41.36   \n",
       "1         Super Mario Bros.      NES      1985-01-01      Platform     29.08   \n",
       "2            Mario Kart Wii      Wii      2008-01-01        Racing     15.68   \n",
       "3         Wii Sports Resort      Wii      2009-01-01        Sports     15.61   \n",
       "4  Pokemon Red/Pokemon Blue       GB      1996-01-01  Role-Playing     11.27   \n",
       "\n",
       "   eu_sales  jp_sales  other_sales  critic_score  user_score rating  \\\n",
       "0     28.96      3.77         8.45          76.0         8.0      E   \n",
       "1      3.58      6.81         0.77           0.0         0.0          \n",
       "2     12.76      3.79         3.29          82.0         8.3      E   \n",
       "3     10.93      3.28         2.95          80.0         8.0      E   \n",
       "4      8.89     10.22         1.00           0.0         0.0          \n",
       "\n",
       "   total_sales  \n",
       "0        82.54  \n",
       "1        40.24  \n",
       "2        35.52  \n",
       "3        32.77  \n",
       "4        31.38  "
      ]
     },
     "execution_count": 13,
     "metadata": {},
     "output_type": "execute_result"
    }
   ],
   "source": [
    "df['total_sales'] = df['na_sales'] + df['eu_sales'] + df['jp_sales'] + df['other_sales']\n",
    "df.head()\n",
    "\n"
   ]
  },
  {
   "cell_type": "markdown",
   "metadata": {},
   "source": [
    "На данном этапе я устранила пропуски в столбцах, привела к нужным типам данных. Теперь данные готовы к дльнейшему анализу."
   ]
  },
  {
   "cell_type": "markdown",
   "metadata": {},
   "source": [
    "## Исследовательский анализ данных"
   ]
  },
  {
   "cell_type": "markdown",
   "metadata": {},
   "source": [
    "### Гистограмма выпуска игр по годам."
   ]
  },
  {
   "cell_type": "code",
   "execution_count": 14,
   "metadata": {},
   "outputs": [
    {
     "data": {
      "image/png": "[encoded data removed]",
      "text/plain": [
       "<Figure size 720x360 with 1 Axes>"
      ]
     },
     "metadata": {
      "needs_background": "light"
     },
     "output_type": "display_data"
    }
   ],
   "source": [
    "df.pivot_table(index='year_of_release', values='name', aggfunc = 'count').reset_index().plot(x='year_of_release', y='name', style='.-', kind ='line', fontsize=10, linewidth=2, figsize=(10,5), grid = True).set_title('Количество выпущенных игр по годам')\n",
    "plt.ylabel(\"Количество игр\")\n",
    "plt.xlabel(\"Годы\")\n",
    "plt.show()"
   ]
  },
  {
   "cell_type": "markdown",
   "metadata": {},
   "source": [
    "Думаю, данные в периоды до 1990 не важны и их можно спокойно исключать из выборки. Также наблюдаем что количество выпускаемых игр активно росло с 1990 по 2008 год, а с 2009 года начало падение числа выпускаемых игр. "
   ]
  },
  {
   "cell_type": "code",
   "execution_count": 15,
   "metadata": {},
   "outputs": [],
   "source": [
    "df = df.query('year_of_release >= 1990')"
   ]
  },
  {
   "cell_type": "markdown",
   "metadata": {},
   "source": [
    "### Продажи игр по платформам"
   ]
  },
  {
   "cell_type": "code",
   "execution_count": 16,
   "metadata": {},
   "outputs": [
    {
     "data": {
      "text/html": [
       "<div>\n",
       "<style scoped>\n",
       "    .dataframe tbody tr th:only-of-type {\n",
       "        vertical-align: middle;\n",
       "    }\n",
       "\n",
       "    .dataframe tbody tr th {\n",
       "        vertical-align: top;\n",
       "    }\n",
       "\n",
       "    .dataframe thead th {\n",
       "        text-align: right;\n",
       "    }\n",
       "</style>\n",
       "<table border=\"1\" class=\"dataframe\">\n",
       "  <thead>\n",
       "    <tr style=\"text-align: right;\">\n",
       "      <th></th>\n",
       "      <th>platform</th>\n",
       "      <th>total_sales</th>\n",
       "    </tr>\n",
       "  </thead>\n",
       "  <tbody>\n",
       "    <tr>\n",
       "      <td>15</td>\n",
       "      <td>PS2</td>\n",
       "      <td>1233.56</td>\n",
       "    </tr>\n",
       "    <tr>\n",
       "      <td>27</td>\n",
       "      <td>X360</td>\n",
       "      <td>961.24</td>\n",
       "    </tr>\n",
       "    <tr>\n",
       "      <td>16</td>\n",
       "      <td>PS3</td>\n",
       "      <td>931.34</td>\n",
       "    </tr>\n",
       "    <tr>\n",
       "      <td>25</td>\n",
       "      <td>Wii</td>\n",
       "      <td>891.18</td>\n",
       "    </tr>\n",
       "    <tr>\n",
       "      <td>3</td>\n",
       "      <td>DS</td>\n",
       "      <td>802.76</td>\n",
       "    </tr>\n",
       "    <tr>\n",
       "      <td>14</td>\n",
       "      <td>PS</td>\n",
       "      <td>727.58</td>\n",
       "    </tr>\n",
       "    <tr>\n",
       "      <td>17</td>\n",
       "      <td>PS4</td>\n",
       "      <td>314.14</td>\n",
       "    </tr>\n",
       "    <tr>\n",
       "      <td>5</td>\n",
       "      <td>GBA</td>\n",
       "      <td>312.88</td>\n",
       "    </tr>\n",
       "    <tr>\n",
       "      <td>18</td>\n",
       "      <td>PSP</td>\n",
       "      <td>289.53</td>\n",
       "    </tr>\n",
       "    <tr>\n",
       "      <td>1</td>\n",
       "      <td>3DS</td>\n",
       "      <td>257.81</td>\n",
       "    </tr>\n",
       "    <tr>\n",
       "      <td>12</td>\n",
       "      <td>PC</td>\n",
       "      <td>255.69</td>\n",
       "    </tr>\n",
       "    <tr>\n",
       "      <td>28</td>\n",
       "      <td>XB</td>\n",
       "      <td>251.57</td>\n",
       "    </tr>\n",
       "    <tr>\n",
       "      <td>9</td>\n",
       "      <td>N64</td>\n",
       "      <td>218.01</td>\n",
       "    </tr>\n",
       "    <tr>\n",
       "      <td>22</td>\n",
       "      <td>SNES</td>\n",
       "      <td>200.04</td>\n",
       "    </tr>\n",
       "    <tr>\n",
       "      <td>6</td>\n",
       "      <td>GC</td>\n",
       "      <td>196.73</td>\n",
       "    </tr>\n",
       "    <tr>\n",
       "      <td>4</td>\n",
       "      <td>GB</td>\n",
       "      <td>188.03</td>\n",
       "    </tr>\n",
       "    <tr>\n",
       "      <td>29</td>\n",
       "      <td>XOne</td>\n",
       "      <td>159.32</td>\n",
       "    </tr>\n",
       "    <tr>\n",
       "      <td>26</td>\n",
       "      <td>WiiU</td>\n",
       "      <td>82.19</td>\n",
       "    </tr>\n",
       "    <tr>\n",
       "      <td>19</td>\n",
       "      <td>PSV</td>\n",
       "      <td>53.81</td>\n",
       "    </tr>\n",
       "    <tr>\n",
       "      <td>20</td>\n",
       "      <td>SAT</td>\n",
       "      <td>33.59</td>\n",
       "    </tr>\n",
       "    <tr>\n",
       "      <td>7</td>\n",
       "      <td>GEN</td>\n",
       "      <td>28.35</td>\n",
       "    </tr>\n",
       "    <tr>\n",
       "      <td>10</td>\n",
       "      <td>NES</td>\n",
       "      <td>27.54</td>\n",
       "    </tr>\n",
       "    <tr>\n",
       "      <td>2</td>\n",
       "      <td>DC</td>\n",
       "      <td>15.95</td>\n",
       "    </tr>\n",
       "    <tr>\n",
       "      <td>21</td>\n",
       "      <td>SCD</td>\n",
       "      <td>1.86</td>\n",
       "    </tr>\n",
       "    <tr>\n",
       "      <td>11</td>\n",
       "      <td>NG</td>\n",
       "      <td>1.44</td>\n",
       "    </tr>\n",
       "    <tr>\n",
       "      <td>24</td>\n",
       "      <td>WS</td>\n",
       "      <td>1.42</td>\n",
       "    </tr>\n",
       "    <tr>\n",
       "      <td>23</td>\n",
       "      <td>TG16</td>\n",
       "      <td>0.16</td>\n",
       "    </tr>\n",
       "    <tr>\n",
       "      <td>0</td>\n",
       "      <td>3DO</td>\n",
       "      <td>0.10</td>\n",
       "    </tr>\n",
       "    <tr>\n",
       "      <td>8</td>\n",
       "      <td>GG</td>\n",
       "      <td>0.04</td>\n",
       "    </tr>\n",
       "    <tr>\n",
       "      <td>13</td>\n",
       "      <td>PCFX</td>\n",
       "      <td>0.03</td>\n",
       "    </tr>\n",
       "  </tbody>\n",
       "</table>\n",
       "</div>"
      ],
      "text/plain": [
       "   platform  total_sales\n",
       "15      PS2      1233.56\n",
       "27     X360       961.24\n",
       "16      PS3       931.34\n",
       "25      Wii       891.18\n",
       "3        DS       802.76\n",
       "14       PS       727.58\n",
       "17      PS4       314.14\n",
       "5       GBA       312.88\n",
       "18      PSP       289.53\n",
       "1       3DS       257.81\n",
       "12       PC       255.69\n",
       "28       XB       251.57\n",
       "9       N64       218.01\n",
       "22     SNES       200.04\n",
       "6        GC       196.73\n",
       "4        GB       188.03\n",
       "29     XOne       159.32\n",
       "26     WiiU        82.19\n",
       "19      PSV        53.81\n",
       "20      SAT        33.59\n",
       "7       GEN        28.35\n",
       "10      NES        27.54\n",
       "2        DC        15.95\n",
       "21      SCD         1.86\n",
       "11       NG         1.44\n",
       "24       WS         1.42\n",
       "23     TG16         0.16\n",
       "0       3DO         0.10\n",
       "8        GG         0.04\n",
       "13     PCFX         0.03"
      ]
     },
     "execution_count": 16,
     "metadata": {},
     "output_type": "execute_result"
    }
   ],
   "source": [
    "#отсортирую данные по платформам по их суммарным продажам\n",
    "df.pivot_table(index='platform', values='total_sales', aggfunc = 'sum').reset_index().sort_values(by = 'total_sales', ascending=False)\n"
   ]
  },
  {
   "cell_type": "markdown",
   "metadata": {},
   "source": [
    "Для распределения по годам, возьму из выборки платформы до PS, так как разница продаж уже PS и PS4 велика(почти в два раза)."
   ]
  },
  {
   "cell_type": "code",
   "execution_count": 17,
   "metadata": {},
   "outputs": [
    {
     "data": {
      "image/png": "[encoded data removed]",
      "text/plain": [
       "<Figure size 1080x504 with 1 Axes>"
      ]
     },
     "metadata": {
      "needs_background": "light"
     },
     "output_type": "display_data"
    }
   ],
   "source": [
    "platforms = ['PS2', 'X360', 'PS3', 'Wii', 'DS', 'PS']\n",
    "for year in platforms:\n",
    "    df.query('platform == @year').groupby('year_of_release')['total_sales'].sum().plot(x='year_of_release', y='total_sales', style='.-', kind ='line', fontsize=10, linewidth=2, figsize=(15,7), grid = True).set_title('Продажи по годам самых популярных платформ')\n",
    "    plt.xlabel(\"Годы\")\n",
    "    plt.ylabel(\"Суммарные продажи\")\n",
    "    plt.legend(['PS2', 'X360', 'PS3', 'Wii', 'DS', 'PS'])\n",
    "plt.show()\n",
    "    "
   ]
  },
  {
   "cell_type": "markdown",
   "metadata": {},
   "source": [
    "До 2010 года, новый платформы появлялись и исчезали старые примерно 10 лет(в среднем платформа живет 10 лет), в 2005 году (+- 2 года) появилось сразу несколько платформ. Самая старая платформа PS, самая молодая PS3. Общий спад по этим платформам происходит после 2015 года."
   ]
  },
  {
   "cell_type": "markdown",
   "metadata": {},
   "source": [
    "### Прогноз по данным на 2017 год"
   ]
  },
  {
   "cell_type": "markdown",
   "metadata": {},
   "source": [
    "Для дальнейшего исследования выберу данные с 2005 года, так как на этот период выпадает сразу несколько платформ."
   ]
  },
  {
   "cell_type": "code",
   "execution_count": 18,
   "metadata": {},
   "outputs": [
    {
     "data": {
      "text/html": [
       "<div>\n",
       "<style scoped>\n",
       "    .dataframe tbody tr th:only-of-type {\n",
       "        vertical-align: middle;\n",
       "    }\n",
       "\n",
       "    .dataframe tbody tr th {\n",
       "        vertical-align: top;\n",
       "    }\n",
       "\n",
       "    .dataframe thead th {\n",
       "        text-align: right;\n",
       "    }\n",
       "</style>\n",
       "<table border=\"1\" class=\"dataframe\">\n",
       "  <thead>\n",
       "    <tr style=\"text-align: right;\">\n",
       "      <th></th>\n",
       "      <th>platform</th>\n",
       "      <th>total_sales</th>\n",
       "    </tr>\n",
       "  </thead>\n",
       "  <tbody>\n",
       "    <tr>\n",
       "      <td>5</td>\n",
       "      <td>PS3</td>\n",
       "      <td>837.19</td>\n",
       "    </tr>\n",
       "    <tr>\n",
       "      <td>11</td>\n",
       "      <td>X360</td>\n",
       "      <td>805.96</td>\n",
       "    </tr>\n",
       "    <tr>\n",
       "      <td>9</td>\n",
       "      <td>Wii</td>\n",
       "      <td>601.26</td>\n",
       "    </tr>\n",
       "    <tr>\n",
       "      <td>2</td>\n",
       "      <td>DS</td>\n",
       "      <td>388.60</td>\n",
       "    </tr>\n",
       "    <tr>\n",
       "      <td>6</td>\n",
       "      <td>PS4</td>\n",
       "      <td>314.14</td>\n",
       "    </tr>\n",
       "    <tr>\n",
       "      <td>0</td>\n",
       "      <td>3DS</td>\n",
       "      <td>257.81</td>\n",
       "    </tr>\n",
       "    <tr>\n",
       "      <td>13</td>\n",
       "      <td>XOne</td>\n",
       "      <td>159.32</td>\n",
       "    </tr>\n",
       "    <tr>\n",
       "      <td>3</td>\n",
       "      <td>PC</td>\n",
       "      <td>151.29</td>\n",
       "    </tr>\n",
       "    <tr>\n",
       "      <td>7</td>\n",
       "      <td>PSP</td>\n",
       "      <td>136.38</td>\n",
       "    </tr>\n",
       "    <tr>\n",
       "      <td>4</td>\n",
       "      <td>PS2</td>\n",
       "      <td>86.39</td>\n",
       "    </tr>\n",
       "    <tr>\n",
       "      <td>10</td>\n",
       "      <td>WiiU</td>\n",
       "      <td>82.19</td>\n",
       "    </tr>\n",
       "    <tr>\n",
       "      <td>8</td>\n",
       "      <td>PSV</td>\n",
       "      <td>53.81</td>\n",
       "    </tr>\n",
       "    <tr>\n",
       "      <td>12</td>\n",
       "      <td>XB</td>\n",
       "      <td>0.18</td>\n",
       "    </tr>\n",
       "    <tr>\n",
       "      <td>1</td>\n",
       "      <td>DC</td>\n",
       "      <td>0.04</td>\n",
       "    </tr>\n",
       "  </tbody>\n",
       "</table>\n",
       "</div>"
      ],
      "text/plain": [
       "   platform  total_sales\n",
       "5       PS3       837.19\n",
       "11     X360       805.96\n",
       "9       Wii       601.26\n",
       "2        DS       388.60\n",
       "6       PS4       314.14\n",
       "0       3DS       257.81\n",
       "13     XOne       159.32\n",
       "3        PC       151.29\n",
       "7       PSP       136.38\n",
       "4       PS2        86.39\n",
       "10     WiiU        82.19\n",
       "8       PSV        53.81\n",
       "12       XB         0.18\n",
       "1        DC         0.04"
      ]
     },
     "execution_count": 18,
     "metadata": {},
     "output_type": "execute_result"
    }
   ],
   "source": [
    "df = df.query('year_of_release >= 2008')\n",
    "df.pivot_table(index='platform', values='total_sales', aggfunc = 'sum').reset_index().sort_values(by = 'total_sales', ascending=False)\n"
   ]
  },
  {
   "cell_type": "markdown",
   "metadata": {},
   "source": [
    "Возьму для дальнейшего анализа платформы до 3DS"
   ]
  },
  {
   "cell_type": "code",
   "execution_count": 19,
   "metadata": {},
   "outputs": [
    {
     "data": {
      "image/png": "[encoded data removed]",
      "text/plain": [
       "<Figure size 720x360 with 1 Axes>"
      ]
     },
     "metadata": {
      "needs_background": "light"
     },
     "output_type": "display_data"
    }
   ],
   "source": [
    "platforms = ['PS3', 'X360', 'Wii', 'DS', 'PS4', '3DS']\n",
    "for year in platforms:\n",
    "    df.query('platform == @year').groupby('year_of_release')['total_sales'].sum().plot(x='year_of_release', y='total_sales', style='.-', kind ='line', fontsize=10, linewidth=2, figsize=(10,5), grid = True).set_title('Продажи с 2005 года')\n",
    "    plt.xlabel(\"Годы\")\n",
    "    plt.ylabel(\"Суммарные продажи\")\n",
    "    plt.legend(['PS3', 'X360', 'Wii', 'DS', 'PS4', '3DS'])"
   ]
  },
  {
   "cell_type": "markdown",
   "metadata": {},
   "source": [
    "Рассмотрю и менее популярные платформы, чтобы посмотреть что происходит по ним к 2016 году"
   ]
  },
  {
   "cell_type": "code",
   "execution_count": 20,
   "metadata": {},
   "outputs": [
    {
     "data": {
      "image/png": "[encoded data removed]",
      "text/plain": [
       "<Figure size 720x360 with 1 Axes>"
      ]
     },
     "metadata": {
      "needs_background": "light"
     },
     "output_type": "display_data"
    }
   ],
   "source": [
    "platforms = ['XOne', 'PC', 'PSP', 'PS2', 'WiiU', 'PSV', 'XB', 'DC']\n",
    "for year in platforms:\n",
    "    df.query('platform == @year').groupby('year_of_release')['total_sales'].sum().plot(x='year_of_release', y='total_sales', style='.-', kind ='line', fontsize=10, linewidth=2, figsize=(10,5), grid = True).set_title('Продажи с 2008 года')\n",
    "    plt.xlabel(\"Годы\")\n",
    "    plt.ylabel(\"Суммарные продажи\")\n",
    "    plt.legend(['XOne', 'PC', 'PSP', 'PS2', 'WiiU', 'PSV', 'XB', 'DC'])"
   ]
  },
  {
   "cell_type": "markdown",
   "metadata": {},
   "source": [
    "По менее популярным играм возможно будет дальнейший рост у платформ PC, XOne, WiiU, PSV. У остальных платформ к 2008 году закончилась жизнедеятельность. Для дальнейшего анализа как \"наиболее перспективные\" выделю PS4, 3DS, PC, XOne, WiiU, PSV. "
   ]
  },
  {
   "cell_type": "markdown",
   "metadata": {},
   "source": [
    "### график «ящик с усами» по глобальным продажам игр в разбивке по платформам."
   ]
  },
  {
   "cell_type": "code",
   "execution_count": 21,
   "metadata": {},
   "outputs": [
    {
     "name": "stderr",
     "output_type": "stream",
     "text": [
      "/opt/conda/lib/python3.7/site-packages/numpy/core/_asarray.py:83: VisibleDeprecationWarning: Creating an ndarray from ragged nested sequences (which is a list-or-tuple of lists-or-tuples-or ndarrays with different lengths or shapes) is deprecated. If you meant to do this, you must specify 'dtype=object' when creating the ndarray\n",
      "  return array(a, dtype, copy=False, order=order)\n"
     ]
    },
    {
     "data": {
      "image/png": "[encoded data removed]",
      "text/plain": [
       "<Figure size 432x288 with 1 Axes>"
      ]
     },
     "metadata": {
      "needs_background": "light"
     },
     "output_type": "display_data"
    }
   ],
   "source": [
    "platforms = ['PS4', '3DS', 'PC', 'XOne', 'WiiU', 'PSV']\n",
    "df.query('platform in @platforms').boxplot(by = 'platform', column = 'total_sales')\n",
    "plt.show()\n"
   ]
  },
  {
   "cell_type": "markdown",
   "metadata": {},
   "source": [
    "Наибольшие выбросы наблюдаются у платформ 3DS и PS4 возможно это связано с тем, что самые популярные игрв пишутся для этих платформ, самые меньшие продажи у PSV, скорее всего это связано с тем, что эта платформа только начинает набирать свои обороты."
   ]
  },
  {
   "cell_type": "markdown",
   "metadata": {},
   "source": [
    "### влияние на продажи внутри одной популярной платформы отзывы пользователей и критиков."
   ]
  },
  {
   "cell_type": "markdown",
   "metadata": {},
   "source": [
    "Для этого этапа выберу платформу PS4, так как у неё выше средние продажи."
   ]
  },
  {
   "cell_type": "code",
   "execution_count": 22,
   "metadata": {},
   "outputs": [
    {
     "data": {
      "text/plain": [
       "Text(0, 0.5, 'Суммарные продажи')"
      ]
     },
     "execution_count": 22,
     "metadata": {},
     "output_type": "execute_result"
    },
    {
     "data": {
      "image/png": "[encoded data removed]",
      "text/plain": [
       "<Figure size 432x288 with 1 Axes>"
      ]
     },
     "metadata": {
      "needs_background": "light"
     },
     "output_type": "display_data"
    }
   ],
   "source": [
    "#диаграмма рассеяния платформы PS4\n",
    "df.query('critic_score >= 0 & platform == \"PS4\"').plot(x='critic_score', y='total_sales', kind='scatter').set_title('Зависимсть продаж игр от рейтинга критиков PS4')\n",
    "plt.xlabel(\"Рейтинг критиков\")\n",
    "plt.ylabel(\"Суммарные продажи\")"
   ]
  },
  {
   "cell_type": "code",
   "execution_count": 23,
   "metadata": {},
   "outputs": [
    {
     "data": {
      "text/html": [
       "<div>\n",
       "<style scoped>\n",
       "    .dataframe tbody tr th:only-of-type {\n",
       "        vertical-align: middle;\n",
       "    }\n",
       "\n",
       "    .dataframe tbody tr th {\n",
       "        vertical-align: top;\n",
       "    }\n",
       "\n",
       "    .dataframe thead th {\n",
       "        text-align: right;\n",
       "    }\n",
       "</style>\n",
       "<table border=\"1\" class=\"dataframe\">\n",
       "  <thead>\n",
       "    <tr style=\"text-align: right;\">\n",
       "      <th></th>\n",
       "      <th>na_sales</th>\n",
       "      <th>eu_sales</th>\n",
       "      <th>jp_sales</th>\n",
       "      <th>other_sales</th>\n",
       "      <th>critic_score</th>\n",
       "      <th>user_score</th>\n",
       "      <th>total_sales</th>\n",
       "    </tr>\n",
       "  </thead>\n",
       "  <tbody>\n",
       "    <tr>\n",
       "      <td>na_sales</td>\n",
       "      <td>1.000000</td>\n",
       "      <td>0.785362</td>\n",
       "      <td>0.472981</td>\n",
       "      <td>0.944259</td>\n",
       "      <td>0.217381</td>\n",
       "      <td>0.109930</td>\n",
       "      <td>0.928160</td>\n",
       "    </tr>\n",
       "    <tr>\n",
       "      <td>eu_sales</td>\n",
       "      <td>0.785362</td>\n",
       "      <td>1.000000</td>\n",
       "      <td>0.464563</td>\n",
       "      <td>0.944698</td>\n",
       "      <td>0.221950</td>\n",
       "      <td>0.111441</td>\n",
       "      <td>0.958157</td>\n",
       "    </tr>\n",
       "    <tr>\n",
       "      <td>jp_sales</td>\n",
       "      <td>0.472981</td>\n",
       "      <td>0.464563</td>\n",
       "      <td>1.000000</td>\n",
       "      <td>0.496467</td>\n",
       "      <td>0.011250</td>\n",
       "      <td>-0.027284</td>\n",
       "      <td>0.527129</td>\n",
       "    </tr>\n",
       "    <tr>\n",
       "      <td>other_sales</td>\n",
       "      <td>0.944259</td>\n",
       "      <td>0.944698</td>\n",
       "      <td>0.496467</td>\n",
       "      <td>1.000000</td>\n",
       "      <td>0.229948</td>\n",
       "      <td>0.115411</td>\n",
       "      <td>0.998051</td>\n",
       "    </tr>\n",
       "    <tr>\n",
       "      <td>critic_score</td>\n",
       "      <td>0.217381</td>\n",
       "      <td>0.221950</td>\n",
       "      <td>0.011250</td>\n",
       "      <td>0.229948</td>\n",
       "      <td>1.000000</td>\n",
       "      <td>0.900850</td>\n",
       "      <td>0.227550</td>\n",
       "    </tr>\n",
       "    <tr>\n",
       "      <td>user_score</td>\n",
       "      <td>0.109930</td>\n",
       "      <td>0.111441</td>\n",
       "      <td>-0.027284</td>\n",
       "      <td>0.115411</td>\n",
       "      <td>0.900850</td>\n",
       "      <td>1.000000</td>\n",
       "      <td>0.113116</td>\n",
       "    </tr>\n",
       "    <tr>\n",
       "      <td>total_sales</td>\n",
       "      <td>0.928160</td>\n",
       "      <td>0.958157</td>\n",
       "      <td>0.527129</td>\n",
       "      <td>0.998051</td>\n",
       "      <td>0.227550</td>\n",
       "      <td>0.113116</td>\n",
       "      <td>1.000000</td>\n",
       "    </tr>\n",
       "  </tbody>\n",
       "</table>\n",
       "</div>"
      ],
      "text/plain": [
       "              na_sales  eu_sales  jp_sales  other_sales  critic_score  \\\n",
       "na_sales      1.000000  0.785362  0.472981     0.944259      0.217381   \n",
       "eu_sales      0.785362  1.000000  0.464563     0.944698      0.221950   \n",
       "jp_sales      0.472981  0.464563  1.000000     0.496467      0.011250   \n",
       "other_sales   0.944259  0.944698  0.496467     1.000000      0.229948   \n",
       "critic_score  0.217381  0.221950  0.011250     0.229948      1.000000   \n",
       "user_score    0.109930  0.111441 -0.027284     0.115411      0.900850   \n",
       "total_sales   0.928160  0.958157  0.527129     0.998051      0.227550   \n",
       "\n",
       "              user_score  total_sales  \n",
       "na_sales        0.109930     0.928160  \n",
       "eu_sales        0.111441     0.958157  \n",
       "jp_sales       -0.027284     0.527129  \n",
       "other_sales     0.115411     0.998051  \n",
       "critic_score    0.900850     0.227550  \n",
       "user_score      1.000000     0.113116  \n",
       "total_sales     0.113116     1.000000  "
      ]
     },
     "execution_count": 23,
     "metadata": {},
     "output_type": "execute_result"
    }
   ],
   "source": [
    "#корреляция \n",
    "df.query('critic_score >= 0 & platform == \"PS4\"').corr()\n"
   ]
  },
  {
   "cell_type": "markdown",
   "metadata": {},
   "source": [
    "Корреляция зависимости продаж от рейтинга критиков всего 0.227 \n",
    "\n",
    "Корреляция зависимости продаж от рейтинга пользователей всего 0.113"
   ]
  },
  {
   "cell_type": "code",
   "execution_count": 24,
   "metadata": {
    "scrolled": true
   },
   "outputs": [
    {
     "data": {
      "text/plain": [
       "Text(0, 0.5, 'Суммарные продажи')"
      ]
     },
     "execution_count": 24,
     "metadata": {},
     "output_type": "execute_result"
    },
    {
     "data": {
      "image/png": "[encoded data removed]",
      "text/plain": [
       "<Figure size 432x288 with 1 Axes>"
      ]
     },
     "metadata": {
      "needs_background": "light"
     },
     "output_type": "display_data"
    }
   ],
   "source": [
    "#диаграмма рассеяния в зависимости от рейтинга пользователей\n",
    "df.query('user_score >= 0 & platform == \"PS4\"').plot(x='user_score', y='total_sales', kind='scatter').set_title('Зависимсть продаж игр от рейтинга пользователей PS4')\n",
    "plt.xlabel(\"Рейтинг пользователей\")\n",
    "plt.ylabel(\"Суммарные продажи\")"
   ]
  },
  {
   "cell_type": "code",
   "execution_count": 25,
   "metadata": {},
   "outputs": [
    {
     "data": {
      "image/png": "[encoded data removed]",
      "text/plain": [
       "<Figure size 432x288 with 1 Axes>"
      ]
     },
     "metadata": {
      "needs_background": "light"
     },
     "output_type": "display_data"
    },
    {
     "data": {
      "image/png": "[encoded data removed]",
      "text/plain": [
       "<Figure size 432x288 with 1 Axes>"
      ]
     },
     "metadata": {
      "needs_background": "light"
     },
     "output_type": "display_data"
    },
    {
     "data": {
      "image/png": "[encoded data removed]",
      "text/plain": [
       "<Figure size 432x288 with 1 Axes>"
      ]
     },
     "metadata": {
      "needs_background": "light"
     },
     "output_type": "display_data"
    }
   ],
   "source": [
    "#Построю также диаграммы рассеяние зависимости от рейтинга пользователей\n",
    "#для трёх менее популярных игр 3DS, PC и XOne\n",
    "platforms = ['3DS', 'PC', 'XOne']\n",
    "for score in platforms:\n",
    "    df.query('platform == @score').plot(x='user_score', y='total_sales', kind='scatter').set_title('Зависимсть продаж игр от рейтинга пользователей')\n",
    "    plt.xlabel(\"Рейтинг пользователей\")\n",
    "    plt.ylabel(\"Суммарные продажи\")"
   ]
  },
  {
   "cell_type": "code",
   "execution_count": 26,
   "metadata": {},
   "outputs": [
    {
     "data": {
      "image/png": "[encoded data removed]",
      "text/plain": [
       "<Figure size 432x288 with 1 Axes>"
      ]
     },
     "metadata": {
      "needs_background": "light"
     },
     "output_type": "display_data"
    },
    {
     "data": {
      "image/png": "[encoded data removed]",
      "text/plain": [
       "<Figure size 432x288 with 1 Axes>"
      ]
     },
     "metadata": {
      "needs_background": "light"
     },
     "output_type": "display_data"
    },
    {
     "data": {
      "image/png": "[encoded data removed]",
      "text/plain": [
       "<Figure size 432x288 with 1 Axes>"
      ]
     },
     "metadata": {
      "needs_background": "light"
     },
     "output_type": "display_data"
    }
   ],
   "source": [
    "#Построю также диаграммы рассеяние зависимости от рейтинга критиков\n",
    "#для трёх менее популярных игр 3DS, PC и XOne\n",
    "platforms = ['3DS', 'PC', 'XOne']\n",
    "for score in platforms:\n",
    "    df.query('platform == @score').plot(x='critic_score', y='total_sales', kind='scatter').set_title('Зависимсть продаж игр от рейтинга критиков')\n",
    "    plt.xlabel(\"Рейтинг критиков\")\n",
    "    plt.ylabel(\"Суммарные продажи\")"
   ]
  },
  {
   "cell_type": "markdown",
   "metadata": {},
   "source": [
    "По графику зависимости можно сделать вывод, что когда у платформы оценки больше 80 от критиков и больше 6 от пользователей, то и суммарные продажи увеличиваются, это можно также подтвердить положительной корреляцией."
   ]
  },
  {
   "cell_type": "markdown",
   "metadata": {},
   "source": [
    "### Распределение игр по жанрам"
   ]
  },
  {
   "cell_type": "code",
   "execution_count": 27,
   "metadata": {},
   "outputs": [
    {
     "data": {
      "text/html": [
       "<div>\n",
       "<style scoped>\n",
       "    .dataframe tbody tr th:only-of-type {\n",
       "        vertical-align: middle;\n",
       "    }\n",
       "\n",
       "    .dataframe tbody tr th {\n",
       "        vertical-align: top;\n",
       "    }\n",
       "\n",
       "    .dataframe thead th {\n",
       "        text-align: right;\n",
       "    }\n",
       "</style>\n",
       "<table border=\"1\" class=\"dataframe\">\n",
       "  <thead>\n",
       "    <tr style=\"text-align: right;\">\n",
       "      <th></th>\n",
       "      <th>genre</th>\n",
       "      <th>name</th>\n",
       "    </tr>\n",
       "  </thead>\n",
       "  <tbody>\n",
       "    <tr>\n",
       "      <td>0</td>\n",
       "      <td>Action</td>\n",
       "      <td>1988</td>\n",
       "    </tr>\n",
       "    <tr>\n",
       "      <td>1</td>\n",
       "      <td>Adventure</td>\n",
       "      <td>869</td>\n",
       "    </tr>\n",
       "    <tr>\n",
       "      <td>2</td>\n",
       "      <td>Fighting</td>\n",
       "      <td>308</td>\n",
       "    </tr>\n",
       "    <tr>\n",
       "      <td>3</td>\n",
       "      <td>Misc</td>\n",
       "      <td>994</td>\n",
       "    </tr>\n",
       "    <tr>\n",
       "      <td>4</td>\n",
       "      <td>Platform</td>\n",
       "      <td>244</td>\n",
       "    </tr>\n",
       "    <tr>\n",
       "      <td>5</td>\n",
       "      <td>Puzzle</td>\n",
       "      <td>257</td>\n",
       "    </tr>\n",
       "    <tr>\n",
       "      <td>6</td>\n",
       "      <td>Racing</td>\n",
       "      <td>403</td>\n",
       "    </tr>\n",
       "    <tr>\n",
       "      <td>7</td>\n",
       "      <td>Role-Playing</td>\n",
       "      <td>783</td>\n",
       "    </tr>\n",
       "    <tr>\n",
       "      <td>8</td>\n",
       "      <td>Shooter</td>\n",
       "      <td>583</td>\n",
       "    </tr>\n",
       "    <tr>\n",
       "      <td>9</td>\n",
       "      <td>Simulation</td>\n",
       "      <td>459</td>\n",
       "    </tr>\n",
       "    <tr>\n",
       "      <td>10</td>\n",
       "      <td>Sports</td>\n",
       "      <td>958</td>\n",
       "    </tr>\n",
       "    <tr>\n",
       "      <td>11</td>\n",
       "      <td>Strategy</td>\n",
       "      <td>284</td>\n",
       "    </tr>\n",
       "  </tbody>\n",
       "</table>\n",
       "</div>"
      ],
      "text/plain": [
       "           genre  name\n",
       "0         Action  1988\n",
       "1      Adventure   869\n",
       "2       Fighting   308\n",
       "3           Misc   994\n",
       "4       Platform   244\n",
       "5         Puzzle   257\n",
       "6         Racing   403\n",
       "7   Role-Playing   783\n",
       "8        Shooter   583\n",
       "9     Simulation   459\n",
       "10        Sports   958\n",
       "11      Strategy   284"
      ]
     },
     "execution_count": 27,
     "metadata": {},
     "output_type": "execute_result"
    }
   ],
   "source": [
    "#группировка игр по жанрам\n",
    "pd.pivot_table(df, index='genre', values = 'name', aggfunc='count').reset_index()\n"
   ]
  },
  {
   "cell_type": "code",
   "execution_count": 28,
   "metadata": {},
   "outputs": [
    {
     "data": {
      "text/html": [
       "<div>\n",
       "<style scoped>\n",
       "    .dataframe tbody tr th:only-of-type {\n",
       "        vertical-align: middle;\n",
       "    }\n",
       "\n",
       "    .dataframe tbody tr th {\n",
       "        vertical-align: top;\n",
       "    }\n",
       "\n",
       "    .dataframe thead th {\n",
       "        text-align: right;\n",
       "    }\n",
       "</style>\n",
       "<table border=\"1\" class=\"dataframe\">\n",
       "  <thead>\n",
       "    <tr style=\"text-align: right;\">\n",
       "      <th></th>\n",
       "      <th>genre</th>\n",
       "      <th>total_sales</th>\n",
       "    </tr>\n",
       "  </thead>\n",
       "  <tbody>\n",
       "    <tr>\n",
       "      <td>8</td>\n",
       "      <td>Shooter</td>\n",
       "      <td>1.043208</td>\n",
       "    </tr>\n",
       "    <tr>\n",
       "      <td>4</td>\n",
       "      <td>Platform</td>\n",
       "      <td>0.800738</td>\n",
       "    </tr>\n",
       "    <tr>\n",
       "      <td>10</td>\n",
       "      <td>Sports</td>\n",
       "      <td>0.584906</td>\n",
       "    </tr>\n",
       "    <tr>\n",
       "      <td>6</td>\n",
       "      <td>Racing</td>\n",
       "      <td>0.561811</td>\n",
       "    </tr>\n",
       "    <tr>\n",
       "      <td>7</td>\n",
       "      <td>Role-Playing</td>\n",
       "      <td>0.538404</td>\n",
       "    </tr>\n",
       "    <tr>\n",
       "      <td>2</td>\n",
       "      <td>Fighting</td>\n",
       "      <td>0.482175</td>\n",
       "    </tr>\n",
       "    <tr>\n",
       "      <td>0</td>\n",
       "      <td>Action</td>\n",
       "      <td>0.475724</td>\n",
       "    </tr>\n",
       "    <tr>\n",
       "      <td>3</td>\n",
       "      <td>Misc</td>\n",
       "      <td>0.398823</td>\n",
       "    </tr>\n",
       "    <tr>\n",
       "      <td>9</td>\n",
       "      <td>Simulation</td>\n",
       "      <td>0.328497</td>\n",
       "    </tr>\n",
       "    <tr>\n",
       "      <td>5</td>\n",
       "      <td>Puzzle</td>\n",
       "      <td>0.216420</td>\n",
       "    </tr>\n",
       "    <tr>\n",
       "      <td>11</td>\n",
       "      <td>Strategy</td>\n",
       "      <td>0.210317</td>\n",
       "    </tr>\n",
       "    <tr>\n",
       "      <td>1</td>\n",
       "      <td>Adventure</td>\n",
       "      <td>0.121818</td>\n",
       "    </tr>\n",
       "  </tbody>\n",
       "</table>\n",
       "</div>"
      ],
      "text/plain": [
       "           genre  total_sales\n",
       "8        Shooter     1.043208\n",
       "4       Platform     0.800738\n",
       "10        Sports     0.584906\n",
       "6         Racing     0.561811\n",
       "7   Role-Playing     0.538404\n",
       "2       Fighting     0.482175\n",
       "0         Action     0.475724\n",
       "3           Misc     0.398823\n",
       "9     Simulation     0.328497\n",
       "5         Puzzle     0.216420\n",
       "11      Strategy     0.210317\n",
       "1      Adventure     0.121818"
      ]
     },
     "execution_count": 28,
     "metadata": {},
     "output_type": "execute_result"
    }
   ],
   "source": [
    "#группировка по самым продаваемым жанрам\n",
    "pd.pivot_table(df, index='genre', values = 'total_sales', aggfunc='mean').reset_index().sort_values(by = 'total_sales', ascending=False)\n"
   ]
  },
  {
   "cell_type": "markdown",
   "metadata": {},
   "source": [
    "Самые продаваемы жанры Shooter, Platform и Sports, самый непродаваемый жанр Adventure.  "
   ]
  },
  {
   "cell_type": "markdown",
   "metadata": {},
   "source": [
    "Вывод по исследовательскому анализу данных.\n",
    "\n",
    "В среднем срок жизни платформы 10 лет. С 1990 по 2010 год растет количество выпускаемых игр. Самые популярные и продаваемые выпускаемые игры находятся в жанрах Shooter, Platform и Sports. Для этого датасета \"наиболее перспективные\" платформы PS4, 3DS, PC, XOne, WiiU, PSV так как их рост еще не падает к 2016 году, и возможно пик роста произойдет дальше.\n",
    "\n",
    "По рейтингу если игры на платформе имееют оценку критиков выше 80 и оценку пользователей больше 6, то их продажи будут увеличиваться."
   ]
  },
  {
   "cell_type": "markdown",
   "metadata": {},
   "source": [
    "## Портрет пользователя каждого региона"
   ]
  },
  {
   "cell_type": "code",
   "execution_count": 29,
   "metadata": {},
   "outputs": [],
   "source": [
    "#функция для построения дальнейших диаграмм\n",
    "def regions_plot(groupby, region_sales):\n",
    "    pivot = df.groupby(groupby).agg({region_sales: 'sum'}).sort_values(by=region_sales, ascending=False)[:5]\n",
    "    title_dict = {'na_sales': 'продажи в Северной Америке', 'eu_sales': 'продажи в Европе', 'jp_sales': 'продажи в Японии'}\n",
    "    plot = pivot.plot(kind='bar', ec='black', title=title_dict[region_sales], \n",
    "                   fontsize=18, rot=45)\n",
    "    plot.legend(prop={'size':17})\n",
    "    plot.set_xlabel('')\n",
    "    plot.title.set_size(20)"
   ]
  },
  {
   "cell_type": "code",
   "execution_count": 30,
   "metadata": {},
   "outputs": [
    {
     "data": {
      "image/png": "[encoded data removed]",
      "text/plain": [
       "<Figure size 432x288 with 1 Axes>"
      ]
     },
     "metadata": {
      "needs_background": "light"
     },
     "output_type": "display_data"
    },
    {
     "data": {
      "image/png": "[encoded data removed]",
      "text/plain": [
       "<Figure size 432x288 with 1 Axes>"
      ]
     },
     "metadata": {
      "needs_background": "light"
     },
     "output_type": "display_data"
    },
    {
     "data": {
      "image/png": "[encoded data removed]",
      "text/plain": [
       "<Figure size 432x288 with 1 Axes>"
      ]
     },
     "metadata": {
      "needs_background": "light"
     },
     "output_type": "display_data"
    }
   ],
   "source": [
    "#самые популярные платформы\n",
    "regions_plot('platform', 'na_sales')\n",
    "regions_plot('platform', 'eu_sales')\n",
    "regions_plot('platform', 'jp_sales')"
   ]
  },
  {
   "cell_type": "markdown",
   "metadata": {},
   "source": [
    "В Америке самой популярной платформой является  X360, в Европе PS3, в Японии 3DS"
   ]
  },
  {
   "cell_type": "code",
   "execution_count": 31,
   "metadata": {
    "scrolled": false
   },
   "outputs": [
    {
     "data": {
      "image/png": "[encoded data removed]",
      "text/plain": [
       "<Figure size 432x288 with 1 Axes>"
      ]
     },
     "metadata": {
      "needs_background": "light"
     },
     "output_type": "display_data"
    },
    {
     "data": {
      "image/png": "[encoded data removed]",
      "text/plain": [
       "<Figure size 432x288 with 1 Axes>"
      ]
     },
     "metadata": {
      "needs_background": "light"
     },
     "output_type": "display_data"
    },
    {
     "data": {
      "image/png": "[encoded data removed]",
      "text/plain": [
       "<Figure size 432x288 with 1 Axes>"
      ]
     },
     "metadata": {
      "needs_background": "light"
     },
     "output_type": "display_data"
    }
   ],
   "source": [
    "#самые популярные жанры\n",
    "regions_plot('genre', 'na_sales')\n",
    "regions_plot('genre', 'eu_sales')\n",
    "regions_plot('genre', 'jp_sales')"
   ]
  },
  {
   "cell_type": "markdown",
   "metadata": {},
   "source": [
    "Самый популярный жанр игр в Америке и Европе  Action, а в Японии Role-Plaing"
   ]
  },
  {
   "cell_type": "code",
   "execution_count": 32,
   "metadata": {},
   "outputs": [
    {
     "data": {
      "text/plain": [
       "        3025\n",
       "E       1823\n",
       "T       1362\n",
       "E10+     980\n",
       "M        933\n",
       "EC         6\n",
       "RP         1\n",
       "Name: rating, dtype: int64"
      ]
     },
     "execution_count": 32,
     "metadata": {},
     "output_type": "execute_result"
    }
   ],
   "source": [
    "#Группировка рейтинга\n",
    "df['rating'].value_counts()"
   ]
  },
  {
   "cell_type": "code",
   "execution_count": 33,
   "metadata": {},
   "outputs": [],
   "source": [
    "#Переведу на более понятный язык\n",
    "def esrb(row):\n",
    "    if row['rating'] == 'E':\n",
    "        return 'Для всех'\n",
    "    if row['rating'] == 'T':\n",
    "        return '13-19 лет'\n",
    "    if row['rating'] == 'E10+':\n",
    "        return '> 10 лет'\n",
    "    if row['rating'] == 'M':\n",
    "        return '> 17 лет'\n",
    "    return 'Неопределенный рейтинг'"
   ]
  },
  {
   "cell_type": "code",
   "execution_count": 34,
   "metadata": {},
   "outputs": [],
   "source": [
    "df['esrb'] = df.apply(esrb, axis=1)\n"
   ]
  },
  {
   "cell_type": "code",
   "execution_count": 35,
   "metadata": {},
   "outputs": [
    {
     "data": {
      "image/png": "[encoded data removed]",
      "text/plain": [
       "<Figure size 432x288 with 1 Axes>"
      ]
     },
     "metadata": {
      "needs_background": "light"
     },
     "output_type": "display_data"
    },
    {
     "data": {
      "image/png": "[encoded data removed]",
      "text/plain": [
       "<Figure size 432x288 with 1 Axes>"
      ]
     },
     "metadata": {
      "needs_background": "light"
     },
     "output_type": "display_data"
    },
    {
     "data": {
      "image/png": "[encoded data removed]",
      "text/plain": [
       "<Figure size 432x288 with 1 Axes>"
      ]
     },
     "metadata": {
      "needs_background": "light"
     },
     "output_type": "display_data"
    }
   ],
   "source": [
    "#Продажи игр по рейтингу\n",
    "regions_plot('esrb', 'na_sales')\n",
    "regions_plot('esrb', 'eu_sales')\n",
    "regions_plot('esrb', 'jp_sales')"
   ]
  },
  {
   "cell_type": "markdown",
   "metadata": {},
   "source": [
    " По возрастному рейтингу в Америке и Европе популярны игры \"Для всех\" и для людей старше 17 лет. В Японии же самые популярные игры с неопределенным рейтингом, что по сети тоже является \"Для всех\", а следубщие по популярности игры с для всех и с 13-19 лет. По этому рейтингу можно судить что чаще всего покупают игры для всех возрастов.\n",
    " \n",
    "Из чего можно сделать общий вывод что по рейтингу возраста самые популярные игры это для всех возрастов и старше 17 лет, для Америки и Европы. Также самые популярные жанры это Action, но в Японии больше любят ролевые игры. Самые популярные плтформы по рейтингу трех стран это X360 для Америки, в Европе PS3, в Японии DS."
   ]
  },
  {
   "cell_type": "markdown",
   "metadata": {},
   "source": [
    "## Проверка Гипотез"
   ]
  },
  {
   "cell_type": "markdown",
   "metadata": {},
   "source": [
    "### Средние пользовательские рейтинги платформ Xbox One и PC одинаковые"
   ]
  },
  {
   "cell_type": "markdown",
   "metadata": {},
   "source": [
    "Нулевая гипотеза: средние пользовательские рейтинги платформ Xbox One и PC не отличаются.\n",
    "\n",
    "Альтернативная гипотеза: средние пользовательские рейтинги платформ Xbox One и PC отличаются."
   ]
  },
  {
   "cell_type": "code",
   "execution_count": 36,
   "metadata": {},
   "outputs": [],
   "source": [
    "#выборка по платформам\n",
    "df_xone = df.query('platform == \"XOne\" & user_score > 0')\n",
    "df_pc = df.query('platform == \"PC\" & user_score > 0')"
   ]
  },
  {
   "cell_type": "code",
   "execution_count": 37,
   "metadata": {},
   "outputs": [
    {
     "name": "stdout",
     "output_type": "stream",
     "text": [
      "p-значение: 0.1295458611061516\n",
      "Не получилось отвергнуть нулевую гипотезу\n"
     ]
    }
   ],
   "source": [
    "#проверка гипотезы\n",
    "alpha = 0.05 \n",
    "results = st.ttest_ind(\n",
    "    df_xone['user_score'], \n",
    "    df_pc['user_score'])\n",
    "\n",
    "print('p-значение:', results.pvalue)\n",
    "\n",
    "if (results.pvalue < alpha):\n",
    "    print(\"Отвергаем нулевую гипотезу\")\n",
    "else:\n",
    "    print(\"Не получилось отвергнуть нулевую гипотезу\")"
   ]
  },
  {
   "cell_type": "markdown",
   "metadata": {},
   "source": [
    "По нулевой гипотезе получаем, что средние пользовательские рейтинги платформ Xbox One и PC не отличаются."
   ]
  },
  {
   "cell_type": "markdown",
   "metadata": {},
   "source": [
    "### Средние пользовательские рейтинги жанров Action (англ. «действие», экшен-игры) и Sports (англ. «спортивные соревнования») разные."
   ]
  },
  {
   "cell_type": "markdown",
   "metadata": {},
   "source": [
    "Нулевая гипотеза: средние пользовательские рейтинги жанров Action и Sports не различаются.\n",
    "\n",
    "Альтернативная гипотеза: средние пользовательские рейтинги жанров Action и Sports различаются."
   ]
  },
  {
   "cell_type": "code",
   "execution_count": 38,
   "metadata": {},
   "outputs": [],
   "source": [
    "#выборка по жанрам\n",
    "df_sport = df.query('genre == \"Sports\" & user_score > 0')\n",
    "df_action = df.query('genre == \"Action\" & user_score > 0')"
   ]
  },
  {
   "cell_type": "code",
   "execution_count": 39,
   "metadata": {},
   "outputs": [
    {
     "name": "stdout",
     "output_type": "stream",
     "text": [
      "p-значение: 1.9150743334562065e-15\n",
      "Отвергаем нулевую гипотезу\n"
     ]
    }
   ],
   "source": [
    "#проверка гипотезы\n",
    "alpha = 0.05 \n",
    "results = st.ttest_ind(\n",
    "    df_sport['user_score'], \n",
    "    df_action['user_score'])\n",
    "\n",
    "print('p-значение:', results.pvalue)\n",
    "\n",
    "if (results.pvalue < alpha):\n",
    "    print(\"Отвергаем нулевую гипотезу\")\n",
    "else:\n",
    "    print(\"Не получилось отвергнуть нулевую гипотезу\")"
   ]
  },
  {
   "cell_type": "markdown",
   "metadata": {},
   "source": [
    "Отвергая нулевую гипотезу, предполагаем, что средние пользовательские рейтинги жанров Action и Sports различаются."
   ]
  },
  {
   "cell_type": "markdown",
   "metadata": {},
   "source": [
    "## Общий вывод"
   ]
  },
  {
   "cell_type": "markdown",
   "metadata": {},
   "source": [
    "В данном датафрейме данные пришли в нелучшем виде. В данных нужно было исправлять тип, а также разбираться с пропусками в столбцах.\n",
    "\n",
    "Платформв живут примерно 10 лет. В 2005 году (+- 2 года) появилось сразу несколько платформ. Самая старая платформа PS, самая молодая PS3. Общий спад по этим платформам происходит после 2015 года.\n",
    "\n",
    "С 1990 по 2010 год растет количество выпускаемых игр. Самые популярные продаваемые игры находятся в жанрах Shooter, Platform и Sports. Для этого датасета \"наиболее перспективные\" платформы PS4, 3DS, PC, XOne, WiiU, PSV так как их рост еще не падает к 2016 году, и возможно пик роста произойдет дальше.\n",
    "\n",
    "По рейтингу игры на платформе, если имеют оценку критиков выше 80 и оценку пользователей больше 6, то их продажи будут увеличиваться.\n",
    "\n",
    " \n",
    "По возрастному рейтингу можно сделать вывод что самые популярные игры это для всех возрастов и старше 17 лет, для Америки и Европы, для Японии с 13 лет и для всех возрастов. Также самые популярные жанры это Action, но в Японии больше любят ролевые игры. Самые популярные плтформы по рейтингу трех стран это X360 для Америки, в Европе PS3, в Японии DS.\n",
    "\n",
    "Получив данные проверки гипотез, предположила, что что средние пользовательские рейтинги платформ Xbox One и PC не отличаются, а также, что средние пользовательские рейтинги жанров Action и Sports различаются."
   ]
  }
 ],
 "metadata": {
  "ExecuteTimeLog": [
   {
    "duration": 1233,
    "start_time": "2022-02-17T11:50:25.575Z"
   },
   {
    "duration": -1397,
    "start_time": "2022-02-17T11:51:57.370Z"
   },
   {
    "duration": 50,
    "start_time": "2022-02-17T11:55:58.302Z"
   },
   {
    "duration": 12,
    "start_time": "2022-02-17T11:56:13.582Z"
   },
   {
    "duration": 12,
    "start_time": "2022-02-17T12:01:33.542Z"
   },
   {
    "duration": 258,
    "start_time": "2022-02-17T16:51:34.620Z"
   },
   {
    "duration": 7,
    "start_time": "2022-02-17T16:57:14.885Z"
   },
   {
    "duration": 13,
    "start_time": "2022-02-17T16:57:25.899Z"
   },
   {
    "duration": 18,
    "start_time": "2022-02-17T16:57:42.906Z"
   },
   {
    "duration": 14,
    "start_time": "2022-02-17T16:57:57.505Z"
   },
   {
    "duration": 3,
    "start_time": "2022-02-17T17:05:09.142Z"
   },
   {
    "duration": 9,
    "start_time": "2022-02-17T17:13:35.575Z"
   },
   {
    "duration": 17,
    "start_time": "2022-02-17T17:13:46.477Z"
   },
   {
    "duration": 20,
    "start_time": "2022-02-17T17:26:20.545Z"
   },
   {
    "duration": 18,
    "start_time": "2022-02-17T17:28:41.958Z"
   },
   {
    "duration": 1063,
    "start_time": "2022-02-18T17:51:24.838Z"
   },
   {
    "duration": 45,
    "start_time": "2022-02-18T17:51:25.903Z"
   },
   {
    "duration": 10,
    "start_time": "2022-02-18T17:51:25.950Z"
   },
   {
    "duration": 9,
    "start_time": "2022-02-18T17:51:25.962Z"
   },
   {
    "duration": 14,
    "start_time": "2022-02-18T17:51:25.972Z"
   },
   {
    "duration": 39,
    "start_time": "2022-02-18T17:51:25.987Z"
   },
   {
    "duration": 15,
    "start_time": "2022-02-18T17:51:26.028Z"
   },
   {
    "duration": 13,
    "start_time": "2022-02-18T17:51:26.045Z"
   },
   {
    "duration": 5,
    "start_time": "2022-02-18T17:51:32.903Z"
   },
   {
    "duration": 12,
    "start_time": "2022-02-18T17:51:43.719Z"
   },
   {
    "duration": 8,
    "start_time": "2022-02-18T17:58:43.805Z"
   },
   {
    "duration": 10,
    "start_time": "2022-02-18T18:06:29.590Z"
   },
   {
    "duration": 11,
    "start_time": "2022-02-18T18:06:50.837Z"
   },
   {
    "duration": 8,
    "start_time": "2022-02-18T18:07:05.748Z"
   },
   {
    "duration": 12,
    "start_time": "2022-02-18T18:08:01.187Z"
   },
   {
    "duration": 5,
    "start_time": "2022-02-18T18:10:49.383Z"
   },
   {
    "duration": 11,
    "start_time": "2022-02-18T18:10:56.621Z"
   },
   {
    "duration": 6,
    "start_time": "2022-02-18T18:16:28.159Z"
   },
   {
    "duration": 17,
    "start_time": "2022-02-18T18:16:45.559Z"
   },
   {
    "duration": 334,
    "start_time": "2022-02-18T18:44:11.890Z"
   },
   {
    "duration": 8,
    "start_time": "2022-02-18T18:45:58.345Z"
   },
   {
    "duration": 18,
    "start_time": "2022-02-18T18:50:52.294Z"
   },
   {
    "duration": 18,
    "start_time": "2022-02-18T18:51:15.638Z"
   },
   {
    "duration": 377,
    "start_time": "2022-02-18T19:26:16.731Z"
   },
   {
    "duration": 611,
    "start_time": "2022-02-18T19:26:42.278Z"
   },
   {
    "duration": 400,
    "start_time": "2022-02-18T19:26:55.531Z"
   },
   {
    "duration": 480,
    "start_time": "2022-02-18T19:27:28.101Z"
   },
   {
    "duration": 45,
    "start_time": "2022-02-18T19:38:23.616Z"
   },
   {
    "duration": 225,
    "start_time": "2022-02-18T19:43:06.452Z"
   },
   {
    "duration": 3,
    "start_time": "2022-02-18T19:43:18.571Z"
   },
   {
    "duration": 55,
    "start_time": "2022-02-18T19:43:18.576Z"
   },
   {
    "duration": 9,
    "start_time": "2022-02-18T19:43:18.633Z"
   },
   {
    "duration": 80,
    "start_time": "2022-02-18T19:43:18.644Z"
   },
   {
    "duration": 13,
    "start_time": "2022-02-18T19:43:18.726Z"
   },
   {
    "duration": 20,
    "start_time": "2022-02-18T19:43:18.740Z"
   },
   {
    "duration": 16,
    "start_time": "2022-02-18T19:43:18.762Z"
   },
   {
    "duration": 28,
    "start_time": "2022-02-18T19:43:18.780Z"
   },
   {
    "duration": 22,
    "start_time": "2022-02-18T19:43:18.810Z"
   },
   {
    "duration": 15,
    "start_time": "2022-02-18T19:43:18.834Z"
   },
   {
    "duration": 27,
    "start_time": "2022-02-18T19:43:18.851Z"
   },
   {
    "duration": 13,
    "start_time": "2022-02-18T19:43:18.880Z"
   },
   {
    "duration": 27,
    "start_time": "2022-02-18T19:43:18.895Z"
   },
   {
    "duration": 344,
    "start_time": "2022-02-18T19:43:18.924Z"
   },
   {
    "duration": 6,
    "start_time": "2022-02-18T19:43:19.270Z"
   },
   {
    "duration": 37,
    "start_time": "2022-02-18T19:43:19.278Z"
   },
   {
    "duration": 452,
    "start_time": "2022-02-18T19:43:19.316Z"
   },
   {
    "duration": 17,
    "start_time": "2022-02-18T19:43:19.770Z"
   },
   {
    "duration": 642,
    "start_time": "2022-02-18T19:49:21.190Z"
   },
   {
    "duration": 5,
    "start_time": "2022-02-18T19:49:32.838Z"
   },
   {
    "duration": 44,
    "start_time": "2022-02-18T19:49:32.845Z"
   },
   {
    "duration": 14,
    "start_time": "2022-02-18T19:49:32.891Z"
   },
   {
    "duration": 27,
    "start_time": "2022-02-18T19:49:32.907Z"
   },
   {
    "duration": 15,
    "start_time": "2022-02-18T19:49:32.936Z"
   },
   {
    "duration": 16,
    "start_time": "2022-02-18T19:49:32.953Z"
   },
   {
    "duration": 20,
    "start_time": "2022-02-18T19:49:32.971Z"
   },
   {
    "duration": 21,
    "start_time": "2022-02-18T19:49:33.019Z"
   },
   {
    "duration": 8,
    "start_time": "2022-02-18T19:49:33.043Z"
   },
   {
    "duration": 9,
    "start_time": "2022-02-18T19:49:33.053Z"
   },
   {
    "duration": 12,
    "start_time": "2022-02-18T19:49:33.064Z"
   },
   {
    "duration": 50,
    "start_time": "2022-02-18T19:49:33.078Z"
   },
   {
    "duration": 20,
    "start_time": "2022-02-18T19:49:33.131Z"
   },
   {
    "duration": 392,
    "start_time": "2022-02-18T19:49:33.153Z"
   },
   {
    "duration": 8,
    "start_time": "2022-02-18T19:49:33.548Z"
   },
   {
    "duration": 17,
    "start_time": "2022-02-18T19:49:33.558Z"
   },
   {
    "duration": 535,
    "start_time": "2022-02-18T19:49:33.577Z"
   },
   {
    "duration": 27,
    "start_time": "2022-02-18T19:49:34.114Z"
   },
   {
    "duration": 476,
    "start_time": "2022-02-18T19:49:34.143Z"
   },
   {
    "duration": 448,
    "start_time": "2022-02-18T19:58:45.990Z"
   },
   {
    "duration": 288,
    "start_time": "2022-02-18T20:11:47.518Z"
   },
   {
    "duration": 278,
    "start_time": "2022-02-18T20:12:15.260Z"
   },
   {
    "duration": 280,
    "start_time": "2022-02-18T20:12:56.259Z"
   },
   {
    "duration": 294,
    "start_time": "2022-02-18T20:22:01.958Z"
   },
   {
    "duration": 201,
    "start_time": "2022-02-18T20:24:12.707Z"
   },
   {
    "duration": 61,
    "start_time": "2022-02-18T20:24:29.023Z"
   },
   {
    "duration": 65,
    "start_time": "2022-02-18T20:24:49.791Z"
   },
   {
    "duration": 86,
    "start_time": "2022-02-18T20:24:55.798Z"
   },
   {
    "duration": 72,
    "start_time": "2022-02-18T20:25:35.495Z"
   },
   {
    "duration": 72,
    "start_time": "2022-02-18T20:26:27.838Z"
   },
   {
    "duration": 62,
    "start_time": "2022-02-18T20:26:48.878Z"
   },
   {
    "duration": 19,
    "start_time": "2022-02-18T20:27:15.978Z"
   },
   {
    "duration": 323,
    "start_time": "2022-02-18T20:31:20.080Z"
   },
   {
    "duration": 307,
    "start_time": "2022-02-18T20:35:18.757Z"
   },
   {
    "duration": 824,
    "start_time": "2022-02-18T20:37:45.178Z"
   },
   {
    "duration": 857,
    "start_time": "2022-02-18T20:39:44.231Z"
   },
   {
    "duration": 14,
    "start_time": "2022-02-18T20:46:51.202Z"
   },
   {
    "duration": 15,
    "start_time": "2022-02-18T20:47:47.470Z"
   },
   {
    "duration": 4,
    "start_time": "2022-02-18T21:03:49.377Z"
   },
   {
    "duration": 373,
    "start_time": "2022-02-18T21:04:48.267Z"
   },
   {
    "duration": 4,
    "start_time": "2022-02-18T21:05:57.810Z"
   },
   {
    "duration": 395,
    "start_time": "2022-02-18T21:06:00.148Z"
   },
   {
    "duration": 5,
    "start_time": "2022-02-18T21:06:42.240Z"
   },
   {
    "duration": 651,
    "start_time": "2022-02-18T21:06:44.601Z"
   },
   {
    "duration": 4,
    "start_time": "2022-02-18T21:07:20.163Z"
   },
   {
    "duration": 543,
    "start_time": "2022-02-18T21:07:22.879Z"
   },
   {
    "duration": 492,
    "start_time": "2022-02-18T21:08:17.421Z"
   },
   {
    "duration": 538,
    "start_time": "2022-02-18T21:08:48.317Z"
   },
   {
    "duration": 4,
    "start_time": "2022-02-18T21:09:13.144Z"
   },
   {
    "duration": 517,
    "start_time": "2022-02-18T21:09:15.733Z"
   },
   {
    "duration": 627,
    "start_time": "2022-02-18T21:09:22.028Z"
   },
   {
    "duration": 755,
    "start_time": "2022-02-18T21:12:21.094Z"
   },
   {
    "duration": 4598,
    "start_time": "2022-02-18T21:12:53.231Z"
   },
   {
    "duration": 7,
    "start_time": "2022-02-18T21:15:44.267Z"
   },
   {
    "duration": 4,
    "start_time": "2022-02-18T21:22:06.686Z"
   },
   {
    "duration": 262,
    "start_time": "2022-02-18T21:23:10.995Z"
   },
   {
    "duration": 278,
    "start_time": "2022-02-18T21:23:34.192Z"
   },
   {
    "duration": 263,
    "start_time": "2022-02-18T21:23:44.892Z"
   },
   {
    "duration": 605,
    "start_time": "2022-02-18T21:24:19.466Z"
   },
   {
    "duration": 569,
    "start_time": "2022-02-18T21:24:54.440Z"
   },
   {
    "duration": 6,
    "start_time": "2022-02-18T21:25:40.583Z"
   },
   {
    "duration": 4,
    "start_time": "2022-02-18T21:25:42.782Z"
   },
   {
    "duration": 4,
    "start_time": "2022-02-18T21:29:22.006Z"
   },
   {
    "duration": 599,
    "start_time": "2022-02-18T21:29:25.392Z"
   },
   {
    "duration": 595,
    "start_time": "2022-02-18T21:31:14.893Z"
   },
   {
    "duration": 575,
    "start_time": "2022-02-18T21:31:27.300Z"
   },
   {
    "duration": 11,
    "start_time": "2022-02-18T21:47:59.733Z"
   },
   {
    "duration": 6,
    "start_time": "2022-02-18T21:49:00.652Z"
   },
   {
    "duration": 5,
    "start_time": "2022-02-18T21:53:19.247Z"
   },
   {
    "duration": 10,
    "start_time": "2022-02-18T21:54:07.853Z"
   },
   {
    "duration": 5,
    "start_time": "2022-02-18T21:54:34.340Z"
   },
   {
    "duration": 6,
    "start_time": "2022-02-18T21:55:49.505Z"
   },
   {
    "duration": 992,
    "start_time": "2022-02-18T22:05:38.471Z"
   },
   {
    "duration": 49,
    "start_time": "2022-02-18T22:05:39.465Z"
   },
   {
    "duration": 10,
    "start_time": "2022-02-18T22:05:39.516Z"
   },
   {
    "duration": 9,
    "start_time": "2022-02-18T22:05:39.527Z"
   },
   {
    "duration": 12,
    "start_time": "2022-02-18T22:05:39.538Z"
   },
   {
    "duration": 13,
    "start_time": "2022-02-18T22:05:39.551Z"
   },
   {
    "duration": 14,
    "start_time": "2022-02-18T22:05:39.565Z"
   },
   {
    "duration": 44,
    "start_time": "2022-02-18T22:05:39.581Z"
   },
   {
    "duration": 7,
    "start_time": "2022-02-18T22:05:39.627Z"
   },
   {
    "duration": 8,
    "start_time": "2022-02-18T22:05:39.636Z"
   },
   {
    "duration": 12,
    "start_time": "2022-02-18T22:05:39.646Z"
   },
   {
    "duration": 11,
    "start_time": "2022-02-18T22:05:39.660Z"
   },
   {
    "duration": 47,
    "start_time": "2022-02-18T22:05:39.672Z"
   },
   {
    "duration": 346,
    "start_time": "2022-02-18T22:05:39.720Z"
   },
   {
    "duration": 7,
    "start_time": "2022-02-18T22:05:40.067Z"
   },
   {
    "duration": 16,
    "start_time": "2022-02-18T22:05:40.076Z"
   },
   {
    "duration": 466,
    "start_time": "2022-02-18T22:05:40.093Z"
   },
   {
    "duration": 17,
    "start_time": "2022-02-18T22:05:40.561Z"
   },
   {
    "duration": 402,
    "start_time": "2022-02-18T22:05:40.580Z"
   },
   {
    "duration": 407,
    "start_time": "2022-02-18T22:05:40.983Z"
   },
   {
    "duration": 265,
    "start_time": "2022-02-18T22:05:41.392Z"
   },
   {
    "duration": 388,
    "start_time": "2022-02-18T22:05:41.658Z"
   },
   {
    "duration": 15,
    "start_time": "2022-02-18T22:05:42.050Z"
   },
   {
    "duration": 294,
    "start_time": "2022-02-18T22:05:42.067Z"
   },
   {
    "duration": 823,
    "start_time": "2022-02-18T22:05:42.363Z"
   },
   {
    "duration": 819,
    "start_time": "2022-02-18T22:05:43.188Z"
   },
   {
    "duration": 19,
    "start_time": "2022-02-18T22:05:44.009Z"
   },
   {
    "duration": 14,
    "start_time": "2022-02-18T22:05:44.029Z"
   },
   {
    "duration": 4,
    "start_time": "2022-02-18T22:05:44.044Z"
   },
   {
    "duration": 561,
    "start_time": "2022-02-18T22:05:44.050Z"
   },
   {
    "duration": 563,
    "start_time": "2022-02-18T22:05:44.613Z"
   },
   {
    "duration": 7,
    "start_time": "2022-02-18T22:05:45.178Z"
   },
   {
    "duration": 5,
    "start_time": "2022-02-18T22:05:45.186Z"
   },
   {
    "duration": 352,
    "start_time": "2022-02-18T22:05:45.192Z"
   },
   {
    "duration": 562,
    "start_time": "2022-02-18T22:05:45.545Z"
   },
   {
    "duration": 16,
    "start_time": "2022-02-18T22:05:46.108Z"
   },
   {
    "duration": 5,
    "start_time": "2022-02-18T22:05:46.126Z"
   },
   {
    "duration": 12,
    "start_time": "2022-02-18T22:05:46.132Z"
   },
   {
    "duration": 5,
    "start_time": "2022-02-18T22:05:46.146Z"
   },
   {
    "duration": 1324,
    "start_time": "2022-02-28T15:11:33.986Z"
   },
   {
    "duration": 87,
    "start_time": "2022-02-28T15:11:35.312Z"
   },
   {
    "duration": 13,
    "start_time": "2022-02-28T15:11:35.402Z"
   },
   {
    "duration": 30,
    "start_time": "2022-02-28T15:11:35.417Z"
   },
   {
    "duration": 20,
    "start_time": "2022-02-28T15:11:35.449Z"
   },
   {
    "duration": 19,
    "start_time": "2022-02-28T15:11:35.471Z"
   },
   {
    "duration": 61,
    "start_time": "2022-02-28T15:11:35.493Z"
   },
   {
    "duration": 21,
    "start_time": "2022-02-28T15:11:35.556Z"
   },
   {
    "duration": 10,
    "start_time": "2022-02-28T15:11:35.583Z"
   },
   {
    "duration": 54,
    "start_time": "2022-02-28T15:11:35.597Z"
   },
   {
    "duration": 20,
    "start_time": "2022-02-28T15:11:35.653Z"
   },
   {
    "duration": 18,
    "start_time": "2022-02-28T15:11:35.676Z"
   },
   {
    "duration": 63,
    "start_time": "2022-02-28T15:11:35.697Z"
   },
   {
    "duration": 553,
    "start_time": "2022-02-28T15:11:35.763Z"
   },
   {
    "duration": 26,
    "start_time": "2022-02-28T15:11:36.319Z"
   },
   {
    "duration": 26,
    "start_time": "2022-02-28T15:11:36.347Z"
   },
   {
    "duration": 744,
    "start_time": "2022-02-28T15:11:36.376Z"
   },
   {
    "duration": 41,
    "start_time": "2022-02-28T15:11:37.122Z"
   },
   {
    "duration": 616,
    "start_time": "2022-02-28T15:11:37.166Z"
   },
   {
    "duration": 655,
    "start_time": "2022-02-28T15:11:37.785Z"
   },
   {
    "duration": 395,
    "start_time": "2022-02-28T15:11:38.442Z"
   },
   {
    "duration": 511,
    "start_time": "2022-02-28T15:11:38.840Z"
   },
   {
    "duration": 22,
    "start_time": "2022-02-28T15:11:39.354Z"
   },
   {
    "duration": 450,
    "start_time": "2022-02-28T15:11:39.378Z"
   },
   {
    "duration": 1200,
    "start_time": "2022-02-28T15:11:39.832Z"
   },
   {
    "duration": 1230,
    "start_time": "2022-02-28T15:11:41.035Z"
   },
   {
    "duration": 20,
    "start_time": "2022-02-28T15:11:42.270Z"
   },
   {
    "duration": 49,
    "start_time": "2022-02-28T15:11:42.293Z"
   },
   {
    "duration": 6,
    "start_time": "2022-02-28T15:11:42.345Z"
   },
   {
    "duration": 797,
    "start_time": "2022-02-28T15:11:42.353Z"
   },
   {
    "duration": 818,
    "start_time": "2022-02-28T15:11:43.153Z"
   },
   {
    "duration": 8,
    "start_time": "2022-02-28T15:11:43.973Z"
   },
   {
    "duration": 6,
    "start_time": "2022-02-28T15:11:43.984Z"
   },
   {
    "duration": 557,
    "start_time": "2022-02-28T15:11:43.993Z"
   },
   {
    "duration": 931,
    "start_time": "2022-02-28T15:11:44.552Z"
   },
   {
    "duration": 13,
    "start_time": "2022-02-28T15:11:45.485Z"
   },
   {
    "duration": 10,
    "start_time": "2022-02-28T15:11:45.500Z"
   },
   {
    "duration": 15,
    "start_time": "2022-02-28T15:11:45.532Z"
   },
   {
    "duration": 7,
    "start_time": "2022-02-28T15:11:45.550Z"
   },
   {
    "duration": 2268,
    "start_time": "2022-02-28T15:40:12.586Z"
   },
   {
    "duration": 90,
    "start_time": "2022-02-28T15:40:14.856Z"
   },
   {
    "duration": 14,
    "start_time": "2022-02-28T15:40:14.949Z"
   },
   {
    "duration": 19,
    "start_time": "2022-02-28T15:40:16.828Z"
   },
   {
    "duration": 21,
    "start_time": "2022-02-28T15:40:17.148Z"
   },
   {
    "duration": 20,
    "start_time": "2022-02-28T15:40:17.583Z"
   },
   {
    "duration": 22,
    "start_time": "2022-02-28T15:40:22.088Z"
   },
   {
    "duration": 19,
    "start_time": "2022-02-28T15:40:24.103Z"
   },
   {
    "duration": 13,
    "start_time": "2022-02-28T15:40:52.947Z"
   },
   {
    "duration": 13,
    "start_time": "2022-02-28T15:41:04.446Z"
   },
   {
    "duration": 12,
    "start_time": "2022-02-28T15:41:15.185Z"
   },
   {
    "duration": 13,
    "start_time": "2022-02-28T15:41:20.846Z"
   },
   {
    "duration": 20,
    "start_time": "2022-02-28T15:41:28.710Z"
   },
   {
    "duration": 19,
    "start_time": "2022-02-28T15:41:32.518Z"
   },
   {
    "duration": 15,
    "start_time": "2022-02-28T15:41:41.721Z"
   },
   {
    "duration": 1239,
    "start_time": "2022-02-28T17:42:07.776Z"
   },
   {
    "duration": 63,
    "start_time": "2022-02-28T17:42:09.017Z"
   },
   {
    "duration": 14,
    "start_time": "2022-02-28T17:42:09.083Z"
   },
   {
    "duration": 13,
    "start_time": "2022-02-28T17:42:09.100Z"
   },
   {
    "duration": 42,
    "start_time": "2022-02-28T17:42:09.116Z"
   },
   {
    "duration": 19,
    "start_time": "2022-02-28T17:42:09.160Z"
   },
   {
    "duration": 20,
    "start_time": "2022-02-28T17:42:09.181Z"
   },
   {
    "duration": 50,
    "start_time": "2022-02-28T17:42:09.205Z"
   },
   {
    "duration": 9,
    "start_time": "2022-02-28T17:42:09.258Z"
   },
   {
    "duration": 12,
    "start_time": "2022-02-28T17:42:09.269Z"
   },
   {
    "duration": 17,
    "start_time": "2022-02-28T17:42:09.283Z"
   },
   {
    "duration": 52,
    "start_time": "2022-02-28T17:42:09.302Z"
   },
   {
    "duration": 23,
    "start_time": "2022-02-28T17:42:09.356Z"
   },
   {
    "duration": 489,
    "start_time": "2022-02-28T17:42:09.381Z"
   },
   {
    "duration": 10,
    "start_time": "2022-02-28T17:42:09.873Z"
   },
   {
    "duration": 24,
    "start_time": "2022-02-28T17:42:09.885Z"
   },
   {
    "duration": 711,
    "start_time": "2022-02-28T17:42:09.911Z"
   },
   {
    "duration": 39,
    "start_time": "2022-02-28T17:42:10.624Z"
   },
   {
    "duration": 573,
    "start_time": "2022-02-28T17:42:10.665Z"
   },
   {
    "duration": 883,
    "start_time": "2022-02-28T17:42:11.241Z"
   },
   {
    "duration": -10,
    "start_time": "2022-02-28T17:42:12.139Z"
   },
   {
    "duration": -34,
    "start_time": "2022-02-28T17:42:12.165Z"
   },
   {
    "duration": -45,
    "start_time": "2022-02-28T17:42:12.178Z"
   },
   {
    "duration": -55,
    "start_time": "2022-02-28T17:42:12.189Z"
   },
   {
    "duration": -51,
    "start_time": "2022-02-28T17:42:12.202Z"
   },
   {
    "duration": -52,
    "start_time": "2022-02-28T17:42:12.206Z"
   },
   {
    "duration": -62,
    "start_time": "2022-02-28T17:42:12.218Z"
   },
   {
    "duration": -65,
    "start_time": "2022-02-28T17:42:12.223Z"
   },
   {
    "duration": -75,
    "start_time": "2022-02-28T17:42:12.236Z"
   },
   {
    "duration": -76,
    "start_time": "2022-02-28T17:42:12.239Z"
   },
   {
    "duration": -86,
    "start_time": "2022-02-28T17:42:12.251Z"
   },
   {
    "duration": -88,
    "start_time": "2022-02-28T17:42:12.255Z"
   },
   {
    "duration": -99,
    "start_time": "2022-02-28T17:42:12.269Z"
   },
   {
    "duration": -101,
    "start_time": "2022-02-28T17:42:12.273Z"
   },
   {
    "duration": -111,
    "start_time": "2022-02-28T17:42:12.285Z"
   },
   {
    "duration": -111,
    "start_time": "2022-02-28T17:42:12.288Z"
   },
   {
    "duration": -123,
    "start_time": "2022-02-28T17:42:12.302Z"
   },
   {
    "duration": -125,
    "start_time": "2022-02-28T17:42:12.306Z"
   },
   {
    "duration": -135,
    "start_time": "2022-02-28T17:42:12.318Z"
   },
   {
    "duration": 1052,
    "start_time": "2022-02-28T17:43:03.840Z"
   },
   {
    "duration": 27,
    "start_time": "2022-02-28T17:44:09.660Z"
   },
   {
    "duration": 559,
    "start_time": "2022-02-28T17:45:15.523Z"
   },
   {
    "duration": 722,
    "start_time": "2022-02-28T17:46:01.723Z"
   },
   {
    "duration": 629,
    "start_time": "2022-02-28T17:47:49.129Z"
   },
   {
    "duration": 381,
    "start_time": "2022-02-28T17:52:26.006Z"
   },
   {
    "duration": 409,
    "start_time": "2022-02-28T17:52:36.693Z"
   },
   {
    "duration": 20,
    "start_time": "2022-02-28T17:52:42.414Z"
   },
   {
    "duration": 411,
    "start_time": "2022-02-28T17:52:47.448Z"
   },
   {
    "duration": 1105,
    "start_time": "2022-02-28T17:52:51.350Z"
   },
   {
    "duration": 1381,
    "start_time": "2022-02-28T17:52:55.781Z"
   },
   {
    "duration": 21,
    "start_time": "2022-02-28T17:53:07.109Z"
   },
   {
    "duration": 24,
    "start_time": "2022-02-28T17:53:16.770Z"
   },
   {
    "duration": 874,
    "start_time": "2022-02-28T18:04:48.473Z"
   },
   {
    "duration": 26,
    "start_time": "2022-02-28T18:05:18.465Z"
   },
   {
    "duration": 22,
    "start_time": "2022-02-28T18:06:09.514Z"
   },
   {
    "duration": 6,
    "start_time": "2022-02-28T18:09:13.273Z"
   },
   {
    "duration": 762,
    "start_time": "2022-02-28T18:09:21.002Z"
   },
   {
    "duration": 761,
    "start_time": "2022-02-28T18:09:26.025Z"
   },
   {
    "duration": 9,
    "start_time": "2022-02-28T18:10:09.644Z"
   },
   {
    "duration": 4,
    "start_time": "2022-02-28T18:10:13.208Z"
   },
   {
    "duration": 345,
    "start_time": "2022-02-28T18:10:15.598Z"
   },
   {
    "duration": 793,
    "start_time": "2022-02-28T18:10:18.595Z"
   },
   {
    "duration": 15,
    "start_time": "2022-02-28T18:15:31.824Z"
   },
   {
    "duration": 8,
    "start_time": "2022-02-28T18:15:34.190Z"
   },
   {
    "duration": 16,
    "start_time": "2022-02-28T18:18:51.712Z"
   },
   {
    "duration": 7,
    "start_time": "2022-02-28T18:18:54.034Z"
   },
   {
    "duration": 1291,
    "start_time": "2022-02-28T18:23:04.860Z"
   },
   {
    "duration": 63,
    "start_time": "2022-02-28T18:23:06.154Z"
   },
   {
    "duration": 30,
    "start_time": "2022-02-28T18:23:06.223Z"
   },
   {
    "duration": 16,
    "start_time": "2022-02-28T18:23:06.256Z"
   },
   {
    "duration": 20,
    "start_time": "2022-02-28T18:23:06.275Z"
   },
   {
    "duration": 64,
    "start_time": "2022-02-28T18:23:06.298Z"
   },
   {
    "duration": 22,
    "start_time": "2022-02-28T18:23:06.366Z"
   },
   {
    "duration": 18,
    "start_time": "2022-02-28T18:23:06.391Z"
   },
   {
    "duration": 47,
    "start_time": "2022-02-28T18:23:06.413Z"
   },
   {
    "duration": 14,
    "start_time": "2022-02-28T18:23:06.464Z"
   },
   {
    "duration": 17,
    "start_time": "2022-02-28T18:23:06.480Z"
   },
   {
    "duration": 56,
    "start_time": "2022-02-28T18:23:06.499Z"
   },
   {
    "duration": 23,
    "start_time": "2022-02-28T18:23:06.558Z"
   },
   {
    "duration": 552,
    "start_time": "2022-02-28T18:23:06.583Z"
   },
   {
    "duration": 18,
    "start_time": "2022-02-28T18:23:07.138Z"
   },
   {
    "duration": 24,
    "start_time": "2022-02-28T18:23:07.158Z"
   },
   {
    "duration": 721,
    "start_time": "2022-02-28T18:23:07.184Z"
   },
   {
    "duration": 48,
    "start_time": "2022-02-28T18:23:07.908Z"
   },
   {
    "duration": 544,
    "start_time": "2022-02-28T18:23:07.959Z"
   },
   {
    "duration": 613,
    "start_time": "2022-02-28T18:23:08.505Z"
   },
   {
    "duration": 391,
    "start_time": "2022-02-28T18:23:09.121Z"
   },
   {
    "duration": 480,
    "start_time": "2022-02-28T18:23:09.514Z"
   },
   {
    "duration": 22,
    "start_time": "2022-02-28T18:23:09.996Z"
   },
   {
    "duration": 437,
    "start_time": "2022-02-28T18:23:10.020Z"
   },
   {
    "duration": 1155,
    "start_time": "2022-02-28T18:23:10.462Z"
   },
   {
    "duration": 1136,
    "start_time": "2022-02-28T18:23:11.619Z"
   },
   {
    "duration": 27,
    "start_time": "2022-02-28T18:23:12.758Z"
   },
   {
    "duration": 21,
    "start_time": "2022-02-28T18:23:12.787Z"
   },
   {
    "duration": 6,
    "start_time": "2022-02-28T18:23:12.810Z"
   },
   {
    "duration": 794,
    "start_time": "2022-02-28T18:23:12.818Z"
   },
   {
    "duration": 771,
    "start_time": "2022-02-28T18:23:13.614Z"
   },
   {
    "duration": 9,
    "start_time": "2022-02-28T18:23:14.388Z"
   },
   {
    "duration": 4,
    "start_time": "2022-02-28T18:23:14.399Z"
   },
   {
    "duration": 334,
    "start_time": "2022-02-28T18:23:14.406Z"
   },
   {
    "duration": 891,
    "start_time": "2022-02-28T18:23:14.742Z"
   },
   {
    "duration": 23,
    "start_time": "2022-02-28T18:23:15.635Z"
   },
   {
    "duration": 8,
    "start_time": "2022-02-28T18:23:15.661Z"
   },
   {
    "duration": 14,
    "start_time": "2022-02-28T18:23:15.671Z"
   },
   {
    "duration": 8,
    "start_time": "2022-02-28T18:23:15.687Z"
   },
   {
    "duration": 1033,
    "start_time": "2022-03-01T18:29:38.193Z"
   },
   {
    "duration": 45,
    "start_time": "2022-03-01T18:29:39.227Z"
   },
   {
    "duration": 9,
    "start_time": "2022-03-01T18:29:39.274Z"
   },
   {
    "duration": 11,
    "start_time": "2022-03-01T18:29:39.284Z"
   },
   {
    "duration": 13,
    "start_time": "2022-03-01T18:29:39.297Z"
   },
   {
    "duration": 12,
    "start_time": "2022-03-01T18:29:39.311Z"
   },
   {
    "duration": 13,
    "start_time": "2022-03-01T18:29:39.324Z"
   },
   {
    "duration": 11,
    "start_time": "2022-03-01T18:29:39.339Z"
   },
   {
    "duration": 6,
    "start_time": "2022-03-01T18:29:39.352Z"
   },
   {
    "duration": 8,
    "start_time": "2022-03-01T18:29:39.360Z"
   },
   {
    "duration": 42,
    "start_time": "2022-03-01T18:29:39.369Z"
   },
   {
    "duration": 10,
    "start_time": "2022-03-01T18:29:39.413Z"
   },
   {
    "duration": 15,
    "start_time": "2022-03-01T18:29:39.424Z"
   },
   {
    "duration": 296,
    "start_time": "2022-03-01T18:29:39.440Z"
   },
   {
    "duration": 7,
    "start_time": "2022-03-01T18:29:39.737Z"
   },
   {
    "duration": 15,
    "start_time": "2022-03-01T18:29:39.745Z"
   },
   {
    "duration": 399,
    "start_time": "2022-03-01T18:29:39.761Z"
   },
   {
    "duration": 16,
    "start_time": "2022-03-01T18:29:40.162Z"
   },
   {
    "duration": 303,
    "start_time": "2022-03-01T18:29:40.179Z"
   },
   {
    "duration": 356,
    "start_time": "2022-03-01T18:29:40.483Z"
   },
   {
    "duration": 212,
    "start_time": "2022-03-01T18:29:40.840Z"
   },
   {
    "duration": 337,
    "start_time": "2022-03-01T18:29:41.054Z"
   },
   {
    "duration": 20,
    "start_time": "2022-03-01T18:29:41.392Z"
   },
   {
    "duration": 273,
    "start_time": "2022-03-01T18:29:41.413Z"
   },
   {
    "duration": 785,
    "start_time": "2022-03-01T18:29:41.688Z"
   },
   {
    "duration": 792,
    "start_time": "2022-03-01T18:29:42.474Z"
   },
   {
    "duration": 11,
    "start_time": "2022-03-01T18:29:43.269Z"
   },
   {
    "duration": 54,
    "start_time": "2022-03-01T18:29:43.282Z"
   },
   {
    "duration": 3,
    "start_time": "2022-03-01T18:29:43.337Z"
   },
   {
    "duration": 436,
    "start_time": "2022-03-01T18:29:43.342Z"
   },
   {
    "duration": 432,
    "start_time": "2022-03-01T18:29:43.780Z"
   },
   {
    "duration": 6,
    "start_time": "2022-03-01T18:29:44.213Z"
   },
   {
    "duration": 16,
    "start_time": "2022-03-01T18:29:44.220Z"
   },
   {
    "duration": 195,
    "start_time": "2022-03-01T18:29:44.237Z"
   },
   {
    "duration": 538,
    "start_time": "2022-03-01T18:29:44.433Z"
   },
   {
    "duration": 8,
    "start_time": "2022-03-01T18:29:44.972Z"
   },
   {
    "duration": 19,
    "start_time": "2022-03-01T18:29:44.982Z"
   },
   {
    "duration": 19,
    "start_time": "2022-03-01T18:29:45.002Z"
   },
   {
    "duration": 22,
    "start_time": "2022-03-01T18:29:45.022Z"
   }
  ],
  "kernelspec": {
   "display_name": "Python 3 (ipykernel)",
   "language": "python",
   "name": "python3"
  },
  "language_info": {
   "codemirror_mode": {
    "name": "ipython",
    "version": 3
   },
   "file_extension": ".py",
   "mimetype": "text/x-python",
   "name": "python",
   "nbconvert_exporter": "python",
   "pygments_lexer": "ipython3",
   "version": "3.9.7"
  },
  "toc": {
   "base_numbering": 1,
   "nav_menu": {},
   "number_sections": true,
   "sideBar": true,
   "skip_h1_title": true,
   "title_cell": "Table of Contents",
   "title_sidebar": "Contents",
   "toc_cell": false,
   "toc_position": {},
   "toc_section_display": true,
   "toc_window_display": true
  }
 },
 "nbformat": 4,
 "nbformat_minor": 2
}
